{
 "metadata": {
  "name": ""
 },
 "nbformat": 3,
 "nbformat_minor": 0,
 "worksheets": [
  {
   "cells": [
    {
     "cell_type": "code",
     "collapsed": false,
     "input": [
      "import numpy as np\n",
      "import pandas as pd\n",
      "import matplotlib.pyplot as plt\n",
      "from IPython.display import display\n",
      "import mlabwrap\n",
      "mlab=mlabwrap.init('/Applications/MATLAB_R2013a.app/bin/matlab')"
     ],
     "language": "python",
     "metadata": {},
     "outputs": [],
     "prompt_number": 3
    },
    {
     "cell_type": "heading",
     "level": 1,
     "metadata": {},
     "source": [
      "Introduction to Linear Programming"
     ]
    },
    {
     "cell_type": "heading",
     "level": 3,
     "metadata": {},
     "source": [
      "Homework 1"
     ]
    },
    {
     "cell_type": "heading",
     "level": 3,
     "metadata": {},
     "source": [
      "Seyed Behzad Tabibian"
     ]
    },
    {
     "cell_type": "heading",
     "level": 4,
     "metadata": {},
     "source": [
      "Question 1 - A"
     ]
    },
    {
     "cell_type": "code",
     "collapsed": false,
     "input": [
      "%%latex\n",
      "\\begin{align}\n",
      "\\text{Max } P(x; y) = 5x + 2y\\\\\n",
      "\\text{Subject to}:\\\\\n",
      "x + y \\geq 2\\\\\n",
      "2x + y \\geq 4\\\\\n",
      "x; y \\geq 0\\\\\n",
      "\\end{align}"
     ],
     "language": "python",
     "metadata": {},
     "outputs": [
      {
       "latex": [
        "\\begin{align}\n",
        "\\text{Max } P(x; y) = 5x + 2y\\\\\n",
        "\\text{Subject to}:\\\\\n",
        "x + y \\geq 2\\\\\n",
        "2x + y \\geq 4\\\\\n",
        "x; y \\geq 0\\\\\n",
        "\\end{align}"
       ],
       "metadata": {},
       "output_type": "display_data",
       "text": [
        "<IPython.core.display.Latex at 0x109c98a10>"
       ]
      }
     ],
     "prompt_number": 32
    },
    {
     "cell_type": "code",
     "collapsed": false,
     "input": [
      "x=np.arange(0,10)\n",
      "c_1=-1*x+2\n",
      "c_2=-2*x+4\n",
      "f=lambda b:(-2.5*x+b)\n",
      "plt.plot(c_1,'r',linewidth=3)\n",
      "plt.plot(c_2,'b',linewidth=3)\n",
      "feasible=np.array([[0,4],[0,5],[5,5],[5,0],[2,0]])\n",
      "plt.gca().add_patch(plt.Polygon(feasible,color='gray'))\n",
      "map(lambda b:plt.plot(f(b),'-.k'),xrange(0,9))\n",
      "plt.text(2,0.2,'(10)',fontsize=12)\n",
      "plt.text(0.1,4,'(8)',fontsize=12)\n",
      "plt.xlim(0,3)\n",
      "_=plt.ylim(0,5)"
     ],
     "language": "python",
     "metadata": {},
     "outputs": [
      {
       "metadata": {},
       "output_type": "display_data",
       "png": "[encoded data removed]",
       "text": [
        "<matplotlib.figure.Figure at 0x10ad49850>"
       ]
      }
     ],
     "prompt_number": 112
    },
    {
     "cell_type": "markdown",
     "metadata": {},
     "source": [
      "It is clear from the plot that the Maximization problem is unbounded and the solution to minimization problem is (0,4)"
     ]
    },
    {
     "cell_type": "markdown",
     "metadata": {},
     "source": [
      "Matlab Linear Programming solution, which corresponds to infinity:"
     ]
    },
    {
     "cell_type": "code",
     "collapsed": false,
     "input": [
      "f=np.array([-5,-2])\n",
      "W=np.array([[-1,-1],[-2,-1],[-1,0],[0,-1]])\n",
      "B=np.array([-2,-4,0,0])\n",
      "mlab.linprog(f,W,B)"
     ],
     "language": "python",
     "metadata": {},
     "outputs": [
      {
       "metadata": {},
       "output_type": "pyout",
       "prompt_number": 12,
       "text": [
        "array([  5.99065774e+21,   2.62912198e+05])"
       ]
      }
     ],
     "prompt_number": 12
    },
    {
     "cell_type": "heading",
     "level": 4,
     "metadata": {},
     "source": [
      "Question 1 - B"
     ]
    },
    {
     "cell_type": "code",
     "collapsed": false,
     "input": [
      "%%latex\n",
      "\\begin{align}\n",
      "\\text{Min } P(x; y) = 5x + 2y\\\\\n",
      "\\text{Subject to}:\\\\\n",
      "x + y \\geq 2\\\\\n",
      "2x + y \\geq 4\\\\\n",
      "x; y \\geq 0\\\\\n",
      "\\end{align}"
     ],
     "language": "python",
     "metadata": {},
     "outputs": [
      {
       "latex": [
        "\\begin{align}\n",
        "\\text{Min } P(x; y) = 5x + 2y\\\\\n",
        "\\text{Subject to}:\\\\\n",
        "x + y \\geq 2\\\\\n",
        "2x + y \\geq 4\\\\\n",
        "x; y \\geq 0\\\\\n",
        "\\end{align}"
       ],
       "metadata": {},
       "output_type": "display_data",
       "text": [
        "<IPython.core.display.Latex at 0x11287f3d0>"
       ]
      }
     ],
     "prompt_number": 19
    },
    {
     "cell_type": "markdown",
     "metadata": {},
     "source": [
      "Matlab Linear Programming solution:"
     ]
    },
    {
     "cell_type": "code",
     "collapsed": false,
     "input": [
      "f=np.array([5,2])\n",
      "W=np.array([[-1,-1],[-2,-1],[-1,0],[0,-1]])\n",
      "B=np.array([-2,-4,0,0])\n",
      "mlab.linprog(f,W,B)"
     ],
     "language": "python",
     "metadata": {},
     "outputs": [
      {
       "metadata": {},
       "output_type": "pyout",
       "prompt_number": 8,
       "text": [
        "array([  2.29759394e-08,   3.99999995e+00])"
       ]
      }
     ],
     "prompt_number": 8
    },
    {
     "cell_type": "markdown",
     "metadata": {},
     "source": [
      "Which we solve by using the dual problem:"
     ]
    },
    {
     "cell_type": "code",
     "collapsed": false,
     "input": [
      "A=np.array([[1,1,2],[2,1,4],[5,2,1]])\n",
      "print 'A=\\n',A\n",
      "print 'A\\'=\\n',A.T"
     ],
     "language": "python",
     "metadata": {},
     "outputs": [
      {
       "output_type": "stream",
       "stream": "stdout",
       "text": [
        "A=\n",
        "[[1 1 2]\n",
        " [2 1 4]\n",
        " [5 2 1]]\n",
        "A'=\n",
        "[[1 2 5]\n",
        " [1 1 2]\n",
        " [2 4 1]]\n"
       ]
      }
     ],
     "prompt_number": 41
    },
    {
     "cell_type": "markdown",
     "metadata": {},
     "source": [
      "Which corresponds to following problem:"
     ]
    },
    {
     "cell_type": "code",
     "collapsed": false,
     "input": [
      "%%latex\n",
      "\\begin{align}\n",
      "\\text{Max } P(x; y) = 2x + 4y\\\\\n",
      "\\text{Subject to}:\\\\\n",
      "x + 2y \\leq 5\\\\\n",
      "x + y \\leq 2\\\\\n",
      "x; y \\geq 0\\\\\n",
      "\\end{align}"
     ],
     "language": "python",
     "metadata": {},
     "outputs": [
      {
       "latex": [
        "\\begin{align}\n",
        "\\text{Max } P(x; y) = 2x + 4y\\\\\n",
        "\\text{Subject to}:\\\\\n",
        "x + 2y \\leq 5\\\\\n",
        "x + y \\leq 2\\\\\n",
        "x; y \\geq 0\\\\\n",
        "\\end{align}"
       ],
       "metadata": {},
       "output_type": "display_data",
       "text": [
        "<IPython.core.display.Latex at 0x10ab18e10>"
       ]
      }
     ],
     "prompt_number": 42
    },
    {
     "cell_type": "markdown",
     "metadata": {},
     "source": [
      "Writing down the augumented matrix:"
     ]
    },
    {
     "cell_type": "code",
     "collapsed": false,
     "input": [
      "A=np.array([[1,2,1,0,0,5],[1,1,0,1,0,2],[-2,-4,0,0,1,0]])\n",
      "pd.DataFrame(A,index=['s_1','s_2','P'],columns=['x','y','s_1','s_2','P','b'])"
     ],
     "language": "python",
     "metadata": {},
     "outputs": [
      {
       "html": [
        "<div style=\"max-height:1000px;max-width:1500px;overflow:auto;\">\n",
        "<table border=\"1\" class=\"dataframe\">\n",
        "  <thead>\n",
        "    <tr style=\"text-align: right;\">\n",
        "      <th></th>\n",
        "      <th>x</th>\n",
        "      <th>y</th>\n",
        "      <th>s_1</th>\n",
        "      <th>s_2</th>\n",
        "      <th>P</th>\n",
        "      <th>b</th>\n",
        "    </tr>\n",
        "  </thead>\n",
        "  <tbody>\n",
        "    <tr>\n",
        "      <th>s_1</th>\n",
        "      <td> 1</td>\n",
        "      <td> 2</td>\n",
        "      <td> 1</td>\n",
        "      <td> 0</td>\n",
        "      <td> 0</td>\n",
        "      <td> 5</td>\n",
        "    </tr>\n",
        "    <tr>\n",
        "      <th>s_2</th>\n",
        "      <td> 1</td>\n",
        "      <td> 1</td>\n",
        "      <td> 0</td>\n",
        "      <td> 1</td>\n",
        "      <td> 0</td>\n",
        "      <td> 2</td>\n",
        "    </tr>\n",
        "    <tr>\n",
        "      <th>P</th>\n",
        "      <td>-2</td>\n",
        "      <td>-4</td>\n",
        "      <td> 0</td>\n",
        "      <td> 0</td>\n",
        "      <td> 1</td>\n",
        "      <td> 0</td>\n",
        "    </tr>\n",
        "  </tbody>\n",
        "</table>\n",
        "<p>3 rows \u00d7 6 columns</p>\n",
        "</div>"
       ],
       "metadata": {},
       "output_type": "pyout",
       "prompt_number": 53,
       "text": [
        "     x  y  s_1  s_2  P  b\n",
        "s_1  1  2    1    0  0  5\n",
        "s_2  1  1    0    1  0  2\n",
        "P   -2 -4    0    0  1  0\n",
        "\n",
        "[3 rows x 6 columns]"
       ]
      }
     ],
     "prompt_number": 53
    },
    {
     "cell_type": "markdown",
     "metadata": {},
     "source": [
      "Which has following basic solution:"
     ]
    },
    {
     "cell_type": "code",
     "collapsed": false,
     "input": [
      "%%latex\n",
      "\\begin{align}\n",
      "x=&0\\\\\n",
      "y=&0\\\\\n",
      "P=&0\\\\\n",
      "s_1=&5\\\\\n",
      "s_2=&2\\\\\n",
      "\\end{align}"
     ],
     "language": "python",
     "metadata": {},
     "outputs": [
      {
       "latex": [
        "\\begin{align}\n",
        "x=&0\\\\\n",
        "y=&0\\\\\n",
        "P=&0\\\\\n",
        "s_1=&5\\\\\n",
        "s_2=&2\\\\\n",
        "\\end{align}"
       ],
       "metadata": {},
       "output_type": "display_data",
       "text": [
        "<IPython.core.display.Latex at 0x10ab186d0>"
       ]
      }
     ],
     "prompt_number": 44
    },
    {
     "cell_type": "markdown",
     "metadata": {},
     "source": [
      "choosing column $y$ as pivot column and row $s_2$ as pivot row we do the pivot operation: "
     ]
    },
    {
     "cell_type": "code",
     "collapsed": false,
     "input": [
      "A[0,:]=A[0,:]-2*A[1,:]\n",
      "A[2,:]=A[2,:]+4*A[1,:]\n",
      "pd.DataFrame(A,index=['s_1','y','P'],columns=['x','y','s_1','s_2','P','b'])"
     ],
     "language": "python",
     "metadata": {},
     "outputs": [
      {
       "html": [
        "<div style=\"max-height:1000px;max-width:1500px;overflow:auto;\">\n",
        "<table border=\"1\" class=\"dataframe\">\n",
        "  <thead>\n",
        "    <tr style=\"text-align: right;\">\n",
        "      <th></th>\n",
        "      <th>x</th>\n",
        "      <th>y</th>\n",
        "      <th>s_1</th>\n",
        "      <th>s_2</th>\n",
        "      <th>P</th>\n",
        "      <th>b</th>\n",
        "    </tr>\n",
        "  </thead>\n",
        "  <tbody>\n",
        "    <tr>\n",
        "      <th>s_1</th>\n",
        "      <td>-1</td>\n",
        "      <td> 0</td>\n",
        "      <td> 1</td>\n",
        "      <td>-2</td>\n",
        "      <td> 0</td>\n",
        "      <td> 1</td>\n",
        "    </tr>\n",
        "    <tr>\n",
        "      <th>y</th>\n",
        "      <td> 1</td>\n",
        "      <td> 1</td>\n",
        "      <td> 0</td>\n",
        "      <td> 1</td>\n",
        "      <td> 0</td>\n",
        "      <td> 2</td>\n",
        "    </tr>\n",
        "    <tr>\n",
        "      <th>P</th>\n",
        "      <td> 2</td>\n",
        "      <td> 0</td>\n",
        "      <td> 0</td>\n",
        "      <td> 4</td>\n",
        "      <td> 1</td>\n",
        "      <td> 8</td>\n",
        "    </tr>\n",
        "  </tbody>\n",
        "</table>\n",
        "<p>3 rows \u00d7 6 columns</p>\n",
        "</div>"
       ],
       "metadata": {},
       "output_type": "pyout",
       "prompt_number": 54,
       "text": [
        "     x  y  s_1  s_2  P  b\n",
        "s_1 -1  0    1   -2  0  1\n",
        "y    1  1    0    1  0  2\n",
        "P    2  0    0    4  1  8\n",
        "\n",
        "[3 rows x 6 columns]"
       ]
      }
     ],
     "prompt_number": 54
    },
    {
     "cell_type": "markdown",
     "metadata": {},
     "source": [
      "This is matrix provides us with the solution:"
     ]
    },
    {
     "cell_type": "code",
     "collapsed": false,
     "input": [
      "%%latex\n",
      "\\begin{align}\n",
      "x=s_1&=0\\\\\n",
      "y=s_2&=4\\\\\n",
      "\\end{align}"
     ],
     "language": "python",
     "metadata": {},
     "outputs": [
      {
       "latex": [
        "\\begin{align}\n",
        "x=s_1&=0\\\\\n",
        "y=s_2&=4\\\\\n",
        "\\end{align}"
       ],
       "metadata": {},
       "output_type": "display_data",
       "text": [
        "<IPython.core.display.Latex at 0x11287f350>"
       ]
      }
     ],
     "prompt_number": 11
    },
    {
     "cell_type": "heading",
     "level": 4,
     "metadata": {},
     "source": [
      "Question 2"
     ]
    },
    {
     "cell_type": "code",
     "collapsed": false,
     "input": [
      "%%latex\n",
      "\\begin{align}\n",
      "\\text{Max } P(x; y) = 20x + 10y\\\\\n",
      "\\text{Subject to}:\\\\\n",
      "x + y \\geq 2\\\\\n",
      "x + y \\leq 8\\\\\n",
      "2x + y \\leq 10\\\\\n",
      "x; y \\geq 0\\\\\n",
      "\\end{align}"
     ],
     "language": "python",
     "metadata": {},
     "outputs": [
      {
       "latex": [
        "\\begin{align}\n",
        "\\text{Max } P(x; y) = 20x + 10y\\\\\n",
        "\\text{Subject to}:\\\\\n",
        "x + y \\geq 2\\\\\n",
        "x + y \\leq 8\\\\\n",
        "2x + y \\leq 10\\\\\n",
        "x; y \\geq 0\\\\\n",
        "\\end{align}"
       ],
       "metadata": {},
       "output_type": "display_data",
       "text": [
        "<IPython.core.display.Latex at 0x109bb3d90>"
       ]
      }
     ],
     "prompt_number": 114
    },
    {
     "cell_type": "code",
     "collapsed": false,
     "input": [
      "x=np.arange(0,11)\n",
      "c_1=-1*x+2\n",
      "c_2=-1*x+8\n",
      "c_3=-2*x+10\n",
      "f=lambda b:(-2*x+b/10.0)\n",
      "plt.plot(c_1,'r',linewidth=3)\n",
      "plt.plot(c_2,'b',linewidth=3)\n",
      "plt.plot(c_3,'g',linewidth=3)\n",
      "feasible=np.array([[0,2],[0,8],[2,6],[5,0],[2,0]])\n",
      "plt.gca().add_patch(plt.Polygon(feasible,color='gray'))\n",
      "map(lambda b:plt.plot(f(b),'-.k'),xrange(0,110,10))\n",
      "plt.text(0,2.2,'(20)',fontsize=12)\n",
      "plt.text(0,8,'(80)',fontsize=12)\n",
      "plt.text(2,6,'(100)',fontsize=12,weight='bold')\n",
      "plt.text(5,0.2,'(100)',fontsize=12,weight='bold')\n",
      "plt.text(2,0.2,'(40)',fontsize=12)\n",
      "plt.xlim(0,10)\n",
      "_=plt.ylim(0,10)"
     ],
     "language": "python",
     "metadata": {},
     "outputs": [
      {
       "metadata": {},
       "output_type": "display_data",
       "png": "[encoded data removed]",
       "text": [
        "<matplotlib.figure.Figure at 0x10af4c710>"
       ]
      }
     ],
     "prompt_number": 190
    },
    {
     "cell_type": "markdown",
     "metadata": {},
     "source": [
      "Matlab Linear Programming solution:"
     ]
    },
    {
     "cell_type": "code",
     "collapsed": false,
     "input": [
      "f=np.array([-20,-10])\n",
      "W=np.array([[-1,-1],[1,1],[2,1],[-1,0],[0,-1]])\n",
      "B=np.array([-2,8,10,0,0])\n",
      "mlab.linprog(f,W,B)"
     ],
     "language": "python",
     "metadata": {},
     "outputs": [
      {
       "metadata": {},
       "output_type": "pyout",
       "prompt_number": 15,
       "text": [
        "array([ 2.48014422,  5.03971157])"
       ]
      }
     ],
     "prompt_number": 15
    },
    {
     "cell_type": "code",
     "collapsed": false,
     "input": [
      "A=np.array([[1,1,-1,0,0,0,2],[1,1,0,1,0,0,8],[2,1,0,0,1,0,10],[20,10,0,0,0,1,0]])\n",
      "pd.DataFrame(A,index=['s_1','s_2','s_3','P'],columns=['x','y','s_1','s_2','s_3','P','b'])"
     ],
     "language": "python",
     "metadata": {},
     "outputs": [
      {
       "html": [
        "<div style=\"max-height:1000px;max-width:1500px;overflow:auto;\">\n",
        "<table border=\"1\" class=\"dataframe\">\n",
        "  <thead>\n",
        "    <tr style=\"text-align: right;\">\n",
        "      <th></th>\n",
        "      <th>x</th>\n",
        "      <th>y</th>\n",
        "      <th>s_1</th>\n",
        "      <th>s_2</th>\n",
        "      <th>s_3</th>\n",
        "      <th>P</th>\n",
        "      <th>b</th>\n",
        "    </tr>\n",
        "  </thead>\n",
        "  <tbody>\n",
        "    <tr>\n",
        "      <th>s_1</th>\n",
        "      <td>  1</td>\n",
        "      <td>  1</td>\n",
        "      <td>-1</td>\n",
        "      <td> 0</td>\n",
        "      <td> 0</td>\n",
        "      <td> 0</td>\n",
        "      <td>  2</td>\n",
        "    </tr>\n",
        "    <tr>\n",
        "      <th>s_2</th>\n",
        "      <td>  1</td>\n",
        "      <td>  1</td>\n",
        "      <td> 0</td>\n",
        "      <td> 1</td>\n",
        "      <td> 0</td>\n",
        "      <td> 0</td>\n",
        "      <td>  8</td>\n",
        "    </tr>\n",
        "    <tr>\n",
        "      <th>s_3</th>\n",
        "      <td>  2</td>\n",
        "      <td>  1</td>\n",
        "      <td> 0</td>\n",
        "      <td> 0</td>\n",
        "      <td> 1</td>\n",
        "      <td> 0</td>\n",
        "      <td> 10</td>\n",
        "    </tr>\n",
        "    <tr>\n",
        "      <th>P</th>\n",
        "      <td> 20</td>\n",
        "      <td> 10</td>\n",
        "      <td> 0</td>\n",
        "      <td> 0</td>\n",
        "      <td> 0</td>\n",
        "      <td> 1</td>\n",
        "      <td>  0</td>\n",
        "    </tr>\n",
        "  </tbody>\n",
        "</table>\n",
        "<p>4 rows \u00d7 7 columns</p>\n",
        "</div>"
       ],
       "metadata": {},
       "output_type": "pyout",
       "prompt_number": 116,
       "text": [
        "      x   y  s_1  s_2  s_3  P   b\n",
        "s_1   1   1   -1    0    0  0   2\n",
        "s_2   1   1    0    1    0  0   8\n",
        "s_3   2   1    0    0    1  0  10\n",
        "P    20  10    0    0    0  1   0\n",
        "\n",
        "[4 rows x 7 columns]"
       ]
      }
     ],
     "prompt_number": 116
    },
    {
     "cell_type": "code",
     "collapsed": false,
     "input": [
      "%%latex\n",
      "\\begin{align}\n",
      "x=&0\\\\\n",
      "y=&0\\\\\n",
      "P=&0\\\\\n",
      "s_1=&-2\\\\\n",
      "s_2=&8\\\\\n",
      "s_3=&10\n",
      "\\end{align}"
     ],
     "language": "python",
     "metadata": {},
     "outputs": [
      {
       "latex": [
        "\\begin{align}\n",
        "x=&0\\\\\n",
        "y=&0\\\\\n",
        "P=&0\\\\\n",
        "s_1=&-2\\\\\n",
        "s_2=&8\\\\\n",
        "s_3=&10\n",
        "\\end{align}"
       ],
       "metadata": {},
       "output_type": "display_data",
       "text": [
        "<IPython.core.display.Latex at 0x10acae6d0>"
       ]
      }
     ],
     "prompt_number": 117
    },
    {
     "cell_type": "code",
     "collapsed": false,
     "input": [
      "M=1000\n",
      "A=np.array([[1,1,-1,0,0,1,0,2],[1,1,0,1,0,0,0,8],[2,1,0,0,1,0,0,10],[-20,-10,0,0,0,M,1,0]])\n",
      "pd.DataFrame(A,index=['s_1','s_2','s_3','P'],columns=['x','y','s_1','s_2','s_3','a_1','P','b'])"
     ],
     "language": "python",
     "metadata": {},
     "outputs": [
      {
       "html": [
        "<div style=\"max-height:1000px;max-width:1500px;overflow:auto;\">\n",
        "<table border=\"1\" class=\"dataframe\">\n",
        "  <thead>\n",
        "    <tr style=\"text-align: right;\">\n",
        "      <th></th>\n",
        "      <th>x</th>\n",
        "      <th>y</th>\n",
        "      <th>s_1</th>\n",
        "      <th>s_2</th>\n",
        "      <th>s_3</th>\n",
        "      <th>a_1</th>\n",
        "      <th>P</th>\n",
        "      <th>b</th>\n",
        "    </tr>\n",
        "  </thead>\n",
        "  <tbody>\n",
        "    <tr>\n",
        "      <th>s_1</th>\n",
        "      <td>  1</td>\n",
        "      <td>  1</td>\n",
        "      <td>-1</td>\n",
        "      <td> 0</td>\n",
        "      <td> 0</td>\n",
        "      <td>    1</td>\n",
        "      <td> 0</td>\n",
        "      <td>  2</td>\n",
        "    </tr>\n",
        "    <tr>\n",
        "      <th>s_2</th>\n",
        "      <td>  1</td>\n",
        "      <td>  1</td>\n",
        "      <td> 0</td>\n",
        "      <td> 1</td>\n",
        "      <td> 0</td>\n",
        "      <td>    0</td>\n",
        "      <td> 0</td>\n",
        "      <td>  8</td>\n",
        "    </tr>\n",
        "    <tr>\n",
        "      <th>s_3</th>\n",
        "      <td>  2</td>\n",
        "      <td>  1</td>\n",
        "      <td> 0</td>\n",
        "      <td> 0</td>\n",
        "      <td> 1</td>\n",
        "      <td>    0</td>\n",
        "      <td> 0</td>\n",
        "      <td> 10</td>\n",
        "    </tr>\n",
        "    <tr>\n",
        "      <th>P</th>\n",
        "      <td>-20</td>\n",
        "      <td>-10</td>\n",
        "      <td> 0</td>\n",
        "      <td> 0</td>\n",
        "      <td> 0</td>\n",
        "      <td> 1000</td>\n",
        "      <td> 1</td>\n",
        "      <td>  0</td>\n",
        "    </tr>\n",
        "  </tbody>\n",
        "</table>\n",
        "<p>4 rows \u00d7 8 columns</p>\n",
        "</div>"
       ],
       "metadata": {},
       "output_type": "pyout",
       "prompt_number": 148,
       "text": [
        "      x   y  s_1  s_2  s_3   a_1  P   b\n",
        "s_1   1   1   -1    0    0     1  0   2\n",
        "s_2   1   1    0    1    0     0  0   8\n",
        "s_3   2   1    0    0    1     0  0  10\n",
        "P   -20 -10    0    0    0  1000  1   0\n",
        "\n",
        "[4 rows x 8 columns]"
       ]
      }
     ],
     "prompt_number": 148
    },
    {
     "cell_type": "code",
     "collapsed": false,
     "input": [
      "A[3,:]+=-M*A[0,:]\n",
      "pd.DataFrame(A,index=['a_1','s_2','s_3','P'],columns=['x','y','s_1','s_2','s_3','a_1','P','b'])"
     ],
     "language": "python",
     "metadata": {},
     "outputs": [
      {
       "html": [
        "<div style=\"max-height:1000px;max-width:1500px;overflow:auto;\">\n",
        "<table border=\"1\" class=\"dataframe\">\n",
        "  <thead>\n",
        "    <tr style=\"text-align: right;\">\n",
        "      <th></th>\n",
        "      <th>x</th>\n",
        "      <th>y</th>\n",
        "      <th>s_1</th>\n",
        "      <th>s_2</th>\n",
        "      <th>s_3</th>\n",
        "      <th>a_1</th>\n",
        "      <th>P</th>\n",
        "      <th>b</th>\n",
        "    </tr>\n",
        "  </thead>\n",
        "  <tbody>\n",
        "    <tr>\n",
        "      <th>a_1</th>\n",
        "      <td>    1</td>\n",
        "      <td>    1</td>\n",
        "      <td>   -1</td>\n",
        "      <td> 0</td>\n",
        "      <td> 0</td>\n",
        "      <td> 1</td>\n",
        "      <td> 0</td>\n",
        "      <td>    2</td>\n",
        "    </tr>\n",
        "    <tr>\n",
        "      <th>s_2</th>\n",
        "      <td>    1</td>\n",
        "      <td>    1</td>\n",
        "      <td>    0</td>\n",
        "      <td> 1</td>\n",
        "      <td> 0</td>\n",
        "      <td> 0</td>\n",
        "      <td> 0</td>\n",
        "      <td>    8</td>\n",
        "    </tr>\n",
        "    <tr>\n",
        "      <th>s_3</th>\n",
        "      <td>    2</td>\n",
        "      <td>    1</td>\n",
        "      <td>    0</td>\n",
        "      <td> 0</td>\n",
        "      <td> 1</td>\n",
        "      <td> 0</td>\n",
        "      <td> 0</td>\n",
        "      <td>   10</td>\n",
        "    </tr>\n",
        "    <tr>\n",
        "      <th>P</th>\n",
        "      <td>-1020</td>\n",
        "      <td>-1010</td>\n",
        "      <td> 1000</td>\n",
        "      <td> 0</td>\n",
        "      <td> 0</td>\n",
        "      <td> 0</td>\n",
        "      <td> 1</td>\n",
        "      <td>-2000</td>\n",
        "    </tr>\n",
        "  </tbody>\n",
        "</table>\n",
        "<p>4 rows \u00d7 8 columns</p>\n",
        "</div>"
       ],
       "metadata": {},
       "output_type": "pyout",
       "prompt_number": 149,
       "text": [
        "        x     y   s_1  s_2  s_3  a_1  P     b\n",
        "a_1     1     1    -1    0    0    1  0     2\n",
        "s_2     1     1     0    1    0    0  0     8\n",
        "s_3     2     1     0    0    1    0  0    10\n",
        "P   -1020 -1010  1000    0    0    0  1 -2000\n",
        "\n",
        "[4 rows x 8 columns]"
       ]
      }
     ],
     "prompt_number": 149
    },
    {
     "cell_type": "code",
     "collapsed": false,
     "input": [
      "%%latex\n",
      "\\begin{align}\n",
      "x=&0\\\\\n",
      "y=&0\\\\\n",
      "P=&0\\\\\n",
      "s_1=&0\\\\\n",
      "s_2=&8\\\\\n",
      "s_3=&10\\\\\n",
      "a_1=&2\\\\\n",
      "\\end{align}"
     ],
     "language": "python",
     "metadata": {},
     "outputs": [
      {
       "latex": [
        "\\begin{align}\n",
        "x=&0\\\\\n",
        "y=&0\\\\\n",
        "P=&0\\\\\n",
        "s_1=&0\\\\\n",
        "s_2=&8\\\\\n",
        "s_3=&10\\\\\n",
        "a_1=&2\\\\\n",
        "\\end{align}"
       ],
       "metadata": {},
       "output_type": "display_data",
       "text": [
        "<IPython.core.display.Latex at 0x10abd3bd0>"
       ]
      }
     ],
     "prompt_number": 131
    },
    {
     "cell_type": "markdown",
     "metadata": {},
     "source": [
      "Here we write a simple function to do the pivot operation:"
     ]
    },
    {
     "cell_type": "code",
     "collapsed": false,
     "input": [
      "def do_row(A,R,C):\n",
      "    def check(r):\n",
      "        if r!=R:\n",
      "            return True\n",
      "        else:\n",
      "            return False\n",
      "    def row_op(r):\n",
      "        A[r,:]+=-A[r,C]*A[R,:]/A[R,C]\n",
      "    map(row_op,filter(check,xrange(A.shape[0])))"
     ],
     "language": "python",
     "metadata": {},
     "outputs": [],
     "prompt_number": 139
    },
    {
     "cell_type": "code",
     "collapsed": false,
     "input": [
      "R=0\n",
      "C=0\n",
      "do_row(A,R,C)\n",
      "pd.DataFrame(A,index=['x','s_2','s_3','P'],columns=['x','y','s_1','s_2','s_3','a_1','P','b'])"
     ],
     "language": "python",
     "metadata": {},
     "outputs": [
      {
       "html": [
        "<div style=\"max-height:1000px;max-width:1500px;overflow:auto;\">\n",
        "<table border=\"1\" class=\"dataframe\">\n",
        "  <thead>\n",
        "    <tr style=\"text-align: right;\">\n",
        "      <th></th>\n",
        "      <th>x</th>\n",
        "      <th>y</th>\n",
        "      <th>s_1</th>\n",
        "      <th>s_2</th>\n",
        "      <th>s_3</th>\n",
        "      <th>a_1</th>\n",
        "      <th>P</th>\n",
        "      <th>b</th>\n",
        "    </tr>\n",
        "  </thead>\n",
        "  <tbody>\n",
        "    <tr>\n",
        "      <th>x</th>\n",
        "      <td> 1</td>\n",
        "      <td>  1</td>\n",
        "      <td> -1</td>\n",
        "      <td> 0</td>\n",
        "      <td> 0</td>\n",
        "      <td>    1</td>\n",
        "      <td> 0</td>\n",
        "      <td>  2</td>\n",
        "    </tr>\n",
        "    <tr>\n",
        "      <th>s_2</th>\n",
        "      <td> 0</td>\n",
        "      <td>  0</td>\n",
        "      <td>  1</td>\n",
        "      <td> 1</td>\n",
        "      <td> 0</td>\n",
        "      <td>   -1</td>\n",
        "      <td> 0</td>\n",
        "      <td>  6</td>\n",
        "    </tr>\n",
        "    <tr>\n",
        "      <th>s_3</th>\n",
        "      <td> 0</td>\n",
        "      <td> -1</td>\n",
        "      <td>  2</td>\n",
        "      <td> 0</td>\n",
        "      <td> 1</td>\n",
        "      <td>   -2</td>\n",
        "      <td> 0</td>\n",
        "      <td>  6</td>\n",
        "    </tr>\n",
        "    <tr>\n",
        "      <th>P</th>\n",
        "      <td> 0</td>\n",
        "      <td> 10</td>\n",
        "      <td>-20</td>\n",
        "      <td> 0</td>\n",
        "      <td> 0</td>\n",
        "      <td> 1020</td>\n",
        "      <td> 1</td>\n",
        "      <td> 40</td>\n",
        "    </tr>\n",
        "  </tbody>\n",
        "</table>\n",
        "<p>4 rows \u00d7 8 columns</p>\n",
        "</div>"
       ],
       "metadata": {},
       "output_type": "pyout",
       "prompt_number": 150,
       "text": [
        "     x   y  s_1  s_2  s_3   a_1  P   b\n",
        "x    1   1   -1    0    0     1  0   2\n",
        "s_2  0   0    1    1    0    -1  0   6\n",
        "s_3  0  -1    2    0    1    -2  0   6\n",
        "P    0  10  -20    0    0  1020  1  40\n",
        "\n",
        "[4 rows x 8 columns]"
       ]
      }
     ],
     "prompt_number": 150
    },
    {
     "cell_type": "code",
     "collapsed": false,
     "input": [
      "R=2\n",
      "C=2\n",
      "do_row(A,R,C)\n",
      "pd.DataFrame(A,index=['x','s_2','s_1','P'],columns=['x','y','s_1','s_2','s_3','a_1','P','b'])"
     ],
     "language": "python",
     "metadata": {},
     "outputs": [
      {
       "html": [
        "<div style=\"max-height:1000px;max-width:1500px;overflow:auto;\">\n",
        "<table border=\"1\" class=\"dataframe\">\n",
        "  <thead>\n",
        "    <tr style=\"text-align: right;\">\n",
        "      <th></th>\n",
        "      <th>x</th>\n",
        "      <th>y</th>\n",
        "      <th>s_1</th>\n",
        "      <th>s_2</th>\n",
        "      <th>s_3</th>\n",
        "      <th>a_1</th>\n",
        "      <th>P</th>\n",
        "      <th>b</th>\n",
        "    </tr>\n",
        "  </thead>\n",
        "  <tbody>\n",
        "    <tr>\n",
        "      <th>x</th>\n",
        "      <td> 1</td>\n",
        "      <td> 0</td>\n",
        "      <td> 0</td>\n",
        "      <td> 0</td>\n",
        "      <td>  0</td>\n",
        "      <td>    0</td>\n",
        "      <td> 0</td>\n",
        "      <td>   5</td>\n",
        "    </tr>\n",
        "    <tr>\n",
        "      <th>s_2</th>\n",
        "      <td> 0</td>\n",
        "      <td> 0</td>\n",
        "      <td> 0</td>\n",
        "      <td> 1</td>\n",
        "      <td> -1</td>\n",
        "      <td>    0</td>\n",
        "      <td> 0</td>\n",
        "      <td>   3</td>\n",
        "    </tr>\n",
        "    <tr>\n",
        "      <th>s_1</th>\n",
        "      <td> 0</td>\n",
        "      <td>-1</td>\n",
        "      <td> 2</td>\n",
        "      <td> 0</td>\n",
        "      <td>  1</td>\n",
        "      <td>   -2</td>\n",
        "      <td> 0</td>\n",
        "      <td>   6</td>\n",
        "    </tr>\n",
        "    <tr>\n",
        "      <th>P</th>\n",
        "      <td> 0</td>\n",
        "      <td> 0</td>\n",
        "      <td> 0</td>\n",
        "      <td> 0</td>\n",
        "      <td> 10</td>\n",
        "      <td> 1000</td>\n",
        "      <td> 1</td>\n",
        "      <td> 100</td>\n",
        "    </tr>\n",
        "  </tbody>\n",
        "</table>\n",
        "<p>4 rows \u00d7 8 columns</p>\n",
        "</div>"
       ],
       "metadata": {},
       "output_type": "pyout",
       "prompt_number": 151,
       "text": [
        "     x  y  s_1  s_2  s_3   a_1  P    b\n",
        "x    1  0    0    0    0     0  0    5\n",
        "s_2  0  0    0    1   -1     0  0    3\n",
        "s_1  0 -1    2    0    1    -2  0    6\n",
        "P    0  0    0    0   10  1000  1  100\n",
        "\n",
        "[4 rows x 8 columns]"
       ]
      }
     ],
     "prompt_number": 151
    },
    {
     "cell_type": "code",
     "collapsed": false,
     "input": [
      "%%latex\n",
      "\\begin{align}\n",
      "x=&5\\\\\n",
      "y=&0\\\\\n",
      "P=&100\\\\\n",
      "s_1=&3\\\\\n",
      "s_2=&3\\\\\n",
      "s_3=&0\\\\\n",
      "a_1=&0\\\\\n",
      "\\end{align}"
     ],
     "language": "python",
     "metadata": {},
     "outputs": [
      {
       "latex": [
        "\\begin{align}\n",
        "x=&5\\\\\n",
        "y=&0\\\\\n",
        "P=&100\\\\\n",
        "s_1=&3\\\\\n",
        "s_2=&3\\\\\n",
        "s_3=&0\\\\\n",
        "a_1=&0\\\\\n",
        "\\end{align}"
       ],
       "metadata": {},
       "output_type": "display_data",
       "text": [
        "<IPython.core.display.Latex at 0x10abd3190>"
       ]
      }
     ],
     "prompt_number": 152
    },
    {
     "cell_type": "markdown",
     "metadata": {},
     "source": [
      "Since one of the constraint lines is parallel to objective function the whole line segment is optimal. The other end of the line is picked by Matlab solver."
     ]
    },
    {
     "cell_type": "heading",
     "level": 4,
     "metadata": {},
     "source": [
      "Question 3 - A"
     ]
    },
    {
     "cell_type": "code",
     "collapsed": false,
     "input": [
      "%%latex\n",
      "\\begin{align}\n",
      "\\text{Max } P(x; y) =& 20x + 10y\\\\\n",
      "\\text{Subject to}:&\\\\\n",
      "2x + 3y \\geq& 30\\\\\n",
      "2x + y \\leq& 26\\\\\n",
      "-2x + 5y \\leq& 34\\\\\n",
      "x; y \\geq& 0\\\\\n",
      "\\end{align}"
     ],
     "language": "python",
     "metadata": {},
     "outputs": [
      {
       "latex": [
        "\\begin{align}\n",
        "\\text{Max } P(x; y) =& 20x + 10y\\\\\n",
        "\\text{Subject to}:&\\\\\n",
        "2x + 3y \\geq& 30\\\\\n",
        "2x + y \\leq& 26\\\\\n",
        "-2x + 5y \\leq& 34\\\\\n",
        "x; y \\geq& 0\\\\\n",
        "\\end{align}"
       ],
       "metadata": {},
       "output_type": "display_data",
       "text": [
        "<IPython.core.display.Latex at 0x10b3d8dd0>"
       ]
      }
     ],
     "prompt_number": 193
    },
    {
     "cell_type": "code",
     "collapsed": false,
     "input": [
      "x=np.arange(0,51)\n",
      "c_1=-2.0/3*x+30/3\n",
      "c_2=-2.0*x+26.0\n",
      "c_3=2.0/5*x+34/5.0\n",
      "f=lambda b:(-2*x+b/10.0)\n",
      "plt.plot(c_1,'r',linewidth=3)\n",
      "plt.plot(c_2,'b',linewidth=3)\n",
      "plt.plot(c_3,'g',linewidth=3)\n",
      "feasible=np.array([[3,8],[8,10],[12,2]])\n",
      "plt.gca().add_patch(plt.Polygon(feasible,color='gray'))\n",
      "map(lambda b:plt.plot(f(b),'-.k'),xrange(0,300,30))\n",
      "plt.text(3,8.2,'(140)',fontsize=12)\n",
      "plt.text(8,10,'(260)',fontsize=12,weight='bold')\n",
      "plt.text(12,2.2,'(260)',fontsize=12,weight='bold')\n",
      "\n",
      "plt.xlim(0,50)\n",
      "_=plt.ylim(0,50)"
     ],
     "language": "python",
     "metadata": {},
     "outputs": [
      {
       "metadata": {},
       "output_type": "display_data",
       "png": "[encoded data removed]",
       "text": [
        "<matplotlib.figure.Figure at 0x10ba96d50>"
       ]
      }
     ],
     "prompt_number": 254
    },
    {
     "cell_type": "markdown",
     "metadata": {},
     "source": [
      "Matlab Linear Programming solution:"
     ]
    },
    {
     "cell_type": "code",
     "collapsed": false,
     "input": [
      "f=np.array([-20,-10])\n",
      "W=np.array([[-2,-3],[2,1],[-2,5],[-1,0],[0,-1]])\n",
      "B=np.array([-30,26,34,0,0])\n",
      "mlab.linprog(f,W,B)"
     ],
     "language": "python",
     "metadata": {},
     "outputs": [
      {
       "metadata": {},
       "output_type": "pyout",
       "prompt_number": 16,
       "text": [
        "array([ 9.71445097,  6.57109806])"
       ]
      }
     ],
     "prompt_number": 16
    },
    {
     "cell_type": "code",
     "collapsed": false,
     "input": [
      "A=np.array([[2,3,-1,0,0,0,30],[2,1,0,1,0,0,26],[-2,5,0,0,1,0,34],[-20,-10,0,0,0,1,0]])\n",
      "pd.DataFrame(A,index=['s_1','s_2','s_3','P'],columns=['x','y','s_1','s_2','s_3','P','b'])"
     ],
     "language": "python",
     "metadata": {},
     "outputs": [
      {
       "html": [
        "<div style=\"max-height:1000px;max-width:1500px;overflow:auto;\">\n",
        "<table border=\"1\" class=\"dataframe\">\n",
        "  <thead>\n",
        "    <tr style=\"text-align: right;\">\n",
        "      <th></th>\n",
        "      <th>x</th>\n",
        "      <th>y</th>\n",
        "      <th>s_1</th>\n",
        "      <th>s_2</th>\n",
        "      <th>s_3</th>\n",
        "      <th>P</th>\n",
        "      <th>b</th>\n",
        "    </tr>\n",
        "  </thead>\n",
        "  <tbody>\n",
        "    <tr>\n",
        "      <th>s_1</th>\n",
        "      <td>  2</td>\n",
        "      <td>  3</td>\n",
        "      <td>-1</td>\n",
        "      <td> 0</td>\n",
        "      <td> 0</td>\n",
        "      <td> 0</td>\n",
        "      <td> 30</td>\n",
        "    </tr>\n",
        "    <tr>\n",
        "      <th>s_2</th>\n",
        "      <td>  2</td>\n",
        "      <td>  1</td>\n",
        "      <td> 0</td>\n",
        "      <td> 1</td>\n",
        "      <td> 0</td>\n",
        "      <td> 0</td>\n",
        "      <td> 26</td>\n",
        "    </tr>\n",
        "    <tr>\n",
        "      <th>s_3</th>\n",
        "      <td> -2</td>\n",
        "      <td>  5</td>\n",
        "      <td> 0</td>\n",
        "      <td> 0</td>\n",
        "      <td> 1</td>\n",
        "      <td> 0</td>\n",
        "      <td> 34</td>\n",
        "    </tr>\n",
        "    <tr>\n",
        "      <th>P</th>\n",
        "      <td>-20</td>\n",
        "      <td>-10</td>\n",
        "      <td> 0</td>\n",
        "      <td> 0</td>\n",
        "      <td> 0</td>\n",
        "      <td> 1</td>\n",
        "      <td>  0</td>\n",
        "    </tr>\n",
        "  </tbody>\n",
        "</table>\n",
        "<p>4 rows \u00d7 7 columns</p>\n",
        "</div>"
       ],
       "metadata": {},
       "output_type": "pyout",
       "prompt_number": 230,
       "text": [
        "      x   y  s_1  s_2  s_3  P   b\n",
        "s_1   2   3   -1    0    0  0  30\n",
        "s_2   2   1    0    1    0  0  26\n",
        "s_3  -2   5    0    0    1  0  34\n",
        "P   -20 -10    0    0    0  1   0\n",
        "\n",
        "[4 rows x 7 columns]"
       ]
      }
     ],
     "prompt_number": 230
    },
    {
     "cell_type": "markdown",
     "metadata": {},
     "source": [
      "This is not a valid basic solution"
     ]
    },
    {
     "cell_type": "code",
     "collapsed": false,
     "input": [
      "%%latex\n",
      "\\begin{align}\n",
      "\\text{Max } P(x; y) =& 20x + 10y -Ma_1\\\\\n",
      "\\text{Subject to}:&\\\\\n",
      "2x + 3y -s_1+a_1=& 30\\\\\n",
      "2x + y \\leq& 26\\\\\n",
      "-2x + 5y \\leq& 34\\\\\n",
      "x; y \\geq& 0\\\\\n",
      "\\end{align}"
     ],
     "language": "python",
     "metadata": {},
     "outputs": [
      {
       "latex": [
        "\\begin{align}\n",
        "\\text{Max } P(x; y) =& 20x + 10y -Ma_1\\\\\n",
        "\\text{Subject to}:&\\\\\n",
        "2x + 3y -s_1+a_1=& 30\\\\\n",
        "2x + y \\leq& 26\\\\\n",
        "-2x + 5y \\leq& 34\\\\\n",
        "x; y \\geq& 0\\\\\n",
        "\\end{align}"
       ],
       "metadata": {},
       "output_type": "display_data",
       "text": [
        "<IPython.core.display.Latex at 0x10bae6fd0>"
       ]
      }
     ],
     "prompt_number": 231
    },
    {
     "cell_type": "code",
     "collapsed": false,
     "input": [
      "A=np.array([[2.0,3.0,-1.0,0,0,1.0,0,30.0],[2.0,1.0,0,1.0,0,0,0,26.0],[-2.0,5.0,0,0,1.0,0,0,34.0],[-20.0,-10,0,0,0,M,1.0,0]])\n",
      "pd.DataFrame(A,index=['s_1','s_2','s_3','P'],columns=['x','y','s_1','s_2','s_3','a_1','P','b'])"
     ],
     "language": "python",
     "metadata": {},
     "outputs": [
      {
       "html": [
        "<div style=\"max-height:1000px;max-width:1500px;overflow:auto;\">\n",
        "<table border=\"1\" class=\"dataframe\">\n",
        "  <thead>\n",
        "    <tr style=\"text-align: right;\">\n",
        "      <th></th>\n",
        "      <th>x</th>\n",
        "      <th>y</th>\n",
        "      <th>s_1</th>\n",
        "      <th>s_2</th>\n",
        "      <th>s_3</th>\n",
        "      <th>a_1</th>\n",
        "      <th>P</th>\n",
        "      <th>b</th>\n",
        "    </tr>\n",
        "  </thead>\n",
        "  <tbody>\n",
        "    <tr>\n",
        "      <th>s_1</th>\n",
        "      <td>  2</td>\n",
        "      <td>  3</td>\n",
        "      <td>-1</td>\n",
        "      <td> 0</td>\n",
        "      <td> 0</td>\n",
        "      <td>    1</td>\n",
        "      <td> 0</td>\n",
        "      <td> 30</td>\n",
        "    </tr>\n",
        "    <tr>\n",
        "      <th>s_2</th>\n",
        "      <td>  2</td>\n",
        "      <td>  1</td>\n",
        "      <td> 0</td>\n",
        "      <td> 1</td>\n",
        "      <td> 0</td>\n",
        "      <td>    0</td>\n",
        "      <td> 0</td>\n",
        "      <td> 26</td>\n",
        "    </tr>\n",
        "    <tr>\n",
        "      <th>s_3</th>\n",
        "      <td> -2</td>\n",
        "      <td>  5</td>\n",
        "      <td> 0</td>\n",
        "      <td> 0</td>\n",
        "      <td> 1</td>\n",
        "      <td>    0</td>\n",
        "      <td> 0</td>\n",
        "      <td> 34</td>\n",
        "    </tr>\n",
        "    <tr>\n",
        "      <th>P</th>\n",
        "      <td>-20</td>\n",
        "      <td>-10</td>\n",
        "      <td> 0</td>\n",
        "      <td> 0</td>\n",
        "      <td> 0</td>\n",
        "      <td> 1000</td>\n",
        "      <td> 1</td>\n",
        "      <td>  0</td>\n",
        "    </tr>\n",
        "  </tbody>\n",
        "</table>\n",
        "<p>4 rows \u00d7 8 columns</p>\n",
        "</div>"
       ],
       "metadata": {},
       "output_type": "pyout",
       "prompt_number": 232,
       "text": [
        "      x   y  s_1  s_2  s_3   a_1  P   b\n",
        "s_1   2   3   -1    0    0     1  0  30\n",
        "s_2   2   1    0    1    0     0  0  26\n",
        "s_3  -2   5    0    0    1     0  0  34\n",
        "P   -20 -10    0    0    0  1000  1   0\n",
        "\n",
        "[4 rows x 8 columns]"
       ]
      }
     ],
     "prompt_number": 232
    },
    {
     "cell_type": "code",
     "collapsed": false,
     "input": [
      "A[3,:]+=-M*A[0,:]\n",
      "pd.DataFrame(A,index=['a_1','s_2','s_3','P'],columns=['x','y','s_1','s_2','s_3','a_1','P','b'])"
     ],
     "language": "python",
     "metadata": {},
     "outputs": [
      {
       "html": [
        "<div style=\"max-height:1000px;max-width:1500px;overflow:auto;\">\n",
        "<table border=\"1\" class=\"dataframe\">\n",
        "  <thead>\n",
        "    <tr style=\"text-align: right;\">\n",
        "      <th></th>\n",
        "      <th>x</th>\n",
        "      <th>y</th>\n",
        "      <th>s_1</th>\n",
        "      <th>s_2</th>\n",
        "      <th>s_3</th>\n",
        "      <th>a_1</th>\n",
        "      <th>P</th>\n",
        "      <th>b</th>\n",
        "    </tr>\n",
        "  </thead>\n",
        "  <tbody>\n",
        "    <tr>\n",
        "      <th>a_1</th>\n",
        "      <td>    2</td>\n",
        "      <td>    3</td>\n",
        "      <td>   -1</td>\n",
        "      <td> 0</td>\n",
        "      <td> 0</td>\n",
        "      <td> 1</td>\n",
        "      <td> 0</td>\n",
        "      <td>    30</td>\n",
        "    </tr>\n",
        "    <tr>\n",
        "      <th>s_2</th>\n",
        "      <td>    2</td>\n",
        "      <td>    1</td>\n",
        "      <td>    0</td>\n",
        "      <td> 1</td>\n",
        "      <td> 0</td>\n",
        "      <td> 0</td>\n",
        "      <td> 0</td>\n",
        "      <td>    26</td>\n",
        "    </tr>\n",
        "    <tr>\n",
        "      <th>s_3</th>\n",
        "      <td>   -2</td>\n",
        "      <td>    5</td>\n",
        "      <td>    0</td>\n",
        "      <td> 0</td>\n",
        "      <td> 1</td>\n",
        "      <td> 0</td>\n",
        "      <td> 0</td>\n",
        "      <td>    34</td>\n",
        "    </tr>\n",
        "    <tr>\n",
        "      <th>P</th>\n",
        "      <td>-2020</td>\n",
        "      <td>-3010</td>\n",
        "      <td> 1000</td>\n",
        "      <td> 0</td>\n",
        "      <td> 0</td>\n",
        "      <td> 0</td>\n",
        "      <td> 1</td>\n",
        "      <td>-30000</td>\n",
        "    </tr>\n",
        "  </tbody>\n",
        "</table>\n",
        "<p>4 rows \u00d7 8 columns</p>\n",
        "</div>"
       ],
       "metadata": {},
       "output_type": "pyout",
       "prompt_number": 233,
       "text": [
        "        x     y   s_1  s_2  s_3  a_1  P      b\n",
        "a_1     2     3    -1    0    0    1  0     30\n",
        "s_2     2     1     0    1    0    0  0     26\n",
        "s_3    -2     5     0    0    1    0  0     34\n",
        "P   -2020 -3010  1000    0    0    0  1 -30000\n",
        "\n",
        "[4 rows x 8 columns]"
       ]
      }
     ],
     "prompt_number": 233
    },
    {
     "cell_type": "code",
     "collapsed": false,
     "input": [
      "R=2\n",
      "C=1\n",
      "do_row(A,R,C)\n",
      "pd.DataFrame(A,index=['a_1','s_2','y','P'],columns=['x','y','s_1','s_2','s_3','a_1','P','b'])"
     ],
     "language": "python",
     "metadata": {},
     "outputs": [
      {
       "html": [
        "<div style=\"max-height:1000px;max-width:1500px;overflow:auto;\">\n",
        "<table border=\"1\" class=\"dataframe\">\n",
        "  <thead>\n",
        "    <tr style=\"text-align: right;\">\n",
        "      <th></th>\n",
        "      <th>x</th>\n",
        "      <th>y</th>\n",
        "      <th>s_1</th>\n",
        "      <th>s_2</th>\n",
        "      <th>s_3</th>\n",
        "      <th>a_1</th>\n",
        "      <th>P</th>\n",
        "      <th>b</th>\n",
        "    </tr>\n",
        "  </thead>\n",
        "  <tbody>\n",
        "    <tr>\n",
        "      <th>a_1</th>\n",
        "      <td>    3.2</td>\n",
        "      <td> 0</td>\n",
        "      <td>   -1</td>\n",
        "      <td> 0</td>\n",
        "      <td>  -0.6</td>\n",
        "      <td> 1</td>\n",
        "      <td> 0</td>\n",
        "      <td>    9.6</td>\n",
        "    </tr>\n",
        "    <tr>\n",
        "      <th>s_2</th>\n",
        "      <td>    2.4</td>\n",
        "      <td> 0</td>\n",
        "      <td>    0</td>\n",
        "      <td> 1</td>\n",
        "      <td>  -0.2</td>\n",
        "      <td> 0</td>\n",
        "      <td> 0</td>\n",
        "      <td>   19.2</td>\n",
        "    </tr>\n",
        "    <tr>\n",
        "      <th>y</th>\n",
        "      <td>   -2.0</td>\n",
        "      <td> 5</td>\n",
        "      <td>    0</td>\n",
        "      <td> 0</td>\n",
        "      <td>   1.0</td>\n",
        "      <td> 0</td>\n",
        "      <td> 0</td>\n",
        "      <td>   34.0</td>\n",
        "    </tr>\n",
        "    <tr>\n",
        "      <th>P</th>\n",
        "      <td>-3224.0</td>\n",
        "      <td> 0</td>\n",
        "      <td> 1000</td>\n",
        "      <td> 0</td>\n",
        "      <td> 602.0</td>\n",
        "      <td> 0</td>\n",
        "      <td> 1</td>\n",
        "      <td>-9532.0</td>\n",
        "    </tr>\n",
        "  </tbody>\n",
        "</table>\n",
        "<p>4 rows \u00d7 8 columns</p>\n",
        "</div>"
       ],
       "metadata": {},
       "output_type": "pyout",
       "prompt_number": 234,
       "text": [
        "          x  y   s_1  s_2    s_3  a_1  P       b\n",
        "a_1     3.2  0    -1    0   -0.6    1  0     9.6\n",
        "s_2     2.4  0     0    1   -0.2    0  0    19.2\n",
        "y      -2.0  5     0    0    1.0    0  0    34.0\n",
        "P   -3224.0  0  1000    0  602.0    0  1 -9532.0\n",
        "\n",
        "[4 rows x 8 columns]"
       ]
      }
     ],
     "prompt_number": 234
    },
    {
     "cell_type": "code",
     "collapsed": false,
     "input": [
      "R=0\n",
      "C=0\n",
      "do_row(A,R,C)\n",
      "pd.DataFrame(A,index=['x','s_2','y','P'],columns=['x','y','s_1','s_2','s_3','a_1','P','b'])"
     ],
     "language": "python",
     "metadata": {},
     "outputs": [
      {
       "html": [
        "<div style=\"max-height:1000px;max-width:1500px;overflow:auto;\">\n",
        "<table border=\"1\" class=\"dataframe\">\n",
        "  <thead>\n",
        "    <tr style=\"text-align: right;\">\n",
        "      <th></th>\n",
        "      <th>x</th>\n",
        "      <th>y</th>\n",
        "      <th>s_1</th>\n",
        "      <th>s_2</th>\n",
        "      <th>s_3</th>\n",
        "      <th>a_1</th>\n",
        "      <th>P</th>\n",
        "      <th>b</th>\n",
        "    </tr>\n",
        "  </thead>\n",
        "  <tbody>\n",
        "    <tr>\n",
        "      <th>x</th>\n",
        "      <td> 3.2</td>\n",
        "      <td> 0</td>\n",
        "      <td>-1.000</td>\n",
        "      <td> 0</td>\n",
        "      <td>-0.600</td>\n",
        "      <td>    1.000</td>\n",
        "      <td> 0</td>\n",
        "      <td>   9.6</td>\n",
        "    </tr>\n",
        "    <tr>\n",
        "      <th>s_2</th>\n",
        "      <td> 0.0</td>\n",
        "      <td> 0</td>\n",
        "      <td> 0.750</td>\n",
        "      <td> 1</td>\n",
        "      <td> 0.250</td>\n",
        "      <td>   -0.750</td>\n",
        "      <td> 0</td>\n",
        "      <td>  12.0</td>\n",
        "    </tr>\n",
        "    <tr>\n",
        "      <th>y</th>\n",
        "      <td> 0.0</td>\n",
        "      <td> 5</td>\n",
        "      <td>-0.625</td>\n",
        "      <td> 0</td>\n",
        "      <td> 0.625</td>\n",
        "      <td>    0.625</td>\n",
        "      <td> 0</td>\n",
        "      <td>  40.0</td>\n",
        "    </tr>\n",
        "    <tr>\n",
        "      <th>P</th>\n",
        "      <td> 0.0</td>\n",
        "      <td> 0</td>\n",
        "      <td>-7.500</td>\n",
        "      <td> 0</td>\n",
        "      <td>-2.500</td>\n",
        "      <td> 1007.500</td>\n",
        "      <td> 1</td>\n",
        "      <td> 140.0</td>\n",
        "    </tr>\n",
        "  </tbody>\n",
        "</table>\n",
        "<p>4 rows \u00d7 8 columns</p>\n",
        "</div>"
       ],
       "metadata": {},
       "output_type": "pyout",
       "prompt_number": 235,
       "text": [
        "       x  y    s_1  s_2    s_3       a_1  P      b\n",
        "x    3.2  0 -1.000    0 -0.600     1.000  0    9.6\n",
        "s_2  0.0  0  0.750    1  0.250    -0.750  0   12.0\n",
        "y    0.0  5 -0.625    0  0.625     0.625  0   40.0\n",
        "P    0.0  0 -7.500    0 -2.500  1007.500  1  140.0\n",
        "\n",
        "[4 rows x 8 columns]"
       ]
      }
     ],
     "prompt_number": 235
    },
    {
     "cell_type": "code",
     "collapsed": false,
     "input": [
      "R=1\n",
      "C=2\n",
      "do_row(A,R,C)\n",
      "pd.DataFrame(A,index=['x','s_1','y','P'],columns=['x','y','s_1','s_2','s_3','a_1','P','b'])"
     ],
     "language": "python",
     "metadata": {},
     "outputs": [
      {
       "html": [
        "<div style=\"max-height:1000px;max-width:1500px;overflow:auto;\">\n",
        "<table border=\"1\" class=\"dataframe\">\n",
        "  <thead>\n",
        "    <tr style=\"text-align: right;\">\n",
        "      <th></th>\n",
        "      <th>x</th>\n",
        "      <th>y</th>\n",
        "      <th>s_1</th>\n",
        "      <th>s_2</th>\n",
        "      <th>s_3</th>\n",
        "      <th>a_1</th>\n",
        "      <th>P</th>\n",
        "      <th>b</th>\n",
        "    </tr>\n",
        "  </thead>\n",
        "  <tbody>\n",
        "    <tr>\n",
        "      <th>x</th>\n",
        "      <td> 3.2</td>\n",
        "      <td> 0</td>\n",
        "      <td> 0.00</td>\n",
        "      <td>  1.333333</td>\n",
        "      <td>-2.666667e-01</td>\n",
        "      <td>    0.00</td>\n",
        "      <td> 0</td>\n",
        "      <td>  25.6</td>\n",
        "    </tr>\n",
        "    <tr>\n",
        "      <th>s_1</th>\n",
        "      <td> 0.0</td>\n",
        "      <td> 0</td>\n",
        "      <td> 0.75</td>\n",
        "      <td>  1.000000</td>\n",
        "      <td> 2.500000e-01</td>\n",
        "      <td>   -0.75</td>\n",
        "      <td> 0</td>\n",
        "      <td>  12.0</td>\n",
        "    </tr>\n",
        "    <tr>\n",
        "      <th>y</th>\n",
        "      <td> 0.0</td>\n",
        "      <td> 5</td>\n",
        "      <td> 0.00</td>\n",
        "      <td>  0.833333</td>\n",
        "      <td> 8.333333e-01</td>\n",
        "      <td>    0.00</td>\n",
        "      <td> 0</td>\n",
        "      <td>  50.0</td>\n",
        "    </tr>\n",
        "    <tr>\n",
        "      <th>P</th>\n",
        "      <td> 0.0</td>\n",
        "      <td> 0</td>\n",
        "      <td> 0.00</td>\n",
        "      <td> 10.000000</td>\n",
        "      <td> 1.132427e-13</td>\n",
        "      <td> 1000.00</td>\n",
        "      <td> 1</td>\n",
        "      <td> 260.0</td>\n",
        "    </tr>\n",
        "  </tbody>\n",
        "</table>\n",
        "<p>4 rows \u00d7 8 columns</p>\n",
        "</div>"
       ],
       "metadata": {},
       "output_type": "pyout",
       "prompt_number": 237,
       "text": [
        "       x  y   s_1        s_2           s_3      a_1  P      b\n",
        "x    3.2  0  0.00   1.333333 -2.666667e-01     0.00  0   25.6\n",
        "s_1  0.0  0  0.75   1.000000  2.500000e-01    -0.75  0   12.0\n",
        "y    0.0  5  0.00   0.833333  8.333333e-01     0.00  0   50.0\n",
        "P    0.0  0  0.00  10.000000  1.132427e-13  1000.00  1  260.0\n",
        "\n",
        "[4 rows x 8 columns]"
       ]
      }
     ],
     "prompt_number": 237
    },
    {
     "cell_type": "code",
     "collapsed": false,
     "input": [
      "%%latex\n",
      "\\begin{align}\n",
      "x=&8.0\\\\\n",
      "y=&10.0\\\\\n",
      "P=&260\\\\\n",
      "s_1=&16.0\\\\\n",
      "s_2=&0\\\\\n",
      "s_3=&0\\\\\n",
      "a_1=&0\\\\\n",
      "\\end{align}"
     ],
     "language": "python",
     "metadata": {},
     "outputs": [
      {
       "latex": [
        "\\begin{align}\n",
        "x=&8.0\\\\\n",
        "y=&10.0\\\\\n",
        "P=&260\\\\\n",
        "s_1=&16.0\\\\\n",
        "s_2=&0\\\\\n",
        "s_3=&0\\\\\n",
        "a_1=&0\\\\\n",
        "\\end{align}"
       ],
       "metadata": {},
       "output_type": "display_data",
       "text": [
        "<IPython.core.display.Latex at 0x10ab67e50>"
       ]
      }
     ],
     "prompt_number": 243
    },
    {
     "cell_type": "heading",
     "level": 4,
     "metadata": {},
     "source": [
      "Question 3 - B"
     ]
    },
    {
     "cell_type": "code",
     "collapsed": false,
     "input": [
      "%%latex\n",
      "\\begin{align}\n",
      "\\text{Min } P(x; y) =& 20x + 10y\\\\\n",
      "\\text{Subject to}:&\\\\\n",
      "2x + 3y \\geq& 30\\\\\n",
      "2x + y \\leq& 26\\\\\n",
      "-2x + 5y \\leq& 34\\\\\n",
      "x; y \\geq& 0\\\\\n",
      "\\end{align}"
     ],
     "language": "python",
     "metadata": {},
     "outputs": [
      {
       "latex": [
        "\\begin{align}\n",
        "\\text{Min } P(x; y) =& 20x + 10y\\\\\n",
        "\\text{Subject to}:&\\\\\n",
        "2x + 3y \\geq& 30\\\\\n",
        "2x + y \\leq& 26\\\\\n",
        "-2x + 5y \\leq& 34\\\\\n",
        "x; y \\geq& 0\\\\\n",
        "\\end{align}"
       ],
       "metadata": {},
       "output_type": "display_data",
       "text": [
        "<IPython.core.display.Latex at 0x10bc18350>"
       ]
      }
     ],
     "prompt_number": 255
    },
    {
     "cell_type": "markdown",
     "metadata": {},
     "source": [
      "Matlab Linear Programming solution:"
     ]
    },
    {
     "cell_type": "code",
     "collapsed": false,
     "input": [
      "f=np.array([20,10])\n",
      "W=np.array([[-2,-3],[2,1],[-2,5],[-1,0],[0,-1]])\n",
      "B=np.array([-30,26,34,0,0])\n",
      "mlab.linprog(f,W,B)"
     ],
     "language": "python",
     "metadata": {},
     "outputs": [
      {
       "metadata": {},
       "output_type": "pyout",
       "prompt_number": 17,
       "text": [
        "array([ 3.,  8.])"
       ]
      }
     ],
     "prompt_number": 17
    },
    {
     "cell_type": "markdown",
     "metadata": {},
     "source": [
      "This optimization problem is equal to:"
     ]
    },
    {
     "cell_type": "code",
     "collapsed": false,
     "input": [
      "%%latex\n",
      "\\begin{align}\n",
      "\\text{Max } P(x; y) =& -20x - 10y\\\\\n",
      "\\text{Subject to}:&\\\\\n",
      "2x + 3y \\geq& 30\\\\\n",
      "2x + y \\leq& 26\\\\\n",
      "-2x + 5y \\leq& 34\\\\\n",
      "x; y \\geq& 0\\\\\n",
      "\\end{align}"
     ],
     "language": "python",
     "metadata": {},
     "outputs": [
      {
       "latex": [
        "\\begin{align}\n",
        "\\text{Max } P(x; y) =& -20x - 10y\\\\\n",
        "\\text{Subject to}:&\\\\\n",
        "2x + 3y \\geq& 30\\\\\n",
        "2x + y \\leq& 26\\\\\n",
        "-2x + 5y \\leq& 34\\\\\n",
        "x; y \\geq& 0\\\\\n",
        "\\end{align}"
       ],
       "metadata": {},
       "output_type": "display_data",
       "text": [
        "<IPython.core.display.Latex at 0x10bc304d0>"
       ]
      }
     ],
     "prompt_number": 256
    },
    {
     "cell_type": "code",
     "collapsed": false,
     "input": [
      "A=np.array([[2,3,-1,0,0,0,30],[2,1,0,1,0,0,26],[-2,5,0,0,1,0,34],[20,10,0,0,0,1,0]])\n",
      "pd.DataFrame(A,index=['s_1','s_2','s_3','P'],columns=['x','y','s_1','s_2','s_3','P','b'])"
     ],
     "language": "python",
     "metadata": {},
     "outputs": [
      {
       "html": [
        "<div style=\"max-height:1000px;max-width:1500px;overflow:auto;\">\n",
        "<table border=\"1\" class=\"dataframe\">\n",
        "  <thead>\n",
        "    <tr style=\"text-align: right;\">\n",
        "      <th></th>\n",
        "      <th>x</th>\n",
        "      <th>y</th>\n",
        "      <th>s_1</th>\n",
        "      <th>s_2</th>\n",
        "      <th>s_3</th>\n",
        "      <th>P</th>\n",
        "      <th>b</th>\n",
        "    </tr>\n",
        "  </thead>\n",
        "  <tbody>\n",
        "    <tr>\n",
        "      <th>s_1</th>\n",
        "      <td>  2</td>\n",
        "      <td>  3</td>\n",
        "      <td>-1</td>\n",
        "      <td> 0</td>\n",
        "      <td> 0</td>\n",
        "      <td> 0</td>\n",
        "      <td> 30</td>\n",
        "    </tr>\n",
        "    <tr>\n",
        "      <th>s_2</th>\n",
        "      <td>  2</td>\n",
        "      <td>  1</td>\n",
        "      <td> 0</td>\n",
        "      <td> 1</td>\n",
        "      <td> 0</td>\n",
        "      <td> 0</td>\n",
        "      <td> 26</td>\n",
        "    </tr>\n",
        "    <tr>\n",
        "      <th>s_3</th>\n",
        "      <td> -2</td>\n",
        "      <td>  5</td>\n",
        "      <td> 0</td>\n",
        "      <td> 0</td>\n",
        "      <td> 1</td>\n",
        "      <td> 0</td>\n",
        "      <td> 34</td>\n",
        "    </tr>\n",
        "    <tr>\n",
        "      <th>P</th>\n",
        "      <td> 20</td>\n",
        "      <td> 10</td>\n",
        "      <td> 0</td>\n",
        "      <td> 0</td>\n",
        "      <td> 0</td>\n",
        "      <td> 1</td>\n",
        "      <td>  0</td>\n",
        "    </tr>\n",
        "  </tbody>\n",
        "</table>\n",
        "<p>4 rows \u00d7 7 columns</p>\n",
        "</div>"
       ],
       "metadata": {},
       "output_type": "pyout",
       "prompt_number": 257,
       "text": [
        "      x   y  s_1  s_2  s_3  P   b\n",
        "s_1   2   3   -1    0    0  0  30\n",
        "s_2   2   1    0    1    0  0  26\n",
        "s_3  -2   5    0    0    1  0  34\n",
        "P    20  10    0    0    0  1   0\n",
        "\n",
        "[4 rows x 7 columns]"
       ]
      }
     ],
     "prompt_number": 257
    },
    {
     "cell_type": "code",
     "collapsed": false,
     "input": [
      "%%latex\n",
      "\\begin{align}\n",
      "\\text{Max } P(x; y) =& -20x - 10y - Ma_1\\\\\n",
      "\\text{Subject to}:&\\\\\n",
      "2x + 3y -s_1+a_1=& 30\\\\\n",
      "2x + y \\leq& 26\\\\\n",
      "-2x + 5y \\leq& 34\\\\\n",
      "x; y \\geq& 0\\\\\n",
      "\\end{align}"
     ],
     "language": "python",
     "metadata": {},
     "outputs": [
      {
       "latex": [
        "\\begin{align}\n",
        "\\text{Max } P(x; y) =& -20x - 10y - Ma_1\\\\\n",
        "\\text{Subject to}:&\\\\\n",
        "2x + 3y -s_1+a_1=& 30\\\\\n",
        "2x + y \\leq& 26\\\\\n",
        "-2x + 5y \\leq& 34\\\\\n",
        "x; y \\geq& 0\\\\\n",
        "\\end{align}"
       ],
       "metadata": {},
       "output_type": "display_data",
       "text": [
        "<IPython.core.display.Latex at 0x10bc304d0>"
       ]
      }
     ],
     "prompt_number": 266
    },
    {
     "cell_type": "code",
     "collapsed": false,
     "input": [
      "A=np.array([[2.0,3.0,-1.0,0,0,1.0,0,30.0],[2.0,1.0,0,1.0,0,0,0,26.0],[-2.0,5.0,0,0,1.0,0,0,34.0],[20.0,10,0,0,0,M,1.0,0]])\n",
      "pd.DataFrame(A,index=['s_1','s_2','s_3','P'],columns=['x','y','s_1','s_2','s_3','a_1','P','b'])"
     ],
     "language": "python",
     "metadata": {},
     "outputs": [
      {
       "html": [
        "<div style=\"max-height:1000px;max-width:1500px;overflow:auto;\">\n",
        "<table border=\"1\" class=\"dataframe\">\n",
        "  <thead>\n",
        "    <tr style=\"text-align: right;\">\n",
        "      <th></th>\n",
        "      <th>x</th>\n",
        "      <th>y</th>\n",
        "      <th>s_1</th>\n",
        "      <th>s_2</th>\n",
        "      <th>s_3</th>\n",
        "      <th>a_1</th>\n",
        "      <th>P</th>\n",
        "      <th>b</th>\n",
        "    </tr>\n",
        "  </thead>\n",
        "  <tbody>\n",
        "    <tr>\n",
        "      <th>s_1</th>\n",
        "      <td>  2</td>\n",
        "      <td>  3</td>\n",
        "      <td>-1</td>\n",
        "      <td> 0</td>\n",
        "      <td> 0</td>\n",
        "      <td>    1</td>\n",
        "      <td> 0</td>\n",
        "      <td> 30</td>\n",
        "    </tr>\n",
        "    <tr>\n",
        "      <th>s_2</th>\n",
        "      <td>  2</td>\n",
        "      <td>  1</td>\n",
        "      <td> 0</td>\n",
        "      <td> 1</td>\n",
        "      <td> 0</td>\n",
        "      <td>    0</td>\n",
        "      <td> 0</td>\n",
        "      <td> 26</td>\n",
        "    </tr>\n",
        "    <tr>\n",
        "      <th>s_3</th>\n",
        "      <td> -2</td>\n",
        "      <td>  5</td>\n",
        "      <td> 0</td>\n",
        "      <td> 0</td>\n",
        "      <td> 1</td>\n",
        "      <td>    0</td>\n",
        "      <td> 0</td>\n",
        "      <td> 34</td>\n",
        "    </tr>\n",
        "    <tr>\n",
        "      <th>P</th>\n",
        "      <td> 20</td>\n",
        "      <td> 10</td>\n",
        "      <td> 0</td>\n",
        "      <td> 0</td>\n",
        "      <td> 0</td>\n",
        "      <td> 1000</td>\n",
        "      <td> 1</td>\n",
        "      <td>  0</td>\n",
        "    </tr>\n",
        "  </tbody>\n",
        "</table>\n",
        "<p>4 rows \u00d7 8 columns</p>\n",
        "</div>"
       ],
       "metadata": {},
       "output_type": "pyout",
       "prompt_number": 261,
       "text": [
        "      x   y  s_1  s_2  s_3   a_1  P   b\n",
        "s_1   2   3   -1    0    0     1  0  30\n",
        "s_2   2   1    0    1    0     0  0  26\n",
        "s_3  -2   5    0    0    1     0  0  34\n",
        "P    20  10    0    0    0  1000  1   0\n",
        "\n",
        "[4 rows x 8 columns]"
       ]
      }
     ],
     "prompt_number": 261
    },
    {
     "cell_type": "code",
     "collapsed": false,
     "input": [
      "A[3,:]+=-M*A[0,:]\n",
      "pd.DataFrame(A,index=['a_1','s_2','s_3','P'],columns=['x','y','s_1','s_2','s_3','a_1','P','b'])"
     ],
     "language": "python",
     "metadata": {},
     "outputs": [
      {
       "html": [
        "<div style=\"max-height:1000px;max-width:1500px;overflow:auto;\">\n",
        "<table border=\"1\" class=\"dataframe\">\n",
        "  <thead>\n",
        "    <tr style=\"text-align: right;\">\n",
        "      <th></th>\n",
        "      <th>x</th>\n",
        "      <th>y</th>\n",
        "      <th>s_1</th>\n",
        "      <th>s_2</th>\n",
        "      <th>s_3</th>\n",
        "      <th>a_1</th>\n",
        "      <th>P</th>\n",
        "      <th>b</th>\n",
        "    </tr>\n",
        "  </thead>\n",
        "  <tbody>\n",
        "    <tr>\n",
        "      <th>a_1</th>\n",
        "      <td>    2</td>\n",
        "      <td>    3</td>\n",
        "      <td>   -1</td>\n",
        "      <td> 0</td>\n",
        "      <td> 0</td>\n",
        "      <td> 1</td>\n",
        "      <td> 0</td>\n",
        "      <td>    30</td>\n",
        "    </tr>\n",
        "    <tr>\n",
        "      <th>s_2</th>\n",
        "      <td>    2</td>\n",
        "      <td>    1</td>\n",
        "      <td>    0</td>\n",
        "      <td> 1</td>\n",
        "      <td> 0</td>\n",
        "      <td> 0</td>\n",
        "      <td> 0</td>\n",
        "      <td>    26</td>\n",
        "    </tr>\n",
        "    <tr>\n",
        "      <th>s_3</th>\n",
        "      <td>   -2</td>\n",
        "      <td>    5</td>\n",
        "      <td>    0</td>\n",
        "      <td> 0</td>\n",
        "      <td> 1</td>\n",
        "      <td> 0</td>\n",
        "      <td> 0</td>\n",
        "      <td>    34</td>\n",
        "    </tr>\n",
        "    <tr>\n",
        "      <th>P</th>\n",
        "      <td>-1980</td>\n",
        "      <td>-2990</td>\n",
        "      <td> 1000</td>\n",
        "      <td> 0</td>\n",
        "      <td> 0</td>\n",
        "      <td> 0</td>\n",
        "      <td> 1</td>\n",
        "      <td>-30000</td>\n",
        "    </tr>\n",
        "  </tbody>\n",
        "</table>\n",
        "<p>4 rows \u00d7 8 columns</p>\n",
        "</div>"
       ],
       "metadata": {},
       "output_type": "pyout",
       "prompt_number": 262,
       "text": [
        "        x     y   s_1  s_2  s_3  a_1  P      b\n",
        "a_1     2     3    -1    0    0    1  0     30\n",
        "s_2     2     1     0    1    0    0  0     26\n",
        "s_3    -2     5     0    0    1    0  0     34\n",
        "P   -1980 -2990  1000    0    0    0  1 -30000\n",
        "\n",
        "[4 rows x 8 columns]"
       ]
      }
     ],
     "prompt_number": 262
    },
    {
     "cell_type": "code",
     "collapsed": false,
     "input": [
      "R=2\n",
      "C=1\n",
      "do_row(A,R,C)\n",
      "pd.DataFrame(A,index=['a_1','s_2','y','P'],columns=['x','y','s_1','s_2','s_3','a_1','P','b'])"
     ],
     "language": "python",
     "metadata": {},
     "outputs": [
      {
       "html": [
        "<div style=\"max-height:1000px;max-width:1500px;overflow:auto;\">\n",
        "<table border=\"1\" class=\"dataframe\">\n",
        "  <thead>\n",
        "    <tr style=\"text-align: right;\">\n",
        "      <th></th>\n",
        "      <th>x</th>\n",
        "      <th>y</th>\n",
        "      <th>s_1</th>\n",
        "      <th>s_2</th>\n",
        "      <th>s_3</th>\n",
        "      <th>a_1</th>\n",
        "      <th>P</th>\n",
        "      <th>b</th>\n",
        "    </tr>\n",
        "  </thead>\n",
        "  <tbody>\n",
        "    <tr>\n",
        "      <th>a_1</th>\n",
        "      <td>    3.2</td>\n",
        "      <td> 0</td>\n",
        "      <td>   -1</td>\n",
        "      <td> 0</td>\n",
        "      <td>  -0.6</td>\n",
        "      <td> 1</td>\n",
        "      <td> 0</td>\n",
        "      <td>    9.6</td>\n",
        "    </tr>\n",
        "    <tr>\n",
        "      <th>s_2</th>\n",
        "      <td>    2.4</td>\n",
        "      <td> 0</td>\n",
        "      <td>    0</td>\n",
        "      <td> 1</td>\n",
        "      <td>  -0.2</td>\n",
        "      <td> 0</td>\n",
        "      <td> 0</td>\n",
        "      <td>   19.2</td>\n",
        "    </tr>\n",
        "    <tr>\n",
        "      <th>y</th>\n",
        "      <td>   -2.0</td>\n",
        "      <td> 5</td>\n",
        "      <td>    0</td>\n",
        "      <td> 0</td>\n",
        "      <td>   1.0</td>\n",
        "      <td> 0</td>\n",
        "      <td> 0</td>\n",
        "      <td>   34.0</td>\n",
        "    </tr>\n",
        "    <tr>\n",
        "      <th>P</th>\n",
        "      <td>-3176.0</td>\n",
        "      <td> 0</td>\n",
        "      <td> 1000</td>\n",
        "      <td> 0</td>\n",
        "      <td> 598.0</td>\n",
        "      <td> 0</td>\n",
        "      <td> 1</td>\n",
        "      <td>-9668.0</td>\n",
        "    </tr>\n",
        "  </tbody>\n",
        "</table>\n",
        "<p>4 rows \u00d7 8 columns</p>\n",
        "</div>"
       ],
       "metadata": {},
       "output_type": "pyout",
       "prompt_number": 263,
       "text": [
        "          x  y   s_1  s_2    s_3  a_1  P       b\n",
        "a_1     3.2  0    -1    0   -0.6    1  0     9.6\n",
        "s_2     2.4  0     0    1   -0.2    0  0    19.2\n",
        "y      -2.0  5     0    0    1.0    0  0    34.0\n",
        "P   -3176.0  0  1000    0  598.0    0  1 -9668.0\n",
        "\n",
        "[4 rows x 8 columns]"
       ]
      }
     ],
     "prompt_number": 263
    },
    {
     "cell_type": "code",
     "collapsed": false,
     "input": [
      "R=0\n",
      "C=0\n",
      "do_row(A,R,C)\n",
      "pd.DataFrame(A,index=['x','s_2','y','P'],columns=['x','y','s_1','s_2','s_3','a_1','P','b'])"
     ],
     "language": "python",
     "metadata": {},
     "outputs": [
      {
       "html": [
        "<div style=\"max-height:1000px;max-width:1500px;overflow:auto;\">\n",
        "<table border=\"1\" class=\"dataframe\">\n",
        "  <thead>\n",
        "    <tr style=\"text-align: right;\">\n",
        "      <th></th>\n",
        "      <th>x</th>\n",
        "      <th>y</th>\n",
        "      <th>s_1</th>\n",
        "      <th>s_2</th>\n",
        "      <th>s_3</th>\n",
        "      <th>a_1</th>\n",
        "      <th>P</th>\n",
        "      <th>b</th>\n",
        "    </tr>\n",
        "  </thead>\n",
        "  <tbody>\n",
        "    <tr>\n",
        "      <th>x</th>\n",
        "      <td> 3.2</td>\n",
        "      <td> 0</td>\n",
        "      <td>-1.000</td>\n",
        "      <td> 0</td>\n",
        "      <td>-0.600</td>\n",
        "      <td>   1.000</td>\n",
        "      <td> 0</td>\n",
        "      <td>   9.6</td>\n",
        "    </tr>\n",
        "    <tr>\n",
        "      <th>s_2</th>\n",
        "      <td> 0.0</td>\n",
        "      <td> 0</td>\n",
        "      <td> 0.750</td>\n",
        "      <td> 1</td>\n",
        "      <td> 0.250</td>\n",
        "      <td>  -0.750</td>\n",
        "      <td> 0</td>\n",
        "      <td>  12.0</td>\n",
        "    </tr>\n",
        "    <tr>\n",
        "      <th>y</th>\n",
        "      <td> 0.0</td>\n",
        "      <td> 5</td>\n",
        "      <td>-0.625</td>\n",
        "      <td> 0</td>\n",
        "      <td> 0.625</td>\n",
        "      <td>   0.625</td>\n",
        "      <td> 0</td>\n",
        "      <td>  40.0</td>\n",
        "    </tr>\n",
        "    <tr>\n",
        "      <th>P</th>\n",
        "      <td> 0.0</td>\n",
        "      <td> 0</td>\n",
        "      <td> 7.500</td>\n",
        "      <td> 0</td>\n",
        "      <td> 2.500</td>\n",
        "      <td> 992.500</td>\n",
        "      <td> 1</td>\n",
        "      <td>-140.0</td>\n",
        "    </tr>\n",
        "  </tbody>\n",
        "</table>\n",
        "<p>4 rows \u00d7 8 columns</p>\n",
        "</div>"
       ],
       "metadata": {},
       "output_type": "pyout",
       "prompt_number": 265,
       "text": [
        "       x  y    s_1  s_2    s_3      a_1  P      b\n",
        "x    3.2  0 -1.000    0 -0.600    1.000  0    9.6\n",
        "s_2  0.0  0  0.750    1  0.250   -0.750  0   12.0\n",
        "y    0.0  5 -0.625    0  0.625    0.625  0   40.0\n",
        "P    0.0  0  7.500    0  2.500  992.500  1 -140.0\n",
        "\n",
        "[4 rows x 8 columns]"
       ]
      }
     ],
     "prompt_number": 265
    },
    {
     "cell_type": "code",
     "collapsed": false,
     "input": [
      "%%latex\n",
      "\\begin{align}\n",
      "x=&3.0\\\\\n",
      "y=&8.0\\\\\n",
      "P=&-140\\\\\n",
      "s_1=&0\\\\\n",
      "s_2=&12\\\\\n",
      "s_3=&0\\\\\n",
      "a_1=&0\\\\\n",
      "\\end{align}"
     ],
     "language": "python",
     "metadata": {},
     "outputs": [
      {
       "latex": [
        "\\begin{align}\n",
        "x=&3.0\\\\\n",
        "y=&8.0\\\\\n",
        "P=&-140\\\\\n",
        "s_1=&0\\\\\n",
        "s_2=&12\\\\\n",
        "s_3=&0\\\\\n",
        "a_1=&0\\\\\n",
        "\\end{align}"
       ],
       "metadata": {},
       "output_type": "display_data",
       "text": [
        "<IPython.core.display.Latex at 0x10bc30390>"
       ]
      }
     ],
     "prompt_number": 267
    },
    {
     "cell_type": "heading",
     "level": 4,
     "metadata": {},
     "source": [
      "Question 4"
     ]
    },
    {
     "cell_type": "code",
     "collapsed": false,
     "input": [
      "%%latex\n",
      "\\begin{align}\n",
      "\\text{Max } P(x; y) =& x+y\\\\\n",
      "\\text{Subject to}:&\\\\\n",
      "2x + y \\leq 16\\\\\n",
      "x \\leq& 6\\\\\n",
      "y \\leq& 10\\\\\n",
      "x; y \\geq& 0\\\\\n",
      "\\end{align}"
     ],
     "language": "python",
     "metadata": {},
     "outputs": [
      {
       "latex": [
        "\\begin{align}\n",
        "\\text{Max } P(x; y) =& x+y\\\\\n",
        "\\text{Subject to}:&\\\\\n",
        "2x + y \\leq 16\\\\\n",
        "x \\leq& 6\\\\\n",
        "y \\leq& 10\\\\\n",
        "x; y \\geq& 0\\\\\n",
        "\\end{align}"
       ],
       "metadata": {},
       "output_type": "display_data",
       "text": [
        "<IPython.core.display.Latex at 0x10bc303d0>"
       ]
      }
     ],
     "prompt_number": 269
    },
    {
     "cell_type": "code",
     "collapsed": false,
     "input": [
      "x=np.arange(0,21)\n",
      "y=np.arange(0,21)\n",
      "c_1=-2.0*x+16\n",
      "c_3=np.ones(51)*10\n",
      "f=lambda b:(-1*x+b)\n",
      "plt.plot(c_1,'r',linewidth=3)\n",
      "plt.vlines(6,0,51,'b',linewidth=3)\n",
      "plt.plot(c_3,'g',linewidth=3)\n",
      "feasible=np.array([[0,0],[0,10],[3,10],[6,4],[6,0]])\n",
      "plt.gca().add_patch(plt.Polygon(feasible,color='gray'))\n",
      "map(lambda b:plt.plot(f(b),'-.k'),xrange(20))\n",
      "plt.text(0.1,0.2,'(0)',fontsize=12)\n",
      "plt.text(0,10.2,'(10)',fontsize=12)\n",
      "plt.text(3,10.2,'(13)',fontsize=12,weight='bold')\n",
      "plt.text(6.1,4.2,'(10)',fontsize=12)\n",
      "plt.text(6,0,'(6)',fontsize=12)\n",
      "\n",
      "plt.xlim(0,20)\n",
      "_=plt.ylim(0,20)"
     ],
     "language": "python",
     "metadata": {},
     "outputs": [
      {
       "metadata": {},
       "output_type": "display_data",
       "png": "[encoded data removed]",
       "text": [
        "<matplotlib.figure.Figure at 0x10bc40810>"
       ]
      }
     ],
     "prompt_number": 311
    },
    {
     "cell_type": "markdown",
     "metadata": {},
     "source": [
      "Matlab Linear Programming solution:"
     ]
    },
    {
     "cell_type": "code",
     "collapsed": false,
     "input": [
      "f=np.array([-1,-1])\n",
      "W=np.array([[2,1],[1,0],[0,1],[-1,0],[0,-1]])\n",
      "B=np.array([16,6,10,0,0])\n",
      "mlab.linprog(f,W,B)"
     ],
     "language": "python",
     "metadata": {},
     "outputs": [
      {
       "metadata": {},
       "output_type": "pyout",
       "prompt_number": 18,
       "text": [
        "array([  3.,  10.])"
       ]
      }
     ],
     "prompt_number": 18
    },
    {
     "cell_type": "code",
     "collapsed": false,
     "input": [
      "A=np.array([[2,1,1,0,0,0,16],[1,0,0,1,0,0,6],[0,1,0,0,1,0,10],[-1,-1,0,0,0,1,0]])\n",
      "pd.DataFrame(A,index=['s_1','s_2','s_3','P'],columns=['x','y','s_1','s_2','s_3','P','b'])"
     ],
     "language": "python",
     "metadata": {},
     "outputs": [
      {
       "html": [
        "<div style=\"max-height:1000px;max-width:1500px;overflow:auto;\">\n",
        "<table border=\"1\" class=\"dataframe\">\n",
        "  <thead>\n",
        "    <tr style=\"text-align: right;\">\n",
        "      <th></th>\n",
        "      <th>x</th>\n",
        "      <th>y</th>\n",
        "      <th>s_1</th>\n",
        "      <th>s_2</th>\n",
        "      <th>s_3</th>\n",
        "      <th>P</th>\n",
        "      <th>b</th>\n",
        "    </tr>\n",
        "  </thead>\n",
        "  <tbody>\n",
        "    <tr>\n",
        "      <th>s_1</th>\n",
        "      <td> 2</td>\n",
        "      <td> 1</td>\n",
        "      <td> 1</td>\n",
        "      <td> 0</td>\n",
        "      <td> 0</td>\n",
        "      <td> 0</td>\n",
        "      <td> 16</td>\n",
        "    </tr>\n",
        "    <tr>\n",
        "      <th>s_2</th>\n",
        "      <td> 1</td>\n",
        "      <td> 0</td>\n",
        "      <td> 0</td>\n",
        "      <td> 1</td>\n",
        "      <td> 0</td>\n",
        "      <td> 0</td>\n",
        "      <td>  6</td>\n",
        "    </tr>\n",
        "    <tr>\n",
        "      <th>s_3</th>\n",
        "      <td> 0</td>\n",
        "      <td> 1</td>\n",
        "      <td> 0</td>\n",
        "      <td> 0</td>\n",
        "      <td> 1</td>\n",
        "      <td> 0</td>\n",
        "      <td> 10</td>\n",
        "    </tr>\n",
        "    <tr>\n",
        "      <th>P</th>\n",
        "      <td>-1</td>\n",
        "      <td>-1</td>\n",
        "      <td> 0</td>\n",
        "      <td> 0</td>\n",
        "      <td> 0</td>\n",
        "      <td> 1</td>\n",
        "      <td>  0</td>\n",
        "    </tr>\n",
        "  </tbody>\n",
        "</table>\n",
        "<p>4 rows \u00d7 7 columns</p>\n",
        "</div>"
       ],
       "metadata": {},
       "output_type": "pyout",
       "prompt_number": 277,
       "text": [
        "     x  y  s_1  s_2  s_3  P   b\n",
        "s_1  2  1    1    0    0  0  16\n",
        "s_2  1  0    0    1    0  0   6\n",
        "s_3  0  1    0    0    1  0  10\n",
        "P   -1 -1    0    0    0  1   0\n",
        "\n",
        "[4 rows x 7 columns]"
       ]
      }
     ],
     "prompt_number": 277
    },
    {
     "cell_type": "markdown",
     "metadata": {},
     "source": [
      "We first pick column 1:"
     ]
    },
    {
     "cell_type": "code",
     "collapsed": false,
     "input": [
      "R=1\n",
      "C=0\n",
      "do_row(A,R,C)\n",
      "pd.DataFrame(A,index=['s_1','x','s_3','P'],columns=['x','y','s_1','s_2','s_3','P','b'])"
     ],
     "language": "python",
     "metadata": {},
     "outputs": [
      {
       "html": [
        "<div style=\"max-height:1000px;max-width:1500px;overflow:auto;\">\n",
        "<table border=\"1\" class=\"dataframe\">\n",
        "  <thead>\n",
        "    <tr style=\"text-align: right;\">\n",
        "      <th></th>\n",
        "      <th>x</th>\n",
        "      <th>y</th>\n",
        "      <th>s_1</th>\n",
        "      <th>s_2</th>\n",
        "      <th>s_3</th>\n",
        "      <th>P</th>\n",
        "      <th>b</th>\n",
        "    </tr>\n",
        "  </thead>\n",
        "  <tbody>\n",
        "    <tr>\n",
        "      <th>s_1</th>\n",
        "      <td> 0</td>\n",
        "      <td> 1</td>\n",
        "      <td> 1</td>\n",
        "      <td>-2</td>\n",
        "      <td> 0</td>\n",
        "      <td> 0</td>\n",
        "      <td>  4</td>\n",
        "    </tr>\n",
        "    <tr>\n",
        "      <th>x</th>\n",
        "      <td> 1</td>\n",
        "      <td> 0</td>\n",
        "      <td> 0</td>\n",
        "      <td> 1</td>\n",
        "      <td> 0</td>\n",
        "      <td> 0</td>\n",
        "      <td>  6</td>\n",
        "    </tr>\n",
        "    <tr>\n",
        "      <th>s_3</th>\n",
        "      <td> 0</td>\n",
        "      <td> 1</td>\n",
        "      <td> 0</td>\n",
        "      <td> 0</td>\n",
        "      <td> 1</td>\n",
        "      <td> 0</td>\n",
        "      <td> 10</td>\n",
        "    </tr>\n",
        "    <tr>\n",
        "      <th>P</th>\n",
        "      <td> 0</td>\n",
        "      <td>-1</td>\n",
        "      <td> 0</td>\n",
        "      <td> 1</td>\n",
        "      <td> 0</td>\n",
        "      <td> 1</td>\n",
        "      <td>  6</td>\n",
        "    </tr>\n",
        "  </tbody>\n",
        "</table>\n",
        "<p>4 rows \u00d7 7 columns</p>\n",
        "</div>"
       ],
       "metadata": {},
       "output_type": "pyout",
       "prompt_number": 278,
       "text": [
        "     x  y  s_1  s_2  s_3  P   b\n",
        "s_1  0  1    1   -2    0  0   4\n",
        "x    1  0    0    1    0  0   6\n",
        "s_3  0  1    0    0    1  0  10\n",
        "P    0 -1    0    1    0  1   6\n",
        "\n",
        "[4 rows x 7 columns]"
       ]
      }
     ],
     "prompt_number": 278
    },
    {
     "cell_type": "code",
     "collapsed": false,
     "input": [
      "R=0\n",
      "C=1\n",
      "do_row(A,R,C)\n",
      "pd.DataFrame(A,index=['y','x','s_3','P'],columns=['x','y','s_1','s_2','s_3','P','b'])"
     ],
     "language": "python",
     "metadata": {},
     "outputs": [
      {
       "html": [
        "<div style=\"max-height:1000px;max-width:1500px;overflow:auto;\">\n",
        "<table border=\"1\" class=\"dataframe\">\n",
        "  <thead>\n",
        "    <tr style=\"text-align: right;\">\n",
        "      <th></th>\n",
        "      <th>x</th>\n",
        "      <th>y</th>\n",
        "      <th>s_1</th>\n",
        "      <th>s_2</th>\n",
        "      <th>s_3</th>\n",
        "      <th>P</th>\n",
        "      <th>b</th>\n",
        "    </tr>\n",
        "  </thead>\n",
        "  <tbody>\n",
        "    <tr>\n",
        "      <th>y</th>\n",
        "      <td> 0</td>\n",
        "      <td> 1</td>\n",
        "      <td> 1</td>\n",
        "      <td>-2</td>\n",
        "      <td> 0</td>\n",
        "      <td> 0</td>\n",
        "      <td>  4</td>\n",
        "    </tr>\n",
        "    <tr>\n",
        "      <th>x</th>\n",
        "      <td> 1</td>\n",
        "      <td> 0</td>\n",
        "      <td> 0</td>\n",
        "      <td> 1</td>\n",
        "      <td> 0</td>\n",
        "      <td> 0</td>\n",
        "      <td>  6</td>\n",
        "    </tr>\n",
        "    <tr>\n",
        "      <th>s_3</th>\n",
        "      <td> 0</td>\n",
        "      <td> 0</td>\n",
        "      <td>-1</td>\n",
        "      <td> 2</td>\n",
        "      <td> 1</td>\n",
        "      <td> 0</td>\n",
        "      <td>  6</td>\n",
        "    </tr>\n",
        "    <tr>\n",
        "      <th>P</th>\n",
        "      <td> 0</td>\n",
        "      <td> 0</td>\n",
        "      <td> 1</td>\n",
        "      <td>-1</td>\n",
        "      <td> 0</td>\n",
        "      <td> 1</td>\n",
        "      <td> 10</td>\n",
        "    </tr>\n",
        "  </tbody>\n",
        "</table>\n",
        "<p>4 rows \u00d7 7 columns</p>\n",
        "</div>"
       ],
       "metadata": {},
       "output_type": "pyout",
       "prompt_number": 279,
       "text": [
        "     x  y  s_1  s_2  s_3  P   b\n",
        "y    0  1    1   -2    0  0   4\n",
        "x    1  0    0    1    0  0   6\n",
        "s_3  0  0   -1    2    1  0   6\n",
        "P    0  0    1   -1    0  1  10\n",
        "\n",
        "[4 rows x 7 columns]"
       ]
      }
     ],
     "prompt_number": 279
    },
    {
     "cell_type": "code",
     "collapsed": false,
     "input": [
      "R=2\n",
      "C=3\n",
      "do_row(A,R,C)\n",
      "pd.DataFrame(A,index=['y','x','s_2','P'],columns=['x','y','s_1','s_2','s_3','P','b'])"
     ],
     "language": "python",
     "metadata": {},
     "outputs": [
      {
       "html": [
        "<div style=\"max-height:1000px;max-width:1500px;overflow:auto;\">\n",
        "<table border=\"1\" class=\"dataframe\">\n",
        "  <thead>\n",
        "    <tr style=\"text-align: right;\">\n",
        "      <th></th>\n",
        "      <th>x</th>\n",
        "      <th>y</th>\n",
        "      <th>s_1</th>\n",
        "      <th>s_2</th>\n",
        "      <th>s_3</th>\n",
        "      <th>P</th>\n",
        "      <th>b</th>\n",
        "    </tr>\n",
        "  </thead>\n",
        "  <tbody>\n",
        "    <tr>\n",
        "      <th>y</th>\n",
        "      <td> 0</td>\n",
        "      <td> 1</td>\n",
        "      <td> 0</td>\n",
        "      <td> 0</td>\n",
        "      <td> 1</td>\n",
        "      <td> 0</td>\n",
        "      <td> 10</td>\n",
        "    </tr>\n",
        "    <tr>\n",
        "      <th>x</th>\n",
        "      <td> 1</td>\n",
        "      <td> 0</td>\n",
        "      <td> 0</td>\n",
        "      <td> 0</td>\n",
        "      <td>-1</td>\n",
        "      <td> 0</td>\n",
        "      <td>  3</td>\n",
        "    </tr>\n",
        "    <tr>\n",
        "      <th>s_2</th>\n",
        "      <td> 0</td>\n",
        "      <td> 0</td>\n",
        "      <td>-1</td>\n",
        "      <td> 2</td>\n",
        "      <td> 1</td>\n",
        "      <td> 0</td>\n",
        "      <td>  6</td>\n",
        "    </tr>\n",
        "    <tr>\n",
        "      <th>P</th>\n",
        "      <td> 0</td>\n",
        "      <td> 0</td>\n",
        "      <td> 0</td>\n",
        "      <td> 0</td>\n",
        "      <td> 0</td>\n",
        "      <td> 1</td>\n",
        "      <td> 13</td>\n",
        "    </tr>\n",
        "  </tbody>\n",
        "</table>\n",
        "<p>4 rows \u00d7 7 columns</p>\n",
        "</div>"
       ],
       "metadata": {},
       "output_type": "pyout",
       "prompt_number": 280,
       "text": [
        "     x  y  s_1  s_2  s_3  P   b\n",
        "y    0  1    0    0    1  0  10\n",
        "x    1  0    0    0   -1  0   3\n",
        "s_2  0  0   -1    2    1  0   6\n",
        "P    0  0    0    0    0  1  13\n",
        "\n",
        "[4 rows x 7 columns]"
       ]
      }
     ],
     "prompt_number": 280
    },
    {
     "cell_type": "code",
     "collapsed": false,
     "input": [
      "%%latex\n",
      "\\begin{align}\n",
      "x=&3.0\\\\\n",
      "y=&10.0\\\\\n",
      "P=&13\\\\\n",
      "s_1=&0\\\\\n",
      "s_2=&3\\\\\n",
      "s_3=&0\\\\\n",
      "\\end{align}"
     ],
     "language": "python",
     "metadata": {},
     "outputs": [
      {
       "latex": [
        "\\begin{align}\n",
        "x=&3.0\\\\\n",
        "y=&10.0\\\\\n",
        "P=&13\\\\\n",
        "s_1=&0\\\\\n",
        "s_2=&3\\\\\n",
        "s_3=&0\\\\\n",
        "\\end{align}"
       ],
       "metadata": {},
       "output_type": "display_data",
       "text": [
        "<IPython.core.display.Latex at 0x10b3e5290>"
       ]
      }
     ],
     "prompt_number": 281
    },
    {
     "cell_type": "code",
     "collapsed": false,
     "input": [
      "A=np.array([[2,1,1,0,0,0,16],[1,0,0,1,0,0,6],[0,1,0,0,1,0,10],[-1,-1,0,0,0,1,0]])\n",
      "pd.DataFrame(A,index=['s_1','s_2','s_3','P'],columns=['x','y','s_1','s_2','s_3','P','b'])"
     ],
     "language": "python",
     "metadata": {},
     "outputs": [
      {
       "html": [
        "<div style=\"max-height:1000px;max-width:1500px;overflow:auto;\">\n",
        "<table border=\"1\" class=\"dataframe\">\n",
        "  <thead>\n",
        "    <tr style=\"text-align: right;\">\n",
        "      <th></th>\n",
        "      <th>x</th>\n",
        "      <th>y</th>\n",
        "      <th>s_1</th>\n",
        "      <th>s_2</th>\n",
        "      <th>s_3</th>\n",
        "      <th>P</th>\n",
        "      <th>b</th>\n",
        "    </tr>\n",
        "  </thead>\n",
        "  <tbody>\n",
        "    <tr>\n",
        "      <th>s_1</th>\n",
        "      <td> 2</td>\n",
        "      <td> 1</td>\n",
        "      <td> 1</td>\n",
        "      <td> 0</td>\n",
        "      <td> 0</td>\n",
        "      <td> 0</td>\n",
        "      <td> 16</td>\n",
        "    </tr>\n",
        "    <tr>\n",
        "      <th>s_2</th>\n",
        "      <td> 1</td>\n",
        "      <td> 0</td>\n",
        "      <td> 0</td>\n",
        "      <td> 1</td>\n",
        "      <td> 0</td>\n",
        "      <td> 0</td>\n",
        "      <td>  6</td>\n",
        "    </tr>\n",
        "    <tr>\n",
        "      <th>s_3</th>\n",
        "      <td> 0</td>\n",
        "      <td> 1</td>\n",
        "      <td> 0</td>\n",
        "      <td> 0</td>\n",
        "      <td> 1</td>\n",
        "      <td> 0</td>\n",
        "      <td> 10</td>\n",
        "    </tr>\n",
        "    <tr>\n",
        "      <th>P</th>\n",
        "      <td>-1</td>\n",
        "      <td>-1</td>\n",
        "      <td> 0</td>\n",
        "      <td> 0</td>\n",
        "      <td> 0</td>\n",
        "      <td> 1</td>\n",
        "      <td>  0</td>\n",
        "    </tr>\n",
        "  </tbody>\n",
        "</table>\n",
        "<p>4 rows \u00d7 7 columns</p>\n",
        "</div>"
       ],
       "metadata": {},
       "output_type": "pyout",
       "prompt_number": 284,
       "text": [
        "     x  y  s_1  s_2  s_3  P   b\n",
        "s_1  2  1    1    0    0  0  16\n",
        "s_2  1  0    0    1    0  0   6\n",
        "s_3  0  1    0    0    1  0  10\n",
        "P   -1 -1    0    0    0  1   0\n",
        "\n",
        "[4 rows x 7 columns]"
       ]
      }
     ],
     "prompt_number": 284
    },
    {
     "cell_type": "markdown",
     "metadata": {},
     "source": [
      "Now we pick column 2:"
     ]
    },
    {
     "cell_type": "code",
     "collapsed": false,
     "input": [
      "R=2\n",
      "C=1\n",
      "do_row(A,R,C)\n",
      "pd.DataFrame(A,index=['s_1','s_2','y','P'],columns=['x','y','s_1','s_2','s_3','P','b'])"
     ],
     "language": "python",
     "metadata": {},
     "outputs": [
      {
       "html": [
        "<div style=\"max-height:1000px;max-width:1500px;overflow:auto;\">\n",
        "<table border=\"1\" class=\"dataframe\">\n",
        "  <thead>\n",
        "    <tr style=\"text-align: right;\">\n",
        "      <th></th>\n",
        "      <th>x</th>\n",
        "      <th>y</th>\n",
        "      <th>s_1</th>\n",
        "      <th>s_2</th>\n",
        "      <th>s_3</th>\n",
        "      <th>P</th>\n",
        "      <th>b</th>\n",
        "    </tr>\n",
        "  </thead>\n",
        "  <tbody>\n",
        "    <tr>\n",
        "      <th>s_1</th>\n",
        "      <td> 2</td>\n",
        "      <td> 0</td>\n",
        "      <td> 1</td>\n",
        "      <td> 0</td>\n",
        "      <td>-1</td>\n",
        "      <td> 0</td>\n",
        "      <td>  6</td>\n",
        "    </tr>\n",
        "    <tr>\n",
        "      <th>s_2</th>\n",
        "      <td> 1</td>\n",
        "      <td> 0</td>\n",
        "      <td> 0</td>\n",
        "      <td> 1</td>\n",
        "      <td> 0</td>\n",
        "      <td> 0</td>\n",
        "      <td>  6</td>\n",
        "    </tr>\n",
        "    <tr>\n",
        "      <th>y</th>\n",
        "      <td> 0</td>\n",
        "      <td> 1</td>\n",
        "      <td> 0</td>\n",
        "      <td> 0</td>\n",
        "      <td> 1</td>\n",
        "      <td> 0</td>\n",
        "      <td> 10</td>\n",
        "    </tr>\n",
        "    <tr>\n",
        "      <th>P</th>\n",
        "      <td>-1</td>\n",
        "      <td> 0</td>\n",
        "      <td> 0</td>\n",
        "      <td> 0</td>\n",
        "      <td> 1</td>\n",
        "      <td> 1</td>\n",
        "      <td> 10</td>\n",
        "    </tr>\n",
        "  </tbody>\n",
        "</table>\n",
        "<p>4 rows \u00d7 7 columns</p>\n",
        "</div>"
       ],
       "metadata": {},
       "output_type": "pyout",
       "prompt_number": 285,
       "text": [
        "     x  y  s_1  s_2  s_3  P   b\n",
        "s_1  2  0    1    0   -1  0   6\n",
        "s_2  1  0    0    1    0  0   6\n",
        "y    0  1    0    0    1  0  10\n",
        "P   -1  0    0    0    1  1  10\n",
        "\n",
        "[4 rows x 7 columns]"
       ]
      }
     ],
     "prompt_number": 285
    },
    {
     "cell_type": "code",
     "collapsed": false,
     "input": [
      "R=0\n",
      "C=0\n",
      "do_row(A,R,C)\n",
      "pd.DataFrame(A,index=['x','s_2','y','P'],columns=['x','y','s_1','s_2','s_3','P','b'])"
     ],
     "language": "python",
     "metadata": {},
     "outputs": [
      {
       "html": [
        "<div style=\"max-height:1000px;max-width:1500px;overflow:auto;\">\n",
        "<table border=\"1\" class=\"dataframe\">\n",
        "  <thead>\n",
        "    <tr style=\"text-align: right;\">\n",
        "      <th></th>\n",
        "      <th>x</th>\n",
        "      <th>y</th>\n",
        "      <th>s_1</th>\n",
        "      <th>s_2</th>\n",
        "      <th>s_3</th>\n",
        "      <th>P</th>\n",
        "      <th>b</th>\n",
        "    </tr>\n",
        "  </thead>\n",
        "  <tbody>\n",
        "    <tr>\n",
        "      <th>x</th>\n",
        "      <td> 2</td>\n",
        "      <td> 0</td>\n",
        "      <td> 1</td>\n",
        "      <td> 0</td>\n",
        "      <td>-1</td>\n",
        "      <td> 0</td>\n",
        "      <td>  6</td>\n",
        "    </tr>\n",
        "    <tr>\n",
        "      <th>s_2</th>\n",
        "      <td> 0</td>\n",
        "      <td> 0</td>\n",
        "      <td>-1</td>\n",
        "      <td> 1</td>\n",
        "      <td> 0</td>\n",
        "      <td> 0</td>\n",
        "      <td>  3</td>\n",
        "    </tr>\n",
        "    <tr>\n",
        "      <th>y</th>\n",
        "      <td> 0</td>\n",
        "      <td> 1</td>\n",
        "      <td> 0</td>\n",
        "      <td> 0</td>\n",
        "      <td> 1</td>\n",
        "      <td> 0</td>\n",
        "      <td> 10</td>\n",
        "    </tr>\n",
        "    <tr>\n",
        "      <th>P</th>\n",
        "      <td> 0</td>\n",
        "      <td> 0</td>\n",
        "      <td> 0</td>\n",
        "      <td> 0</td>\n",
        "      <td> 0</td>\n",
        "      <td> 1</td>\n",
        "      <td> 13</td>\n",
        "    </tr>\n",
        "  </tbody>\n",
        "</table>\n",
        "<p>4 rows \u00d7 7 columns</p>\n",
        "</div>"
       ],
       "metadata": {},
       "output_type": "pyout",
       "prompt_number": 286,
       "text": [
        "     x  y  s_1  s_2  s_3  P   b\n",
        "x    2  0    1    0   -1  0   6\n",
        "s_2  0  0   -1    1    0  0   3\n",
        "y    0  1    0    0    1  0  10\n",
        "P    0  0    0    0    0  1  13\n",
        "\n",
        "[4 rows x 7 columns]"
       ]
      }
     ],
     "prompt_number": 286
    },
    {
     "cell_type": "code",
     "collapsed": false,
     "input": [
      "%%latex\n",
      "\\begin{align}\n",
      "x=&3.0\\\\\n",
      "y=&10.0\\\\\n",
      "P=&13\\\\\n",
      "s_1=&0\\\\\n",
      "s_2=&3\\\\\n",
      "s_3=&0\\\\\n",
      "\\end{align}"
     ],
     "language": "python",
     "metadata": {},
     "outputs": [
      {
       "latex": [
        "\\begin{align}\n",
        "x=&3.0\\\\\n",
        "y=&10.0\\\\\n",
        "P=&13\\\\\n",
        "s_1=&0\\\\\n",
        "s_2=&3\\\\\n",
        "s_3=&0\\\\\n",
        "\\end{align}"
       ],
       "metadata": {},
       "output_type": "display_data",
       "text": [
        "<IPython.core.display.Latex at 0x10b3e5810>"
       ]
      }
     ],
     "prompt_number": 287
    }
   ],
   "metadata": {}
  }
 ]
}