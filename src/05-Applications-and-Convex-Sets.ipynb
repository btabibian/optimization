{
 "metadata": {
  "name": "",
  "signature": "sha256:1cc629e1e89a70f056bdd1ac4e7167292d956cf28cf5ec56401892464cc1157e"
 },
 "nbformat": 3,
 "nbformat_minor": 0,
 "worksheets": [
  {
   "cells": [
    {
     "cell_type": "code",
     "collapsed": false,
     "input": [
      "from scipy.optimize import minimize\n",
      "import cvxopt\n",
      "from cvxopt import modeling\n",
      "import cvxpy as cvp\n",
      "import matplotlib.pyplot as plt\n",
      "from matplotlib.patches import Circle, Wedge, Polygon"
     ],
     "language": "python",
     "metadata": {},
     "outputs": [],
     "prompt_number": 1
    },
    {
     "cell_type": "markdown",
     "metadata": {},
     "source": [
      "$$C=\\begin{bmatrix} ~ &Fabrication & Assembly\\\\\n",
      " A & 2 & 1 \\\\\n",
      " B & 3 & 1\\\\\n",
      " C & 2 & 2 \\\\\n",
      " \\end{bmatrix}$$\n",
      " \n",
      "$$L=\\begin{bmatrix} ~ & \\text{Limits}\\\\\n",
      " Fabrication &  1000\\\\\n",
      " Assembly &  800\\\\\n",
      " \\end{bmatrix}$$\n",
      " \n",
      "$$P=\\begin{bmatrix} ~ & \\text{Profits}\\\\\n",
      " A & 7\\\\\n",
      " B & 8\\\\\n",
      " C & 10\\\\\n",
      " \\end{bmatrix}$$\n",
      " \n",
      "$$\\begin{align}\n",
      "\\text{Maximize }&P^TX\\\\\n",
      "\\text{Subject to }&C^TX\\preceq L\\\\\n",
      "&X\\succeq 0\\\\\n",
      "\\end{align}$$\n",
      "\n",
      "<!--break-->\n"
     ]
    },
    {
     "cell_type": "code",
     "collapsed": false,
     "input": [
      "x_1=cvp.Variable(rows=3)\n",
      "P=np.array([[7,8,9]])\n",
      "b=np.array([10,8])\n",
      "C=np.array([[2,1],[3,1],[2,2]])\n",
      "print P.shape,x_1.shape\n",
      "constraints = [ x_1>=0,C.T*x_1 <= b]\n",
      "objective1 = cvp.Minimize(-1*P*x_1)\n",
      "p1 = cvp.Problem(objective1, constraints)\n",
      "p1.solve()\n",
      "print x_1.value\n",
      "print objective1.value\n"
     ],
     "language": "python",
     "metadata": {},
     "outputs": [
      {
       "output_type": "stream",
       "stream": "stdout",
       "text": [
        "(1, 3) Shape(3, 1)\n",
        "[ 2.00e+00]\n",
        "[ 5.40e-07]\n",
        "[ 3.00e+00]\n",
        "\n",
        "-40.9999962424\n"
       ]
      },
      {
       "output_type": "stream",
       "stream": "stderr",
       "text": [
        "/Library/Python/2.7/site-packages/numpy/core/fromnumeric.py:2499: VisibleDeprecationWarning: `rank` is deprecated; use the `ndim` attribute or function instead. To find the rank of a matrix see `numpy.linalg.matrix_rank`.\n",
        "  VisibleDeprecationWarning)\n"
       ]
      }
     ],
     "prompt_number": 2
    },
    {
     "cell_type": "code",
     "collapsed": false,
     "input": [
      "P=np.array([[7,8,9]]).T\n",
      "L=np.array([1000,800]).T\n",
      "C=np.array([[2,1],[3,1],[2,2]])\n",
      "\n",
      "def fun(x):\n",
      "    cost=-np.dot(P.T,x)\n",
      "    return cost\n",
      "const=map(lambda j:{'type':'ineq',\n",
      "       'fun':lambda x:x[j]},xrange(C.shape[0]))+\\\n",
      "       map(lambda j:{'type':'ineq',\n",
      "       'fun':lambda x:L[j]-np.dot(x,C.T[j,:])},xrange(C.shape[1]))\n",
      "       \n",
      "minimize(fun,x0=np.array([0.1,0.1,0.1]),constraints=const)"
     ],
     "language": "python",
     "metadata": {},
     "outputs": [
      {
       "metadata": {},
       "output_type": "pyout",
       "prompt_number": 79,
       "text": [
        "  status: 0\n",
        " success: True\n",
        "    njev: 12\n",
        "    nfev: 60\n",
        "     fun: array([-4099.99999998])\n",
        "       x: array([  2.00000000e+02,   1.53958624e-10,   3.00000000e+02])\n",
        " message: 'Optimization terminated successfully.'\n",
        "     jac: array([-7., -8., -9.,  0.])\n",
        "     nit: 12"
       ]
      }
     ],
     "prompt_number": 79
    },
    {
     "cell_type": "markdown",
     "metadata": {},
     "source": [
      "$$P=\\begin{bmatrix} ~ &Regular & Delux\\\\\n",
      " A & 20 & 10 \\\\\n",
      " B & 10 & 20\\\\\n",
      " C & 20 & 20 \\\\\n",
      " \\end{bmatrix}$$\n",
      " \n",
      "$$L=\\begin{bmatrix} ~ & \\text{Limits}\\\\\n",
      " Regular &  300\\\\\n",
      " Assembly &  200\\\\\n",
      " \\end{bmatrix}$$\n",
      " \n",
      "$$C=\\begin{bmatrix} ~ & \\text{Costs}\\\\\n",
      " A & 70\\\\\n",
      " B & 75\\\\\n",
      " C & 90\\\\\n",
      " \\end{bmatrix}$$\n",
      " \n",
      "$$\\begin{align}\n",
      "\\text{Minimize }&C^TX\\\\\n",
      "\\text{Subject to }&P^TX\\succeq L\\\\\n",
      "&X\\succeq 0\\\\\n",
      "\\end{align}$$"
     ]
    },
    {
     "cell_type": "code",
     "collapsed": false,
     "input": [
      "x_1=cvp.Variable(rows=3)\n",
      "C=np.array([[70,75,90]]).T\n",
      "L=np.array([300,200]).T\n",
      "P=np.array([[20,10],[10,20],[20,20]])\n",
      "constraints = [ x_1>=0,P.T*x_1 >= L]\n",
      "objective1 = cvp.Minimize(C.T*x_1)\n",
      "p1 = cvp.Problem(objective1, constraints)\n",
      "p1.solve()\n",
      "print x_1.value"
     ],
     "language": "python",
     "metadata": {},
     "outputs": [
      {
       "output_type": "stream",
       "stream": "stdout",
       "text": [
        "[ 1.00e+01]\n",
        "[ 8.28e-07]\n",
        "[ 5.00e+00]\n",
        "\n"
       ]
      }
     ],
     "prompt_number": 95
    },
    {
     "cell_type": "code",
     "collapsed": false,
     "input": [
      "def fun(x):\n",
      "    cost=np.dot(C.T,x)\n",
      "    return cost\n",
      "const=map(lambda j:{'type':'ineq',\n",
      "       'fun':lambda x:x[j]},xrange(P.shape[0]))+\\\n",
      "       map(lambda j:{'type':'ineq',\n",
      "       'fun':lambda x:np.dot(x,P.T[j,:])-L[j]},xrange(P.shape[1]))\n",
      "       \n",
      "minimize(fun,x0=np.array([0.1,0.1,0.1]),constraints=const)"
     ],
     "language": "python",
     "metadata": {},
     "outputs": [
      {
       "metadata": {},
       "output_type": "pyout",
       "prompt_number": 97,
       "text": [
        "  status: 0\n",
        " success: True\n",
        "    njev: 2\n",
        "    nfev: 10\n",
        "     fun: array([ 1149.99999994])\n",
        "       x: array([  1.00000000e+01,  -2.10258116e-10,   5.00000000e+00])\n",
        " message: 'Optimization terminated successfully.'\n",
        "     jac: array([ 70.,  75.,  90.,   0.])\n",
        "     nit: 2"
       ]
      }
     ],
     "prompt_number": 97
    },
    {
     "cell_type": "markdown",
     "metadata": {},
     "source": [
      "####Affine set: \n",
      "\n",
      "A set is Affine if:\n",
      "\n",
      "$$\\begin{align}\n",
      "C \\subseteq R^N\\\\\n",
      "x_1,x_2 \\in C, \\theta \\in R \\text{ then} \\\\\n",
      "\\theta x_1+(1-\\theta)x_2 \\in C\\\\\n",
      "\\end{align}$$\n",
      "\n",
      "####Convex set: \n",
      "\n",
      "A set is Convex if:\n",
      "\n",
      "$$\\begin{align}\n",
      "C \\subseteq R^N\n",
      "\\end{align}$$\n",
      "and\n",
      "$$\\begin{align}\n",
      "x_1,x_2 \\in C, \\theta \\in R \\text{ and } 0 \\leq \\theta \\leq 1 \\text{ then} \\\\\n",
      "\\theta x_1+(1-\\theta)x_2 \\in C\\\\\n",
      "\\end{align}$$\n",
      "\n",
      "\n",
      "\n",
      "#### Convex cone with vertex the origin: \n",
      "A set is convex cone with vertex the origin if:\n",
      "\n",
      "$$\\begin{align}\n",
      "C \\subseteq R^N\n",
      "\\end{align}$$\n",
      "and\n",
      "$$\\begin{align}\n",
      "x,y \\in C, \\theta_x,\\theta_y \\in R \\text{ and } 0 \\leq \\theta_x,\\theta_y \\text{ then} \\\\\n",
      "\\theta_x x +\\theta_y y \\in C\\\\\n",
      "\\end{align}$$\n",
      "\n",
      "#### Polyhedra\n",
      "\n",
      "A set is Polyhedra(Polytope) if:\n",
      "\n",
      "$$P = \\{x|a_j^T x \\leq b_j, j= 1,\\dots, m, c_j^Tx=d_j, j= 1,\\dots,p\\} = \\{x | Ax\\preceq b.Cx=d\\}$$"
     ]
    },
    {
     "cell_type": "markdown",
     "metadata": {},
     "source": [
      "### Q2.12 - a\n",
      "\n",
      "Describe following set:\n",
      "\n",
      "\\begin{align}\n",
      "S_1=\\{x=[x_1,x_2]^T:x_1^2+x_2^2\\leq 1,x_1-x_2\\leq 1,x_2>-x_1-1\\}\n",
      "\\end{align}"
     ]
    },
    {
     "cell_type": "code",
     "collapsed": false,
     "input": [
      "plt.axis('equal')\n",
      "x=np.arange(-5,10,0.1)\n",
      "plt.xlim((-2,2))\n",
      "plt.ylim((-2,2))\n",
      "plt.grid()\n",
      "plt.gca().add_artist(plt.Circle((0,0),1,color='k',alpha=0.1))\n",
      "plt.plot(x,x-1)\n",
      "plt.plot(x,-x-1)\n",
      "plt.gca().add_artist(plt.Polygon([[0,-1],[-1,0],[1,0]],color='k'))\n",
      "plt.gca().add_artist(Wedge((0,0),1,0,180,color='k'))"
     ],
     "language": "python",
     "metadata": {},
     "outputs": [
      {
       "metadata": {},
       "output_type": "pyout",
       "prompt_number": 3,
       "text": [
        "<matplotlib.patches.Wedge at 0x10ff1ce90>"
       ]
      },
      {
       "metadata": {},
       "output_type": "display_data",
       "png": "[encoded data removed]",
       "text": [
        "<matplotlib.figure.Figure at 0x10ff14590>"
       ]
      }
     ],
     "prompt_number": 3
    },
    {
     "cell_type": "markdown",
     "metadata": {},
     "source": [
      "+ This set **is** *convex*, this is the case because this set is intersection of a set of convex sets: Circle and two halfspace. Since convex sets are closed under intersection therefore this set is also *convex*.\n",
      "\n",
      "+ The set **is not** *convex cone with vertex the origin* because assuming $\\theta=1000$ and x=$0,0.5$ the point $0,500$ does not belong to the set.\n",
      "\n",
      "+ The set **is not** a *convex polytope* because it cannot be represented as a linear inequalities of $x$."
     ]
    },
    {
     "cell_type": "markdown",
     "metadata": {},
     "source": [
      "### Q2.12 - b\n",
      "\n",
      "Describe following set:\n",
      "\n",
      "\\begin{align}\n",
      "S_1=\\{x=[x_1,x_2]^T:x_1+x_2\\leq 5,x_1\\geq 0,x_2\\geq 2\\}\n",
      "\\end{align}"
     ]
    },
    {
     "cell_type": "code",
     "collapsed": false,
     "input": [
      "plt.axis('equal')\n",
      "x=np.arange(-15,15,1)\n",
      "plt.xlim((-10,10))\n",
      "plt.ylim((-10,10))\n",
      "plt.grid()\n",
      "plt.plot(x,5-x)\n",
      "plt.vlines(0,-15,15,color='r')\n",
      "plt.hlines(0,-15,15,color='g')\n",
      "plt.gca().add_artist(plt.Polygon([[0,0],[0,5],[5,0]],color='k'))"
     ],
     "language": "python",
     "metadata": {},
     "outputs": [
      {
       "metadata": {},
       "output_type": "pyout",
       "prompt_number": 171,
       "text": [
        "<matplotlib.patches.Polygon at 0x106b5c790>"
       ]
      },
      {
       "metadata": {},
       "output_type": "display_data",
       "png": "[encoded data removed]",
       "text": [
        "<matplotlib.figure.Figure at 0x106549050>"
       ]
      }
     ],
     "prompt_number": 171
    },
    {
     "cell_type": "markdown",
     "metadata": {},
     "source": [
      "+ This set **is** *convex*, this is the case because this set is intersection of a set of convex sets: three halfspaces. Since convex sets are closed under intersection therefore this set is also *convex*.\n",
      "\n",
      "+ The set **is not** *convex cone with vertex the origin* because assuming $\\theta=1000$ and $x=0,0.5$ the point $0,500$ does not belong to the set.\n",
      "\n",
      "+ The set **is** a *convex polytope* because it is represented as a set of linear equalities and inequalities of $x$."
     ]
    },
    {
     "cell_type": "markdown",
     "metadata": {},
     "source": [
      "### Q2.12 - c\n",
      "\n",
      "Describe following set:\n",
      "\n",
      "\\begin{align}\n",
      "S_2=\\{x=[x_1,x_2]^T:2x_1-x_2\\leq 4,x_1-x_2\\geq -5,x_1\\geq 0,x_2\\geq 0\\}\n",
      "\\end{align}"
     ]
    },
    {
     "cell_type": "code",
     "collapsed": false,
     "input": [
      "plt.axis('equal')\n",
      "x=np.arange(-20,20,1)\n",
      "plt.xlim((-20,20))\n",
      "plt.ylim((-20,20))\n",
      "plt.grid()\n",
      "plt.plot(x,2*x-4)\n",
      "plt.plot(x,x+5)\n",
      "plt.vlines(0,-20,20,color='r')\n",
      "plt.hlines(0,-30,30,color='g')\n",
      "plt.gca().add_artist(plt.Polygon([[0,0],[0,5],[9,14],[2,0]],color='k'))"
     ],
     "language": "python",
     "metadata": {},
     "outputs": [
      {
       "metadata": {},
       "output_type": "pyout",
       "prompt_number": 178,
       "text": [
        "<matplotlib.patches.Polygon at 0x106fd5410>"
       ]
      },
      {
       "metadata": {},
       "output_type": "display_data",
       "png": "[encoded data removed]",
       "text": [
        "<matplotlib.figure.Figure at 0x106eeca50>"
       ]
      }
     ],
     "prompt_number": 178
    },
    {
     "cell_type": "markdown",
     "metadata": {},
     "source": [
      "+ This set **is** *convex*, this is the case because this set is intersection of a set of convex sets: four halfspaces. Since convex sets are closed under intersection therefore this set is also *convex*.\n",
      "\n",
      "+ The set **is not** *convex cone with vertex the origin* because assuming $\\theta=1000$ and $x=0,0.5$ the point $x'=(0,500)$ does not belong to the set.\n",
      "\n",
      "+ The set **is** a *convex polytope* because it is represented as a set of linear equalities and inequalities of $x$."
     ]
    },
    {
     "cell_type": "markdown",
     "metadata": {},
     "source": [
      "### Q2.13\n",
      "\n",
      "Describe Following:\n",
      "\n",
      "\\begin{align}\n",
      "S=\\{[0,0]^T,[4,1]^T,[5,0]^T,[3,9]^T,[0,2]^T,[0,0]^T,[2,8]^T\\}\n",
      "\\end{align}\n",
      "\n",
      "---\n",
      "\n",
      "$\\textbf{Aff}(S)$ and $\\textbf{L}(S)$ are the whole 2D plane. "
     ]
    },
    {
     "cell_type": "code",
     "collapsed": false,
     "input": [
      "plt.axis('equal')\n",
      "x=np.array([[0,0],[0,2],[2,8],[3,9],[5,0],[4,1]])\n",
      "plt.xlim((-1,10))\n",
      "plt.ylim((-1,10))\n",
      "plt.grid()\n",
      "plt.scatter(x[:,0],x[:,1],color='k')\n",
      "plt.gca().add_artist(plt.Polygon(x[:-1],alpha=0.1))\n",
      "plt.title('Con(S)')\n",
      "plt.figure()\n",
      "plt.xlim((-1,10))\n",
      "plt.ylim((-1,10))\n",
      "plt.grid()\n",
      "plt.scatter(x[:,0],x[:,1],color='k')\n",
      "plt.gca().add_artist(plt.Polygon([[0,0],[0,10],[10,10],[10,0]],alpha=0.1))\n",
      "plt.title('Coni(S)')"
     ],
     "language": "python",
     "metadata": {},
     "outputs": [
      {
       "metadata": {},
       "output_type": "pyout",
       "prompt_number": 193,
       "text": [
        "<matplotlib.text.Text at 0x107672150>"
       ]
      },
      {
       "metadata": {},
       "output_type": "display_data",
       "png": "[encoded data removed]",
       "text": [
        "<matplotlib.figure.Figure at 0x10769c590>"
       ]
      },
      {
       "metadata": {},
       "output_type": "display_data",
       "png": "[encoded data removed]",
       "text": [
        "<matplotlib.figure.Figure at 0x1075efa90>"
       ]
      }
     ],
     "prompt_number": 193
    },
    {
     "cell_type": "markdown",
     "metadata": {},
     "source": [
      "### Q2.14\n",
      "The hyperplane $H$ is defined as:\n",
      "\n",
      "\\begin{align}\n",
      "H(c,b):c^TX&=\\beta\\\\\n",
      "3x_1+4x_2&=12\\\\\n",
      "x_2&=3-\\frac{3}{4}x_1\\\\\n",
      "\\end{align}\n",
      "\n",
      "\\begin{align}\n",
      "H^+(c,b):c^TX&\\geq\\beta\\\\\n",
      "\\end{align}\n",
      "\n",
      "\\begin{align}\n",
      "H^-(c,b):c^TX&\\leq\\beta\\\\\n",
      "\\end{align}\n"
     ]
    },
    {
     "cell_type": "code",
     "collapsed": false,
     "input": [
      "\n",
      "x=np.arange(-10,15,1)\n",
      "plt.xlim((-3,10))\n",
      "plt.ylim((-3,10))\n",
      "plt.grid()\n",
      "plt.plot(x,3-0.75*x)\n",
      "plt.gca().add_artist(plt.Polygon([[-4,6],[-4,10],[10,10],[10,-4],[8,-3]],alpha=0.3,color='g'))\n",
      "font = {'family' : 'serif',\n",
      "        'color'  : 'darkred',\n",
      "        'weight' : 'normal',\n",
      "        'size'   : 16,\n",
      "        }\n",
      "plt.text(6,6,\"H+\",font)\n",
      "plt.gca().add_artist(plt.Polygon([[-3,5.25],[8,-3],[-3,-3]],alpha=0.3,color='r'))\n",
      "plt.text(0,0,\"H-\",font)"
     ],
     "language": "python",
     "metadata": {},
     "outputs": [
      {
       "metadata": {},
       "output_type": "pyout",
       "prompt_number": 216,
       "text": [
        "<matplotlib.text.Text at 0x108209a50>"
       ]
      },
      {
       "metadata": {},
       "output_type": "display_data",
       "png": "[encoded data removed]",
       "text": [
        "<matplotlib.figure.Figure at 0x108128250>"
       ]
      }
     ],
     "prompt_number": 216
    },
    {
     "cell_type": "markdown",
     "metadata": {},
     "source": [
      "A set is convex cone with vertex the origin if:\n",
      "\n",
      "\\begin{align}\n",
      "C \\subseteq R^N\n",
      "\\end{align}\n",
      "and\n",
      "\\begin{align}\n",
      "x,y \\in C, \\theta_x,\\theta_y \\in R \\text{ and } 0 \\leq \\theta_x,\\theta_y \\text{ then} \\\\\n",
      "\\theta_x x +\\theta_y y \\in C\\\\\n",
      "\\end{align}\n",
      "\n",
      "---\n",
      "\n",
      "\\begin{align}\n",
      "\\text{Coni }(X)=\\sum_{i=1}^{k}\\alpha_i x_i, \\forall x_i \\in X,\\forall \\alpha_i \\geq 0\n",
      "\\end{align}\n",
      "\n",
      "> $X$ is *convex cone with vertex the origin* if $X=\\text{Coni }(X)$\n",
      "\n",
      "This can be deducted by looking at the form of $\\text{Coni }(X)$.\n",
      "\n",
      "\\begin{align}\n",
      "\\text{Coni }(X)=\\sum_{i=1}^{k}\\alpha_i x_i, \\forall x_i \\in X,\\forall \\alpha_i \\geq 0\n",
      "\\end{align}\n",
      "\n",
      "assuming vector $\\alpha$ takes 0 on all entries except two, say $\\alpha_p$ and $\\alpha_q$, we retrieve the same formulation as *convex cone with vertex the origin*.\n",
      "\n",
      "\n",
      "\n",
      "> $X=\\text{Coni }(X)$ if $X$ is *convex cone with vertex the origin*:\n",
      "\n",
      "This can be deducted by looking at the form of *convex cone with vertex the origin*.\n",
      "\n",
      "\\begin{align}\n",
      "\\text{Coni }(X)=\\sum_{i=1}^{k}\\alpha_i x_i, \\forall x_i \\in X,\\forall \\alpha_i \\geq 0\n",
      "\\end{align}\n",
      "\n",
      "We can rewrite the sum as:\n",
      "\n",
      "\\begin{align}\n",
      "\\text{Coni }(X)=\\sum_{i=1}^{l}\\alpha_i x_i + \\sum_{i=l}^{k}\\alpha_i x_i, \\forall x_i \\in X,\\forall \\alpha_i \\geq 0 \n",
      "\\end{align}\n",
      "\n",
      "\\begin{align}\n",
      "P=\\sum_{i=1}^{l}\\alpha_i x_i \\forall x_i \\in X,\\forall \\alpha_i \\geq 0 \n",
      "\\end{align}\n",
      "\n",
      "\\begin{align}\n",
      "Q=\\sum_{i=l}^{k}\\alpha_i x_i \\forall x_i \\in X,\\forall \\alpha_i \\geq 0 \n",
      "\\end{align}\n",
      "\n",
      "$P,Q$ are subsets of $X$ (we can assume the $\\alpha$s absent in each sum are zero). Therefore:\n",
      "\n",
      "\\begin{align}\n",
      "x\\in P,y \\in Q, \\theta_p,\\theta_q \\in R \\text{ and } 0 \\leq \\theta_p,\\theta_q \\text{ then} \\\\\n",
      "\\theta_p x_p +\\theta_q x_q \\in X\\\\\n",
      "\\end{align}\n",
      "\n",
      "Which shows that $X$ is *convex cone with vertex the origin*.\n",
      "\n"
     ]
    }
   ],
   "metadata": {}
  }
 ]
}