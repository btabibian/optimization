{
 "metadata": {
  "name": ""
 },
 "nbformat": 3,
 "nbformat_minor": 0,
 "worksheets": [
  {
   "cells": [
    {
     "cell_type": "markdown",
     "metadata": {},
     "source": [
      "###Affine set:"
     ]
    },
    {
     "cell_type": "markdown",
     "metadata": {},
     "source": [
      "\\begin{align}\n",
      "C \\subseteq R^N\\\\\n",
      "x_1,x_2 \\in C, \\theta \\in R \\text{ then} \\\\\n",
      "\\theta x_1+(1-\\theta)x_2 \\in C\\\\\n",
      "\\end{align}"
     ]
    },
    {
     "cell_type": "markdown",
     "metadata": {},
     "source": [
      "+ If $C$ is affine set and $x_0 \\in C$ we have:\n",
      "\n",
      "  $V=C-$x_0$=\\{x-x_0 |x \\in C\\}$\n",
      "+ Solution of a linear equation is an affine set.\n",
      "+ **affine hull**: \n",
      "  The set of all affine combinations of points in some set $C \\subseteq R^n$ and denoted **aff $C$**:\n",
      "  \n",
      "  **aff** $C= \\{ \\theta_1 x_1+\\dots+\\theta_k x_k|x_1,...x_k \\in C,\\theta_1+\\dots+\\theta_k = 1\\}$\n",
      "  \n",
      "  if $S$ is any affine set with $C \\subseteq S$, then **aff $C \\subseteq S$**"
     ]
    },
    {
     "cell_type": "markdown",
     "metadata": {},
     "source": [
      "#### Affine dimension\n",
      "+ Affine dimension of a set is defined as dimension of its affine hull.\n",
      "+ If the affine dimension of a set $C \\subseteq R^n$ is less than $n$, then $C$ lies in the affine set $\\textbf{aff} C \\neq R^n$.\n",
      "\n",
      "#### Relative Interior\n",
      "+ relative interior of a set $C$:\n",
      "\n",
      "  $\\textbf{relint}=\\{X \\in C |  B(x,r)  \\cap  \\textbf{aff}  C  \\subseteq C, \\text{for some} r > 0\\}$. note the $r>0$ condition excludes $x$ itself.\n",
      "+ **relative boundary** of a set $C$ is defined as :\n",
      "  $\\textbf{cl} C \\setminus \\textbf{relint} C$"
     ]
    },
    {
     "cell_type": "markdown",
     "metadata": {},
     "source": [
      "###Convex set"
     ]
    },
    {
     "cell_type": "markdown",
     "metadata": {},
     "source": [
      "\\begin{align}\n",
      "C \\subseteq R^N\n",
      "\\end{align}\n",
      "and\n",
      "\\begin{align}\n",
      "x_1,x_2 \\in C, \\theta \\in R \\text{ and } 0 \\leq \\theta \\leq 1 \\text{ then} \\\\\n",
      "\\theta x_1+(1-\\theta)x_2 \\in C\\\\\n",
      "\\end{align}"
     ]
    },
    {
     "cell_type": "markdown",
     "metadata": {},
     "source": [
      "+ A set is **convex** if every point in the set can be seen by every other point, along an unobstructed straight line path between them.\n",
      "+ Every affine set is also convex.\n",
      "+ **convex combination** is a point of the form:\n",
      "\n",
      "  $\\theta_1 x_1 + \\dots + x_k \\theta_k$\n",
      "  \n",
      "  where $\\theta_i \\geq 0$ and $\\theta_1 + \\dots + \\theta_k = 1$\n",
      "\n",
      "#### Convex hull:\n",
      "\n",
      "$ \\textbf{Conv} C = \\{ \\theta_1 x_1 + \\dots + \\theta_k x_k | x_i \\in C, \\theta_i \\geq 0, i=1,\\dots,k, \\theta_1+ \\dots+\\theta_k=1\\}$\n",
      "\n",
      "This can be generalized as:\n",
      "\n",
      ">Suppose $\\theta_1, \\theta_2, \\dots$ satisfy:\n",
      "\n",
      ">$\\theta_i\\geq0, i=1,2,\\dots, \\sum_{i=1}^{\\infty}\\theta_i = 1$\n",
      "\n",
      ">and $x_1, x_2, \\dots \\in C$, where $C \\subseteq R^n$ is convex. Then:\n",
      "\n",
      ">$\\sum_{i=1}^{\\infty}\\theta_i x_i \\in C$\n",
      "\n",
      ">If the series converges.\n",
      "\n",
      "More generally suppose\n",
      "\n",
      "> $p: R^n \\rightarrow R$ satisfies $p(x) \\geq 0$  for all $x \\in C$ and $\\int_{C}p(x)dx=1$ where $C\\subseteq R^n$ is convex, then\n",
      "\n",
      "> $\\int_{C}p(x)xdx \\in C$\n",
      "\n",
      "> if integral exist."
     ]
    },
    {
     "cell_type": "markdown",
     "metadata": {},
     "source": [
      "###Cones"
     ]
    },
    {
     "cell_type": "code",
     "collapsed": false,
     "input": [
      "%%latex\n",
      "\\[\n",
      "C \\subseteq R^N\n",
      "\\]\n",
      "and\n",
      "\\begin{align}\n",
      "x \\in C, \\theta \\in R \\text{ and } 0 \\geq \\theta \\text{ then} \\\\\n",
      "\\theta x\\in C\\\\\n",
      "\\end{align}"
     ],
     "language": "python",
     "metadata": {},
     "outputs": [
      {
       "latex": [
        "\\[\n",
        "C \\subseteq R^N\n",
        "\\]\n",
        "and\n",
        "\\begin{align}\n",
        "x \\in C, \\theta \\in R \\text{ and } 0 \\geq \\theta \\text{ then} \\\\\n",
        "\\theta x\\in C\\\\\n",
        "\\end{align}"
       ],
       "metadata": {},
       "output_type": "display_data",
       "text": [
        "<IPython.core.display.Latex at 0x109a23250>"
       ]
      }
     ],
     "prompt_number": 6
    },
    {
     "cell_type": "markdown",
     "metadata": {},
     "source": [
      "+ A set $C$ is **convex cone** if it is *convex* and *cone*:\n",
      "  \\begin{align}\n",
      "  x_1,x_2 \\in C, \\theta_1,\\theta_2 \\geq 0: \\\\\n",
      "  \\theta_1 x_1+\\theta_2 x_2 \\in C\\\\\n",
      "  \\end{align}\n",
      "\n",
      "+ Points of this form form the two-dimensional pie slice with apex 0 and edges passing trhough $x_1$ and $x_2$.\n",
      "+ A set $C$ is a convex cone iff it contains all conic combinations of its elements.\n",
      "+ **conic hull** of a set $C$ is the set of all conic combinations of points in $C$:\n",
      "  \\begin{align}\n",
      "  \\{\\theta_1x_1+\\dots+\\theta_kx_k|x_i \\in C, \\theta_i \\geq 0, i=1,\\dots,k\\}\n",
      "  \\end{align}\n",
      "  Which is the smallest convex cone that contains $C$."
     ]
    },
    {
     "cell_type": "markdown",
     "metadata": {},
     "source": [
      "###Examples\n",
      "\n",
      "+ The empty set $\\emptyset$, any single point ${x_0}$, and the whole space $R^n$ are **affine** and thus **convex** subsets of $R^n$.\n",
      "+ Any line is **affine**. If it passes through zero, it is a subspace, hence a **convex cone**.\n",
      "+ A line segment is **convex**, but not **affine**.\n",
      "+ A *ray*, $\\{x_0+\\theta\\nu|\\theta\\geq0\\}$ where $\\nu \\neq 0$, is **convex**, but not **affine**. It is **convex cone** if its base is $x_0=0$.\n",
      "+ Any *Subspace* is **affine**, and **a convex cone**(hence **convex**)\n",
      "+ *Halfspaces* are **convex**:\n",
      "\n",
      "  $\\{x|a^Tx \\leq b\\}$\n",
      "  \n",
      "  as:\n",
      "  \n",
      "   $C=\\{x|a^Tx \\leq b\\}$\n",
      "   \n",
      "   if $x_0,x_1 \\in C$ and $0 \\leq \\theta \\leq 1$:\n",
      "   \n",
      "   $a^T x_2=a^T(\\theta x_0) + a^T((1-\\theta)x_1) \\leq \\theta b + (1-\\theta) b = b$ \n",
      "   \n",
      "   and thus $x_2 \\in C$\n",
      "   \n",
      "+ A *Euclidean ball*:http://en.wikipedia.org/wiki/Ball_(mathematics) in $R^n$:\n",
      "\n",
      "  $B(x_c,r)=\\{x|\\parallel x-x_c \\parallel_2 \\leq r\\} = \\{x| (x-x_c)^T(x-x_c) \\leq r^2\\} $\n",
      "  \n",
      "  is **convex**:\n",
      "  \n",
      "  \\begin{align}\n",
      "  \\parallel \\theta x_1 + (1-\\theta)x_2 - x_c \\parallel_2 &= \\parallel \\theta (x_1-x_c) - (1-\\theta)(x_2 - x_c) \\parallel_2\\\\ \n",
      "  &\\leq \\theta \\parallel  (x_1-x_c) \\parallel_2 + (1-\\theta)\\parallel (x_2 - x_c) \\parallel_2 \\text{Triangle inequality}\\\\\n",
      "  &\\leq r\n",
      "  \\end{align}\n",
      "  \n",
      "+ An *Ellipsoid*:http://mathworld.wolfram.com/Ellipsoid.html in $R^n$:\n",
      "\n",
      "  $\\xi= \\{(x-x_c)^TP^{-1}(x-x_c)\\leq 1\\}$\n",
      "  \n",
      "  where $P=P^T \\succ 0$ (Symmetric and Positive definite).\n",
      "  \n",
      "  is **convex**.\n",
      "  \n",
      "+ A *norm ball*:http://en.wikipedia.org/wiki/Ball_(mathematics)#Balls_in_normed_vector_spaces is any norm on $R^n$ .\n",
      "\n",
      "  $B(x_c,r)=\\{x|\\parallel x-x_c \\parallel \\leq r\\}$\n",
      "  \n",
      "  is **convex**.\n",
      "+ A *norm cone* associated with $\\parallel \\cdot \\parallel$ is the set:\n",
      "\n",
      "  $C=\\{(x,t)|\\parallel x \\parallel \\leq t\\} \\subseteq R^{n+1}$\n",
      "  \n",
      "  is **convex cone**.\n",
      "+ [*Polyhedra*](http://en.wikipedia.org/wiki/Polyhedron) is:\n",
      "\n",
      "   $ P = \\{x|a_j^T x \\leq b_j, j= 1,\\dots, m, c_j^Tx=d_j, j= 1,\\dots,p\\} = \\{x | Ax\\preceq b.Cx=d\\}$\n",
      "   \n",
      "   **convex** set.\n",
      "   \n",
      "  + [*Simplexes*](https://en.wikipedia.org/wiki/Simplex) are **convex**:\n",
      "    Suppose the $k+1$ points $\\nu_0,\\dots,\\nu_k \\in R^n$ are *affinely independent*: $\\nu_1-\\nu_0,\\dots,\\nu_k-\\nu_0$ are linearly independent.\n",
      "    $C=conv\\{\\nu_0,\\dots,\\nu_k\\}=\\{\\theta_0\\nu_0+\\dots+\\theta_k\\nu_k|\\theta \\succeq0,\\boldsymbol{1}^T\\theta=1\\}$\n",
      "    \n",
      "    assume:\n",
      "    \\begin{align}\n",
      "    x&=\\theta_0\\nu_0,\\dots,\\theta_k\\nu_k\\\\\n",
      "    y&=(\\theta_1,\\dots,\\theta_k)\\\\\n",
      "    B&=[\\nu_1-\\nu_0 \\dots \\nu_k-\\nu_0]\\in R^{n \\times k}\\\\\n",
      "    \\end{align}\n",
      "    then\n",
      "    \\begin{align}\n",
      "    x&=\\nu_0+By\\\\\n",
      "    \\end{align}\n",
      "    We know that $B$ has rank $k$ thus there is a nonsingular matrix $A=(A_1,A_2)\\in R^{n\\times n}$ such that:\n",
      "    \\begin{align}\n",
      "    AB= \\begin{bmatrix} A_1\\\\ A_2 \\end{bmatrix}B=\\begin{bmatrix} I\\\\ 0 \\end{bmatrix}\n",
      "    \\end{align}\n",
      "    Multiplying $x$ on the left with $A$:\n",
      "    \\begin{align}\n",
      "    A_1x=A_1\\nu+y,A_2x=A_2\\nu_0\\\\\n",
      "    \\end{align}\n",
      "    Which follows that:\n",
      "    \\begin{align}\n",
      "    A_2x&=A_2\\nu_0&&\\\\\n",
      "    A_1x&\\succeq A_1\\nu_0& \\text{ because } & y=A_1x-A_1\\nu \\succeq 0 \\\\\n",
      "    \\boldsymbol{1}^TA_1x&\\leq\\boldsymbol{1}^TA_1\\nu_0& \\text{ because }& \\boldsymbol{1}^Ty\\leq1 \\\\\n",
      "    &&&\\boldsymbol{1}^T(A_1x-A_1\\nu_0)\\leq 1\\\\\n",
      "    &&&\\boldsymbol{1}^TA_1x\\leq 1+\\boldsymbol{1}^TA_1\\nu_0\\\\\n",
      "    \\end{align}\n",
      "    These are a set of linear equalities and inequalities and thus a polyhedra.\n",
      "+ *Positive semidefinite cone*:\n",
      "\n",
      "  $ \\boldsymbol{S}^n = \\{X \\in \\boldsymbol{R}^{n\\times n} | X=X^T \\}$\n",
      "  \n",
      "  which is a vector space with dimension $n(n+1)/2$.\n",
      "  \n",
      "  $ \\boldsymbol{S}^n_+ = \\{X \\in \\boldsymbol{S}^{n} | X\\succeq 0 \\}$\n",
      "  \n",
      "  and \n",
      "  \n",
      "  $ \\boldsymbol{S}^n_{++} = \\{X \\in \\boldsymbol{S}^{n} | X\\succ 0 \\}$\n",
      "  \n",
      "  The set $\\boldsymbol{S}^n_+$ is a convex cone:\n",
      "  if:\n",
      "  \\begin{align}\n",
      "  \\theta_1,\\theta_2\\geq 0\n",
      "  A,B \\in \\boldsymbol{S}^n_+\n",
      "  \\end{align}  \n",
      "  then:\n",
      "  \\begin{align}\n",
      "  x^T(\\theta_1A+\\theta_2B)x=\\theta_1x^TAx+\\theta_2x^TBx\\geq0\n",
      "  \\end{align}\n",
      "  The reason it is *convex* is discussed in next section.\n",
      "    "
     ]
    }
   ],
   "metadata": {}
  }
 ]
}