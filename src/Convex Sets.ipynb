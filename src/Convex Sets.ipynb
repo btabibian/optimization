{
 "metadata": {
  "name": "",
  "signature": "sha256:08b70a69bcb2089a8f56bd937044665e46d63d0c9d04e78036a4a2b53f73b187"
 },
 "nbformat": 3,
 "nbformat_minor": 0,
 "worksheets": [
  {
   "cells": [
    {
     "cell_type": "code",
     "collapsed": false,
     "input": [
      "import numpy as np\n",
      "import matplotlib.pyplot as plt"
     ],
     "language": "python",
     "metadata": {},
     "outputs": [],
     "prompt_number": 1
    },
    {
     "cell_type": "markdown",
     "metadata": {},
     "source": [
      "Convex Optimization\n",
      "========\n",
      "## Convex Sets\n",
      "\n",
      "This is the first notebook of the series going through Convex Optimizaion. The topics here are following MOOC [Convex Optimization](https://class.stanford.edu/courses/Engineering/CVX101) course by Stephen Boyd at Stanford. \n",
      "\n",
      "<img src=\"files/imgs/cov_opt.jpeg\">\n",
      "----\n",
      "\n",
      "In this notebook we will discuss preliminaries, mostly definitions used in later notebooks. This notebook covers some of the discussions in Chapter 2 of **Convex Optimization book** by Stephen Boyd.\n"
     ]
    },
    {
     "cell_type": "markdown",
     "metadata": {},
     "source": [
      "###Affine set:"
     ]
    },
    {
     "cell_type": "markdown",
     "metadata": {},
     "source": [
      "\n",
      ">\\begin{align}\n",
      " C \\subseteq R^N\\\\\n",
      " x_1,x_2 \\in C, \\theta \\in R\\\\ \\text{ then} \\\\\n",
      " \\theta x_1+(1-\\theta)x_2 \\in C\\\\\n",
      " \\end{align}\n",
      "\n",
      "+ If $C$ is affine set and $x_0 \\in C$ we have:\n",
      "\n",
      "  $V=C-$x_0$=\\{x-x_0 |x \\in C\\}$\n",
      "+ Solution of a linear equation is an affine set.\n",
      "+ **affine hull**: \n",
      "  The set of all affine combinations of points in some set $C \\subseteq R^n$ and denoted **aff $C$**:\n",
      "  \n",
      "  **aff** $C= \\{ \\theta_1 x_1+\\dots+\\theta_k x_k|x_1,...x_k \\in C,\\theta_1+\\dots+\\theta_k = 1\\}$\n",
      "  \n",
      "  if $S$ is any affine set with $C \\subseteq S$, then **aff $C \\subseteq S$**"
     ]
    },
    {
     "cell_type": "code",
     "collapsed": false,
     "input": [
      "plt.axis('equal')\n",
      "C=np.array([[0,0],[0,2],[2,8],[3,9],[5,0],[4,1]])\n",
      "C_1=np.array([[2,8],[3,9]])\n",
      "plt.xlim((-1,10))\n",
      "plt.ylim((-1,10))\n",
      "plt.grid()\n",
      "plt.scatter(C[:,0],C[:,1],color='k',label='$C$')\n",
      "region=plt.Rectangle((-20,-20),40,40,alpha=0.1,label='aff $C$')\n",
      "plt.gca().add_patch(region)\n",
      "plt.scatter(C_1[:,0],C_1[:,1],color='r',label='$C_1$')\n",
      "plt.plot(np.arange(-10,10),np.arange(-10,10)* (C_1[0,1]-C_1[1,1])/(C_1[0,0]-C_1[1,0])+6,color='r',label='aff $C_1$')\n",
      "plt.legend()"
     ],
     "language": "python",
     "metadata": {},
     "outputs": [
      {
       "metadata": {},
       "output_type": "pyout",
       "prompt_number": 55,
       "text": [
        "<matplotlib.legend.Legend at 0x10609b990>"
       ]
      },
      {
       "metadata": {},
       "output_type": "display_data",
       "png": "[encoded data removed]",
       "text": [
        "<matplotlib.figure.Figure at 0x10606d690>"
       ]
      }
     ],
     "prompt_number": 55
    },
    {
     "cell_type": "markdown",
     "metadata": {},
     "source": [
      "#### Affine dimension\n",
      "+ Affine dimension of a set is defined as dimension of its affine hull.\n",
      "+ If the affine dimension of a set $C \\subseteq R^n$ is less than $n$, then $C$ lies in the affine set $\\textbf{aff} C \\neq R^n$.\n",
      "\n",
      "#### Relative Interior\n",
      "+ relative interior of a set $C$:\n",
      "\n",
      "  $\\textbf{relint}=\\{X \\in C |  B(x,r)  \\cap  \\textbf{aff}  C  \\subseteq C, \\text{for some} r > 0\\}$. note the $r>0$ condition excludes $x$ itself.\n",
      "+ **relative boundary** of a set $C$ is defined as :\n",
      "  $\\textbf{cl} C \\setminus \\textbf{relint} C$\n",
      "  \n",
      "-----"
     ]
    },
    {
     "cell_type": "markdown",
     "metadata": {},
     "source": [
      "###Convex set"
     ]
    },
    {
     "cell_type": "markdown",
     "metadata": {},
     "source": [
      "$\\begin{align}\n",
      "C \\subseteq R^N\\\\\n",
      "x_1,x_2 \\in C, \\theta \\in R \\text{ and } 0 \\leq \\theta \\leq 1\\\\ \\text{ then} \\\\\n",
      "\\theta x_1+(1-\\theta)x_2 \\in C\\\\\n",
      "\\end{align}$"
     ]
    },
    {
     "cell_type": "markdown",
     "metadata": {},
     "source": [
      "+ A set is **convex** if every point in the set can be seen by every other point, along an unobstructed straight line path between them.\n",
      "+ Every affine set is also convex.\n",
      "+ **convex combination** is a point of the form:\n",
      "\n",
      "  $\\theta_1 x_1 + \\dots + x_k \\theta_k$\n",
      "  \n",
      "  where $\\theta_i \\geq 0$ and $\\theta_1 + \\dots + \\theta_k = 1$\n",
      "\n",
      "#### Convex hull:\n",
      "\n",
      "$ \\textbf{Conv} C = \\{ \\theta_1 x_1 + \\dots + \\theta_k x_k | x_i \\in C, \\theta_i \\geq 0, i=1,\\dots,k, \\theta_1+ \\dots+\\theta_k=1\\}$\n",
      "\n",
      "This can be generalized as:\n",
      "\n",
      ">Suppose $\\theta_1, \\theta_2, \\dots$ satisfy:\n",
      "\n",
      ">$\\theta_i\\geq0, i=1,2,\\dots, \\sum_{i=1}^{\\infty}\\theta_i = 1$\n",
      "\n",
      ">and $x_1, x_2, \\dots \\in C$, where $C \\subseteq R^n$ is convex. Then:\n",
      "\n",
      ">$\\sum_{i=1}^{\\infty}\\theta_i x_i \\in C$\n",
      "\n",
      ">If the series converges.\n",
      "\n",
      "More generally suppose\n",
      "\n",
      "> $p: R^n \\rightarrow R$ satisfies $p(x) \\geq 0$  for all $x \\in C$ and $\\int_{C}p(x)dx=1$ where $C\\subseteq R^n$ is convex, then\n",
      "\n",
      "> $\\int_{C}p(x)xdx \\in C$\n",
      "\n",
      "> if integral exist."
     ]
    },
    {
     "cell_type": "code",
     "collapsed": false,
     "input": [
      "plt.axis('equal')\n",
      "C=np.array([[0,0],[0,2],[2,8],[3,9],[5,0],[4,1]])\n",
      "C_1=np.array([[2,8],[3,9]])\n",
      "plt.xlim((-1,10))\n",
      "plt.ylim((-1,10))\n",
      "plt.grid()\n",
      "plt.scatter(C[:,0],C[:,1],color='k',label='$C$')\n",
      "region=plt.Polygon([[0,0],[0,2],[4,1],[5,0]],alpha=0.1,label=\"conv $C$\")\n",
      "plt.gca().add_patch(region)\n",
      "plt.scatter(C_1[:,0],C_1[:,1],color='r',label='$C_1$')\n",
      "plt.plot(np.arange(2,4),np.arange(2,4)* (C_1[0,1]-C_1[1,1])/(C_1[0,0]-C_1[1,0])+6,color='r',label='conv $C_1$')\n",
      "plt.legend()"
     ],
     "language": "python",
     "metadata": {},
     "outputs": [
      {
       "metadata": {},
       "output_type": "pyout",
       "prompt_number": 65,
       "text": [
        "<matplotlib.legend.Legend at 0x1066bec90>"
       ]
      },
      {
       "metadata": {},
       "output_type": "display_data",
       "png": "[encoded data removed]",
       "text": [
        "<matplotlib.figure.Figure at 0x1065ac850>"
       ]
      }
     ],
     "prompt_number": 65
    },
    {
     "cell_type": "markdown",
     "metadata": {},
     "source": [
      "----"
     ]
    },
    {
     "cell_type": "markdown",
     "metadata": {},
     "source": [
      "###Cones"
     ]
    },
    {
     "cell_type": "markdown",
     "metadata": {},
     "source": [
      "$\\begin{align}\n",
      "C \\subseteq R^N\\\\\n",
      "\\text{and}\\\\\n",
      "x \\in C, \\theta \\in R \\text{ and } 0 \\leq \\theta \\text{ then} \\\\\n",
      "\\theta x\\in C\\\\\n",
      "\\end{align}$\n",
      "\n",
      "+ A set $C$ is **convex cone** if it is *convex* and *cone*:\n",
      "\n",
      "  $\\begin{align}\n",
      "  x_1,x_2 \\in C, \\theta_1,\\theta_2 \\geq 0: \\\\\n",
      "  \\theta_1 x_1+\\theta_2 x_2 \\in C\\\\\n",
      "  \\end{align}$\n",
      "\n",
      "+ Points of this form form the two-dimensional pie slice with apex 0 and edges passing trhough $x_1$ and $x_2$.\n",
      "+ A set $C$ is a convex cone iff it contains all conic combinations of its elements.\n",
      "+ **conic hull** of a set $C$ is the set of all conic combinations of points in $C$:\n",
      "  $\\begin{align}\n",
      "  \\{\\theta_1x_1+\\dots+\\theta_kx_k|x_i \\in C, \\theta_i \\geq 0, i=1,\\dots,k\\}\n",
      "  \\end{align}$\n",
      "  Which is the smallest convex cone that contains $C$."
     ]
    },
    {
     "cell_type": "code",
     "collapsed": false,
     "input": [
      "plt.axis('equal')\n",
      "C=np.array([[0,0],[0,2],[2,8],[3,9],[5,0],[4,1]])\n",
      "C_1=np.array([[2,8],[3,9]])\n",
      "plt.xlim((-1,10))\n",
      "plt.ylim((-1,10))\n",
      "plt.grid()\n",
      "plt.scatter(C[:,0],C[:,1],color='k',label='$C$')\n",
      "region=plt.Polygon([[0,0],[0,20],[20,0]],alpha=0.1,label=\"con $C$\")\n",
      "plt.gca().add_patch(region)\n",
      "plt.scatter(C_1[:,0],C_1[:,1],color='r',label='$C_1$')\n",
      "plt.legend()"
     ],
     "language": "python",
     "metadata": {},
     "outputs": [
      {
       "metadata": {},
       "output_type": "pyout",
       "prompt_number": 69,
       "text": [
        "<matplotlib.legend.Legend at 0x10689a950>"
       ]
      },
      {
       "metadata": {},
       "output_type": "display_data",
       "png": "[encoded data removed]",
       "text": [
        "<matplotlib.figure.Figure at 0x1062f7750>"
       ]
      }
     ],
     "prompt_number": 69
    },
    {
     "cell_type": "markdown",
     "metadata": {},
     "source": [
      "---"
     ]
    },
    {
     "cell_type": "markdown",
     "metadata": {},
     "source": [
      "###Examples\n",
      "\n",
      "+ The empty set $\\emptyset$, any single point ${x_0}$, and the whole space $R^n$ are **affine** and thus **convex** subsets of $R^n$.\n",
      "+ Any line is **affine**. If it passes through zero, it is a subspace, hence a **convex cone**.\n",
      "+ A line segment is **convex**, but not **affine**.\n",
      "+ A *ray*, $\\{x_0+\\theta\\nu|\\theta\\geq0\\}$ where $\\nu \\neq 0$, is **convex**, but not **affine**. It is **convex cone** if its base is $x_0=0$.\n",
      "+ Any *Subspace* is **affine**, and **a convex cone**(hence **convex**)\n",
      "+ *Halfspaces* are **convex**:\n",
      "\n",
      "  $\\{x|a^Tx \\leq b\\}$\n",
      "  \n",
      "  as:\n",
      "  \n",
      "   $C=\\{x|a^Tx \\leq b\\}$\n",
      "   \n",
      "   if $x_0,x_1 \\in C$ and $0 \\leq \\theta \\leq 1$:\n",
      "   \n",
      "   $a^T x_2=a^T(\\theta x_0) + a^T((1-\\theta)x_1) \\leq \\theta b + (1-\\theta) b = b$ \n",
      "   \n",
      "   and thus $x_2 \\in C$"
     ]
    },
    {
     "cell_type": "markdown",
     "metadata": {},
     "source": [
      "+ A *Euclidean ball*:http://en.wikipedia.org/wiki/Ball_(mathematics) in $R^n$:\n",
      "\n",
      "  $B(x_c,r)=\\{x|\\parallel x-x_c \\parallel_2 \\leq r\\} = \\{x| (x-x_c)^T(x-x_c) \\leq r^2\\} $\n",
      "  \n",
      "  is **convex**:\n",
      "  \n",
      "  $\\begin{align}\n",
      "  \\parallel \\theta x_1 + (1-\\theta)x_2 - x_c \\parallel_2 &= \\parallel \\theta (x_1-x_c) - (1-\\theta)(x_2 - x_c) \\parallel_2\\\\ \n",
      "  &\\leq \\theta \\parallel  (x_1-x_c) \\parallel_2 + (1-\\theta)\\parallel (x_2 - x_c) \\parallel_2 \\text{Triangle inequality}\\\\\n",
      "  &\\leq r\n",
      "  \\end{align}$"
     ]
    },
    {
     "cell_type": "markdown",
     "metadata": {},
     "source": [
      "+ An *Ellipsoid*:http://mathworld.wolfram.com/Ellipsoid.html in $R^n$:\n",
      "\n",
      "  $\\xi= \\{(x-x_c)^TP^{-1}(x-x_c)\\leq 1\\}$\n",
      "  \n",
      "  where $P=P^T \\succ 0$ (Symmetric and Positive definite).\n",
      "  \n",
      "  is **convex**."
     ]
    },
    {
     "cell_type": "markdown",
     "metadata": {},
     "source": [
      "+ A *norm ball*:http://en.wikipedia.org/wiki/Ball_(mathematics)#Balls_in_normed_vector_spaces is any norm on $R^n$ .\n",
      "\n",
      "  $B(x_c,r)=\\{x|\\parallel x-x_c \\parallel \\leq r\\}$\n",
      "  \n",
      "  is **convex**.\n",
      "\n",
      "+ A *norm cone* associated with $\\parallel \\cdot \\parallel$ is the set:\n",
      "\n",
      "  $C=\\{(x,t)|\\parallel x \\parallel \\leq t\\} \\subseteq R^{n+1}$\n",
      "  \n",
      "  is **convex cone**."
     ]
    },
    {
     "cell_type": "code",
     "collapsed": false,
     "input": [
      "from matplotlib.patches import Wedge\n",
      "plt.axis('equal')\n",
      "plt.grid()\n",
      "region=plt.Circle([0,0],1,alpha=0.1,label=\"norm ball $R^2$\")\n",
      "plt.gca().add_patch(region)\n",
      "w=Wedge([0,0], 0.5 , 0, 90,label=\"euclidean norm con in $R^2$ $t=0.5$\")\n",
      "plt.gca().add_patch(w)\n",
      "plt.plot([-1,1],[0,0],color='r',label=\"norm ball $R$\")\n",
      "plt.xlim(-5,5)\n",
      "plt.ylim(-5,5)\n",
      "_=plt.legend()"
     ],
     "language": "python",
     "metadata": {},
     "outputs": [
      {
       "metadata": {},
       "output_type": "display_data",
       "png": "[encoded data removed]",
       "text": [
        "<matplotlib.figure.Figure at 0x107056910>"
       ]
      }
     ],
     "prompt_number": 95
    },
    {
     "cell_type": "markdown",
     "metadata": {},
     "source": [
      "+ [*Polyhedra*](http://en.wikipedia.org/wiki/Polyhedron) is **convex**:\n",
      "\n",
      "   $ P = \\{x|a_j^T x \\leq b_j, j= 1,\\dots, m, c_j^Tx=d_j, j= 1,\\dots,p\\} = \\{x | Ax\\preceq b.Cx=d\\}$\n",
      "   \n",
      "  + [*Simplexes*](https://en.wikipedia.org/wiki/Simplex) are **convex**:\n",
      "  \n",
      "    Suppose the $k+1$ points $\\nu_0,\\dots,\\nu_k \\in R^n$ are *affinely independent*: $\\nu_1-\\nu_0,\\dots,\\nu_k-\\nu_0$ are linearly independent.\n",
      "    $C=conv\\{\\nu_0,\\dots,\\nu_k\\}=\\{\\theta_0\\nu_0+\\dots+\\theta_k\\nu_k|\\theta \\succeq0,\\boldsymbol{1}^T\\theta=1\\}$\n",
      "    \n",
      "    assume:\n",
      "    \\begin{align}\n",
      "    x&=\\theta_0\\nu_0,\\dots,\\theta_k\\nu_k\\\\\n",
      "    y&=(\\theta_1,\\dots,\\theta_k)\\\\\n",
      "    B&=[\\nu_1-\\nu_0 \\dots \\nu_k-\\nu_0]\\in R^{n \\times k}\\\\\n",
      "    \\end{align}\n",
      "    then\n",
      "    \\begin{align}\n",
      "    x&=\\nu_0+By\\\\\n",
      "    \\end{align}\n",
      "    We know that $B$ has rank $k$ thus there is a nonsingular matrix $A=(A_1,A_2)\\in R^{n\\times n}$ such that:\n",
      "    \\begin{align}\n",
      "    AB= \\begin{bmatrix} A_1\\\\ A_2 \\end{bmatrix}B=\\begin{bmatrix} I\\\\ 0 \\end{bmatrix}\n",
      "    \\end{align}\n",
      "    Multiplying $x$ on the left with $A$:\n",
      "    \\begin{align}\n",
      "    A_1x=A_1\\nu+y,A_2x=A_2\\nu_0\\\\\n",
      "    \\end{align}\n",
      "    Which follows that:\n",
      "    \\begin{align}\n",
      "    A_2x&=A_2\\nu_0&&\\\\\n",
      "    A_1x&\\succeq A_1\\nu_0& \\text{ because } & y=A_1x-A_1\\nu \\succeq 0 \\\\\n",
      "    \\boldsymbol{1}^TA_1x&\\leq\\boldsymbol{1}^TA_1\\nu_0& \\text{ because }& \\boldsymbol{1}^Ty\\leq1 \\\\\n",
      "    &&&\\boldsymbol{1}^T(A_1x-A_1\\nu_0)\\leq 1\\\\\n",
      "    &&&\\boldsymbol{1}^TA_1x\\leq 1+\\boldsymbol{1}^TA_1\\nu_0\\\\\n",
      "    \\end{align}\n",
      "    These are a set of linear equalities and inequalities and thus a polyhedra."
     ]
    },
    {
     "cell_type": "markdown",
     "metadata": {},
     "source": [
      "+ *Positive semidefinite cone*:\n",
      "\n",
      "  $ \\boldsymbol{S}^n = \\{X \\in \\boldsymbol{R}^{n\\times n} | X=X^T \\}$\n",
      "  \n",
      "  which is a vector space with dimension $n(n+1)/2$.\n",
      "  \n",
      "  $ \\boldsymbol{S}^n_+ = \\{X \\in \\boldsymbol{S}^{n} | X\\succeq 0 \\}$\n",
      "  \n",
      "  and \n",
      "  \n",
      "  $ \\boldsymbol{S}^n_{++} = \\{X \\in \\boldsymbol{S}^{n} | X\\succ 0 \\}$\n",
      "  \n",
      "  The set $\\boldsymbol{S}^n_+$ is a convex cone:\n",
      "  if:\n",
      "  \\begin{align}\n",
      "  \\theta_1,\\theta_2\\geq 0\n",
      "  A,B \\in \\boldsymbol{S}^n_+\n",
      "  \\end{align}  \n",
      "  then:\n",
      "  \\begin{align}\n",
      "  x^T(\\theta_1A+\\theta_2B)x=\\theta_1x^TAx+\\theta_2x^TBx\\geq0\n",
      "  \\end{align}\n",
      "  The reason it is *convex* is discussed in next section.\n",
      "    "
     ]
    },
    {
     "cell_type": "code",
     "collapsed": false,
     "input": [
      "from IPython.core.display import HTML\n",
      "def css_styling():\n",
      "    styles = open(\"../styles/custom.css\", \"r\").read()\n",
      "    return HTML(styles)\n",
      "css_styling()"
     ],
     "language": "python",
     "metadata": {},
     "outputs": [
      {
       "html": [
        "<link href='http://fonts.googleapis.com/css?family=Fenix' rel='stylesheet' type='text/css'>\n",
        "<link href='http://fonts.googleapis.com/css?family=Alegreya+Sans:100,300,400,500,700,800,900,100italic,300italic,400italic,500italic,700italic,800italic,900italic' rel='stylesheet' type='text/css'>\n",
        "<link href='http://fonts.googleapis.com/css?family=Source+Code+Pro:300,400' rel='stylesheet' type='text/css'>\n",
        "<style>\n",
        "    @font-face {\n",
        "        font-family: \"Computer Modern\";\n",
        "        src: url('http://mirrors.ctan.org/fonts/cm-unicode/fonts/otf/cmunss.otf');\n",
        "    }\n",
        "    div.cell{\n",
        "        width:800px;\n",
        "        margin-left:16% !important;\n",
        "        margin-right:auto;\n",
        "    }\n",
        "    h1 {\n",
        "        font-family: 'Alegreya Sans', sans-serif;\n",
        "    }\n",
        "    h2 {\n",
        "        font-family: 'Fenix', serif;\n",
        "    }\n",
        "    h3{\n",
        "\t\tfont-family: 'Fenix', serif;\n",
        "        margin-top:12px;\n",
        "        margin-bottom: 3px;\n",
        "       }\n",
        "\th4{\n",
        "\t\tfont-family: 'Fenix', serif;\n",
        "       }\n",
        "    h5 {\n",
        "        font-family: 'Alegreya Sans', sans-serif;\n",
        "    }\t   \n",
        "    div.text_cell_render{\n",
        "        font-family: 'Alegreya Sans',Computer Modern, \"Helvetica Neue\", Arial, Helvetica, Geneva, sans-serif;\n",
        "        line-height: 135%;\n",
        "        font-size: 120%;\n",
        "        width:600px;\n",
        "        margin-left:auto;\n",
        "        margin-right:auto;\n",
        "    }\n",
        "    .CodeMirror{\n",
        "            font-family: \"Source Code Pro\";\n",
        "\t\t\tfont-size: 90%;\n",
        "    }\n",
        "/*    .prompt{\n",
        "        display: None;\n",
        "    }*/\n",
        "    .text_cell_render h1 {\n",
        "        font-weight: 200;\n",
        "        font-size: 50pt;\n",
        "\t\tline-height: 100%;\n",
        "        color:#CD2305;\n",
        "        margin-bottom: 0.5em;\n",
        "        margin-top: 0.5em;\n",
        "        display: block;\n",
        "    }\t\n",
        "    .text_cell_render h5 {\n",
        "        font-weight: 300;\n",
        "        font-size: 16pt;\n",
        "        color: #CD2305;\n",
        "        font-style: italic;\n",
        "        margin-bottom: .5em;\n",
        "        margin-top: 0.5em;\n",
        "        display: block;\n",
        "    }\n",
        "    \n",
        "    .warning{\n",
        "        color: rgb( 240, 20, 20 )\n",
        "        }  \n",
        "</style>\n",
        "<script>\n",
        "    MathJax.Hub.Config({\n",
        "                        TeX: {\n",
        "                           extensions: [\"AMSmath.js\"]\n",
        "                           },\n",
        "                tex2jax: {\n",
        "                    inlineMath: [ ['$','$'], [\"\\\\(\",\"\\\\)\"] ],\n",
        "                    displayMath: [ ['$$','$$'], [\"\\\\[\",\"\\\\]\"] ]\n",
        "                },\n",
        "                displayAlign: 'center', // Change this to 'center' to center equations.\n",
        "                \"HTML-CSS\": {\n",
        "                    styles: {'.MathJax_Display': {\"margin\": 4}}\n",
        "                }\n",
        "        });\n",
        "</script>"
       ],
       "metadata": {},
       "output_type": "pyout",
       "prompt_number": 1,
       "text": [
        "<IPython.core.display.HTML at 0x109c04610>"
       ]
      }
     ],
     "prompt_number": 1
    },
    {
     "cell_type": "markdown",
     "metadata": {},
     "source": [
      "CSS template courtesy of [Lorena Barba](http://lorenabarba.com/)."
     ]
    }
   ],
   "metadata": {}
  }
 ]
}