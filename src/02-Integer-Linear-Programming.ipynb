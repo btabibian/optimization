{
 "metadata": {
  "name": ""
 },
 "nbformat": 3,
 "nbformat_minor": 0,
 "worksheets": [
  {
   "cells": [
    {
     "cell_type": "code",
     "collapsed": false,
     "input": [
      "import numpy as np\n",
      "import pandas as pd\n",
      "import matplotlib.pyplot as plt\n",
      "from IPython.display import display\n",
      "import mlabwrap\n",
      "import pulp\n",
      "mlab=mlabwrap.init('/Applications/MATLAB_R2013a.app/bin/matlab')"
     ],
     "language": "python",
     "metadata": {},
     "outputs": [
      {
       "output_type": "stream",
       "stream": "stdout",
       "text": [
        "Found version: 2013a at /Applications/MATLAB_R2013a.app/bin/matlab\n"
       ]
      },
      {
       "output_type": "stream",
       "stream": "stdout",
       "text": [
        "\n",
        "                            < M A T L A B (R) >\n",
        "                  Copyright 1984-2013 The MathWorks, Inc.\n",
        "                     R2013a (8.1.0.604) 64-bit (maci64)\n",
        "                             February 15, 2013\n",
        "\n",
        " \n",
        "To get started, type one of these: helpwin, helpdesk, or demo.\n",
        "For product information, visit www.mathworks.com.\n",
        " \n",
        ">> "
       ]
      }
     ],
     "prompt_number": 1
    },
    {
     "cell_type": "heading",
     "level": 1,
     "metadata": {},
     "source": [
      "Introduction to Optimization"
     ]
    },
    {
     "cell_type": "heading",
     "level": 3,
     "metadata": {},
     "source": [
      "Homework 2"
     ]
    },
    {
     "cell_type": "heading",
     "level": 3,
     "metadata": {},
     "source": [
      "Seyed Behzad Tabibian"
     ]
    },
    {
     "cell_type": "heading",
     "level": 4,
     "metadata": {},
     "source": [
      "Question 1"
     ]
    },
    {
     "cell_type": "markdown",
     "metadata": {},
     "source": [
      "$$\\begin{align}\n",
      "\\text{Max }  4x_1 + 3x_2+3x_3\\\\\n",
      "\\text{Subject to}:\\\\\n",
      "4x_1+2x_2+x_3\\leq 10 \\\\\n",
      "3x_1+4x_2+2x_3\\leq 14 \\\\\n",
      "2x_1+x_2+3x_3\\leq 7 \\\\\n",
      "x_1,x_2,x_3\\geq 0\\\\\n",
      "x_1,x_2,x_3 \\in Z\n",
      "\\end{align}$$"
     ]
    },
    {
     "cell_type": "code",
     "collapsed": false,
     "input": [
      "f=np.array([-4,-3,-3])\n",
      "W=np.array([[4,2,1],[3,4,2],[2,1,3],[-1,0,0],[0,-1,0],[0,0,-1]])\n",
      "B=np.array([10,14,7,0,0,0])\n",
      "res= mlab.linprog(f,W,B)\n",
      "print res\n",
      "print 'z: ', -1*f.dot(res)"
     ],
     "language": "python",
     "metadata": {},
     "outputs": [
      {
       "output_type": "stream",
       "stream": "stdout",
       "text": [
        "[ 1.2         2.20000001  0.79999999]\n",
        "z:  13.7999999864\n"
       ]
      }
     ],
     "prompt_number": 3
    },
    {
     "cell_type": "markdown",
     "metadata": {},
     "source": [
      "Picking $x_1 \\leq 1$:"
     ]
    },
    {
     "cell_type": "markdown",
     "metadata": {},
     "source": [
      "$$\\begin{align}\n",
      "\\text{Max }  4x_1 + 3x_2+3x_3\\\\\n",
      "\\text{Subject to}:\\\\\n",
      "4x_1+2x_2+x_3\\leq 10 \\\\\n",
      "3x_1+4x_2+2x_3\\leq 14 \\\\\n",
      "2x_1+x_2+3x_3\\leq 7 \\\\\n",
      "x_1 \\leq 1 \\\\\n",
      "x_1,x_2,x_3\\geq 0\\\\\n",
      "x_1,x_2,x_3 \\in Z\n",
      "\\end{align}$$"
     ]
    },
    {
     "cell_type": "code",
     "collapsed": false,
     "input": [
      "f=np.array([-4,-3,-3])\n",
      "W_temp_1=np.concatenate((W, np.array([[1,0,0]])))\n",
      "B_temp_1=np.concatenate((B, np.array([1])),axis=-1)\n",
      "res=mlab.linprog(f,W_temp_1,B_temp_1)\n",
      "res_temp=-1*f.dot(res)\n",
      "print res\n",
      "print 'z: ',res_temp"
     ],
     "language": "python",
     "metadata": {},
     "outputs": [
      {
       "output_type": "stream",
       "stream": "stdout",
       "text": [
        "[ 1.          2.29999999  0.90000001]\n",
        "z:  13.5999999665\n"
       ]
      }
     ],
     "prompt_number": 5
    },
    {
     "cell_type": "markdown",
     "metadata": {},
     "source": [
      "Picking $x_1 \\geq 2$:"
     ]
    },
    {
     "cell_type": "markdown",
     "metadata": {},
     "source": [
      "$$\\begin{align}\n",
      "\\text{Max }  4x_1 + 3x_2+3x_3\\\\\n",
      "\\text{Subject to}:\\\\\n",
      "4x_1+2x_2+x_3\\leq 10 \\\\\n",
      "3x_1+4x_2+2x_3\\leq 14 \\\\\n",
      "2x_1+x_2+3x_3\\leq 7 \\\\\n",
      "x_1 \\geq 2 \\\\\n",
      "x_1,x_2,x_3\\geq 0\\\\\n",
      "x_1,x_2,x_3 \\in Z\n",
      "\\end{align}$$"
     ]
    },
    {
     "cell_type": "code",
     "collapsed": false,
     "input": [
      "f=np.array([-4,-3,-3])\n",
      "W_temp_2=np.concatenate((W, np.array([[-1,0,0]])))\n",
      "B_temp_2=np.concatenate((B, np.array([-2])),axis=-1)\n",
      "res=mlab.linprog(f,W_temp_2,B_temp_2)\n",
      "res_temp=-1*f.dot(res)\n",
      "print res\n",
      "print 'z: ',res_temp"
     ],
     "language": "python",
     "metadata": {},
     "outputs": [
      {
       "output_type": "stream",
       "stream": "stdout",
       "text": [
        "[ 2.          0.59999998  0.80000001]\n",
        "z:  12.1999999723\n"
       ]
      }
     ],
     "prompt_number": 7
    },
    {
     "cell_type": "markdown",
     "metadata": {},
     "source": [
      "Therefore Picking $x_1 \\leq 1$ yields higher objective function."
     ]
    },
    {
     "cell_type": "code",
     "collapsed": false,
     "input": [
      "W=W_temp_1\n",
      "B=B_temp_1"
     ],
     "language": "python",
     "metadata": {},
     "outputs": [],
     "prompt_number": 8
    },
    {
     "cell_type": "markdown",
     "metadata": {},
     "source": [
      "Picking $x_2 \\leq 2$:"
     ]
    },
    {
     "cell_type": "markdown",
     "metadata": {},
     "source": [
      "\\begin{align}\n",
      "\\text{Max }  4x_1 + 3x_2+3x_3\\\\\n",
      "\\text{Subject to}:\\\\\n",
      "4x_1+2x_2+x_3\\leq 10 \\\\\n",
      "3x_1+4x_2+2x_3\\leq 14 \\\\\n",
      "2x_1+x_2+3x_3\\leq 7 \\\\\n",
      "x_2 \\leq 2 \\\\\n",
      "x_1 \\leq 1 \\\\\n",
      "x_1,x_2,x_3\\geq 0\\\\\n",
      "x_1,x_2,x_3 \\in Z\n",
      "\\end{align}"
     ]
    },
    {
     "cell_type": "code",
     "collapsed": false,
     "input": [
      "f=np.array([-4,-3,-3])\n",
      "W_temp_1=np.concatenate((W, np.array([[0,1,0]])))\n",
      "B_temp_1=np.concatenate((B, np.array([2])),axis=-1)\n",
      "res=mlab.linprog(f,W_temp_1,B_temp_1)\n",
      "res_temp=-1*f.dot(res)\n",
      "print res\n",
      "print 'z: ',res_temp"
     ],
     "language": "python",
     "metadata": {},
     "outputs": [
      {
       "output_type": "stream",
       "stream": "stdout",
       "text": [
        "[ 1.  2.  1.]\n",
        "z:  13.0000000002\n"
       ]
      }
     ],
     "prompt_number": 9
    },
    {
     "cell_type": "markdown",
     "metadata": {},
     "source": [
      "Picking $x_2 \\geq 3$:"
     ]
    },
    {
     "cell_type": "markdown",
     "metadata": {},
     "source": [
      "$$\\begin{align}\n",
      "\\text{Max }  4x_1 + 3x_2+3x_3\\\\\n",
      "\\text{Subject to}:\\\\\n",
      "4x_1+2x_2+x_3\\leq 10 \\\\\n",
      "3x_1+4x_2+2x_3\\leq 14 \\\\\n",
      "2x_1+x_2+3x_3\\leq 7 \\\\\n",
      "x_2 \\geq 3 \\\\\n",
      "x_1 \\leq 1 \\\\\n",
      "x_1,x_2,x_3\\geq 0\\\\\n",
      "x_1,x_2,x_3 \\in Z\n",
      "\\end{align}$$"
     ]
    },
    {
     "cell_type": "code",
     "collapsed": false,
     "input": [
      "f=np.array([-4,-3,-3])\n",
      "W_temp_2=np.concatenate((W, np.array([[0,-1,0]])))\n",
      "B_temp_2=np.concatenate((B, np.array([-3])),axis=-1)\n",
      "res=mlab.linprog(f,W_temp_2,B_temp_2)\n",
      "res_temp=f.dot(res)\n",
      "print res\n",
      "print 'z: ',-1*res_temp"
     ],
     "language": "python",
     "metadata": {},
     "outputs": [
      {
       "output_type": "stream",
       "stream": "stdout",
       "text": [
        "[ -3.80282472e-11   3.00000000e+00   1.00000000e+00]\n",
        "z:  12.0000000027\n"
       ]
      }
     ],
     "prompt_number": 11
    },
    {
     "cell_type": "markdown",
     "metadata": {},
     "source": [
      "Picking first branch:"
     ]
    },
    {
     "cell_type": "markdown",
     "metadata": {},
     "source": [
      "$$\\begin{align}\n",
      "\\text{Max }  4x_1 + 3x_2+3x_3\\\\\n",
      "\\text{Subject to}:\\\\\n",
      "4x_1+2x_2+x_3\\leq 10 \\\\\n",
      "3x_1+4x_2+2x_3\\leq 14 \\\\\n",
      "2x_1+x_2+3x_3\\leq 7 \\\\\n",
      "x_2 \\leq 2 \\\\\n",
      "x_1 \\leq 1 \\\\\n",
      "x_1,x_2,x_3\\geq 0\\\\\n",
      "x_1,x_2,x_3 \\in Z\n",
      "\\end{align}$$"
     ]
    },
    {
     "cell_type": "heading",
     "level": 4,
     "metadata": {},
     "source": [
      "Question 2"
     ]
    },
    {
     "cell_type": "code",
     "collapsed": false,
     "input": [
      "#initialise the model\n",
      "for i in [0,1]:\n",
      "    if i==0 :\n",
      "        print 'Linear Programming'\n",
      "    else:\n",
      "        print 'Integer Linear Programming'\n",
      "    model = pulp.LpProblem('Question 2', pulp.LpMaximize)\n",
      "    # make a list of ingredients\n",
      "    var_set = ['x_1', 'x_2', 'x_3']\n",
      "    # create a dictionary of pulp variables with keys from ingredients\n",
      "    # the default lower bound is -inf\n",
      "    \n",
      "    x = pulp.LpVariable.dict('%s', var_set, lowBound =0, cat=pulp.LpInteger if i else pulp.LpContinuous)\n",
      "    cost = dict(zip(var_set, [4,3, 3]))\n",
      "    model += sum( [cost[i] * x[i] for i in var_set])\n",
      "    c_1={'x_1':4,\n",
      "         'x_2':2,\n",
      "         'x_3':1}\n",
      "    c_2={'x_1':3,\n",
      "         'x_2':4,\n",
      "         'x_3':2}\n",
      "    c_3={'x_1':2,\n",
      "         'x_2':1,\n",
      "         'x_3':3}\n",
      "    model += sum([c_1[i]*x[i] for i in var_set]) <= 10.0\n",
      "    model += sum([c_2[i]*x[i] for i in var_set]) <= 14.0\n",
      "    model += sum([c_3[i]*x[i] for i in var_set]) <= 7.0\n",
      "    \n",
      "    %timeit model.solve()\n",
      "    for i in var_set:\n",
      "        print '%s: %s'%(i,x[i].value())"
     ],
     "language": "python",
     "metadata": {},
     "outputs": [
      {
       "output_type": "stream",
       "stream": "stdout",
       "text": [
        "Linear Programming\n",
        "100 loops, best of 3: 10.2 ms per loop"
       ]
      },
      {
       "output_type": "stream",
       "stream": "stdout",
       "text": [
        "\n",
        "x_1: 1.2\n",
        "x_2: 2.2\n",
        "x_3: 0.8\n",
        "Integer Linear Programming\n",
        "100 loops, best of 3: 14.7 ms per loop"
       ]
      },
      {
       "output_type": "stream",
       "stream": "stdout",
       "text": [
        "\n",
        "x_1: 1.0\n",
        "x_2: 2.0\n",
        "x_3: 1.0\n"
       ]
      }
     ],
     "prompt_number": 13
    },
    {
     "cell_type": "heading",
     "level": 4,
     "metadata": {},
     "source": [
      "Question 3"
     ]
    },
    {
     "cell_type": "markdown",
     "metadata": {},
     "source": [
      "$$\n",
      "\\begin{align}\n",
      "\\text{Min }  x - y\\\\\n",
      "\\text{Subject to}:\\\\\n",
      "3x+4y \\leq 6 \\\\\n",
      "x-y \\leq 1 \\\\\n",
      "x,y \\geq 0\\\\\n",
      "x,y \\in Z\n",
      "\\end{align}$$"
     ]
    },
    {
     "cell_type": "code",
     "collapsed": false,
     "input": [
      "x=np.arange(0,10)\n",
      "c_1=-3.0/4*x+3.0/2\n",
      "c_2=x-1\n",
      "f=lambda b:(x+b)\n",
      "plt.plot(c_1,'r',linewidth=3)\n",
      "plt.plot(c_2,'b',linewidth=3)\n",
      "feasible=np.array([[0,0],[0,1.5],[10.0/7,3.0/7],[1.0,0]])\n",
      "plt.gca().add_patch(plt.Polygon(feasible,color='gray'))\n",
      "map(lambda b:plt.plot(f(b),'-.k'),xrange(-3,9))\n",
      "plt.text(0,1.5,'(-1.5)',fontsize=12)\n",
      "plt.xlim(0,3)\n",
      "_=plt.ylim(0,5)"
     ],
     "language": "python",
     "metadata": {},
     "outputs": [
      {
       "metadata": {},
       "output_type": "display_data",
       "png": "[encoded data removed]",
       "text": [
        "<matplotlib.figure.Figure at 0x10872d3d0>"
       ]
      }
     ],
     "prompt_number": 15
    },
    {
     "cell_type": "code",
     "collapsed": false,
     "input": [
      "f=np.array([1,-1])\n",
      "W=np.array([[3,4],[1,-1],[-1,0],[0,-1]])\n",
      "B=np.array([6,1,0,0])\n",
      "res= mlab.linprog(f,W,B)\n",
      "print res\n",
      "print 'z: ', f.dot(res)"
     ],
     "language": "python",
     "metadata": {},
     "outputs": [
      {
       "output_type": "stream",
       "stream": "stdout",
       "text": [
        "[ -6.37783160e-11   1.50000000e+00]\n",
        "z:  -1.50000000011\n"
       ]
      }
     ],
     "prompt_number": 16
    },
    {
     "cell_type": "code",
     "collapsed": false,
     "input": [
      "A=np.array([[3,4,1,0,0,6],[1,-1,0,1,0,1],[1,-1,0,0,1,0]])\n",
      "pd.DataFrame(A,index=['s_1','s_2','P'],columns=['x','y','s_1','s_2','P','b'])"
     ],
     "language": "python",
     "metadata": {},
     "outputs": [
      {
       "html": [
        "<div style=\"max-height:1000px;max-width:1500px;overflow:auto;\">\n",
        "<table border=\"1\" class=\"dataframe\">\n",
        "  <thead>\n",
        "    <tr style=\"text-align: right;\">\n",
        "      <th></th>\n",
        "      <th>x</th>\n",
        "      <th>y</th>\n",
        "      <th>s_1</th>\n",
        "      <th>s_2</th>\n",
        "      <th>P</th>\n",
        "      <th>b</th>\n",
        "    </tr>\n",
        "  </thead>\n",
        "  <tbody>\n",
        "    <tr>\n",
        "      <th>s_1</th>\n",
        "      <td> 3</td>\n",
        "      <td> 4</td>\n",
        "      <td> 1</td>\n",
        "      <td> 0</td>\n",
        "      <td> 0</td>\n",
        "      <td> 6</td>\n",
        "    </tr>\n",
        "    <tr>\n",
        "      <th>s_2</th>\n",
        "      <td> 1</td>\n",
        "      <td>-1</td>\n",
        "      <td> 0</td>\n",
        "      <td> 1</td>\n",
        "      <td> 0</td>\n",
        "      <td> 1</td>\n",
        "    </tr>\n",
        "    <tr>\n",
        "      <th>P</th>\n",
        "      <td> 1</td>\n",
        "      <td>-1</td>\n",
        "      <td> 0</td>\n",
        "      <td> 0</td>\n",
        "      <td> 1</td>\n",
        "      <td> 0</td>\n",
        "    </tr>\n",
        "  </tbody>\n",
        "</table>\n",
        "<p>3 rows \u00d7 6 columns</p>\n",
        "</div>"
       ],
       "metadata": {},
       "output_type": "pyout",
       "prompt_number": 17,
       "text": [
        "     x  y  s_1  s_2  P  b\n",
        "s_1  3  4    1    0  0  6\n",
        "s_2  1 -1    0    1  0  1\n",
        "P    1 -1    0    0  1  0\n",
        "\n",
        "[3 rows x 6 columns]"
       ]
      }
     ],
     "prompt_number": 17
    },
    {
     "cell_type": "markdown",
     "metadata": {},
     "source": [
      "$$\\begin{align}\n",
      "y&=\\frac{3}{2}-\\frac{3}{4}x-\\frac{1}{4}s_1=1.5\\\\\n",
      "&=(1+\\frac{1}{2})-(0+\\frac{3}{4}x)-(0+\\frac{1}{4}s_1)\\\\\n",
      "&=(1)+(\\frac{1}{2}-\\frac{3}{4}x-\\frac{1}{4}s_1)\\\\\n",
      "\\end{align}$$\n",
      "thus:\n",
      "$$\\begin{align}\n",
      "\\frac{1}{2}-\\frac{3}{4}x-\\frac{1}{4}s_1\\leq 0\\\\\n",
      "\\end{align}$$\n",
      "\n",
      "$$\\begin{align}\n",
      "\\text{Min }  x - y\\\\\n",
      "\\text{Subject to}:\\\\\n",
      "3x+4y+s_1 = 6 \\\\\n",
      "x-y \\leq 1 \\\\\n",
      "-\\frac{3}{4}x-\\frac{1}{4}s_1\\leq -\\frac{1}{2}\\\\\n",
      "x,y \\geq 0\\\\\n",
      "x,y \\in Z\n",
      "\\end{align}$$"
     ]
    },
    {
     "cell_type": "code",
     "collapsed": false,
     "input": [
      "x=np.arange(-3,10,0.5)\n",
      "c_1=-1*(0.75)*x+3.0/2\n",
      "c_2=x-1\n",
      "\n",
      "#print c_3\n",
      "f=lambda b:(x+b)\n",
      "plt.plot(x,c_1,'r',linewidth=3)\n",
      "plt.plot(x,c_2,'b',linewidth=3)\n",
      "\n",
      "feasible=np.array([[0,0],[0,1.5],[10.0/7,3.0/7],[1.0,0]])\n",
      "plt.gca().add_patch(plt.Polygon(feasible,color='gray'))\n",
      "map(lambda b:plt.plot(x,f(b),'-.k'),xrange(-3,9))\n",
      "plt.text(0,1.5,'(-1.5)',fontsize=12)\n",
      "plt.text(0,1,'(-1)',fontsize=12)\n",
      "plt.xlim(0,3)\n",
      "_=plt.ylim(0,5)"
     ],
     "language": "python",
     "metadata": {},
     "outputs": [
      {
       "metadata": {},
       "output_type": "display_data",
       "png": "[encoded data removed]",
       "text": [
        "<matplotlib.figure.Figure at 0x10872fad0>"
       ]
      }
     ],
     "prompt_number": 19
    },
    {
     "cell_type": "code",
     "collapsed": false,
     "input": [
      "f=np.array([1,-1,0])\n",
      "W=np.array([[1,-1,0],[-3.0/4,0,-1.0/4],[-1,0,0],[0,-1,0],[0,0,-1]])\n",
      "B=np.array([1,-1.0/2,0,0,0])\n",
      "W_eq=np.array([[3,4,1]])\n",
      "B_eq=np.array([6])\n",
      "\n",
      "res= mlab.linprog(f,W,B,W_eq,B_eq)\n",
      "print res\n",
      "print 'z: ', f.dot(res)"
     ],
     "language": "python",
     "metadata": {},
     "outputs": [
      {
       "output_type": "stream",
       "stream": "stdout",
       "text": [
        "[  2.95855784e-10   1.00000000e+00   2.00000000e+00]\n",
        "z:  -0.999999999679\n"
       ]
      }
     ],
     "prompt_number": 20
    },
    {
     "cell_type": "code",
     "collapsed": false,
     "input": [
      "A=np.array([[3,4,1,0,0,0,6],[1,-1,0,1,0,0,1],[-3.0/4,0,-1.0/4,0,1,0,-1.0/2],[-1,1,0,0,0,1,0]])\n",
      "pd.DataFrame(A,index=['s_1','s_2','t_1','P'],columns=['x','y','s_1','s_2','t','P','b'])"
     ],
     "language": "python",
     "metadata": {},
     "outputs": [
      {
       "html": [
        "<div style=\"max-height:1000px;max-width:1500px;overflow:auto;\">\n",
        "<table border=\"1\" class=\"dataframe\">\n",
        "  <thead>\n",
        "    <tr style=\"text-align: right;\">\n",
        "      <th></th>\n",
        "      <th>x</th>\n",
        "      <th>y</th>\n",
        "      <th>s_1</th>\n",
        "      <th>s_2</th>\n",
        "      <th>t</th>\n",
        "      <th>P</th>\n",
        "      <th>b</th>\n",
        "    </tr>\n",
        "  </thead>\n",
        "  <tbody>\n",
        "    <tr>\n",
        "      <th>s_1</th>\n",
        "      <td> 3.00</td>\n",
        "      <td> 4</td>\n",
        "      <td> 1.00</td>\n",
        "      <td> 0</td>\n",
        "      <td> 0</td>\n",
        "      <td> 0</td>\n",
        "      <td> 6.0</td>\n",
        "    </tr>\n",
        "    <tr>\n",
        "      <th>s_2</th>\n",
        "      <td> 1.00</td>\n",
        "      <td>-1</td>\n",
        "      <td> 0.00</td>\n",
        "      <td> 1</td>\n",
        "      <td> 0</td>\n",
        "      <td> 0</td>\n",
        "      <td> 1.0</td>\n",
        "    </tr>\n",
        "    <tr>\n",
        "      <th>t_1</th>\n",
        "      <td>-0.75</td>\n",
        "      <td> 0</td>\n",
        "      <td>-0.25</td>\n",
        "      <td> 0</td>\n",
        "      <td> 1</td>\n",
        "      <td> 0</td>\n",
        "      <td>-0.5</td>\n",
        "    </tr>\n",
        "    <tr>\n",
        "      <th>P</th>\n",
        "      <td>-1.00</td>\n",
        "      <td> 1</td>\n",
        "      <td> 0.00</td>\n",
        "      <td> 0</td>\n",
        "      <td> 0</td>\n",
        "      <td> 1</td>\n",
        "      <td> 0.0</td>\n",
        "    </tr>\n",
        "  </tbody>\n",
        "</table>\n",
        "<p>4 rows \u00d7 7 columns</p>\n",
        "</div>"
       ],
       "metadata": {},
       "output_type": "pyout",
       "prompt_number": 22,
       "text": [
        "        x  y   s_1  s_2  t  P    b\n",
        "s_1  3.00  4  1.00    0  0  0  6.0\n",
        "s_2  1.00 -1  0.00    1  0  0  1.0\n",
        "t_1 -0.75  0 -0.25    0  1  0 -0.5\n",
        "P   -1.00  1  0.00    0  0  1  0.0\n",
        "\n",
        "[4 rows x 7 columns]"
       ]
      }
     ],
     "prompt_number": 22
    },
    {
     "cell_type": "heading",
     "level": 4,
     "metadata": {},
     "source": [
      "Question 4"
     ]
    },
    {
     "cell_type": "markdown",
     "metadata": {},
     "source": [
      "$$\\begin{align}\n",
      "\\text{Max }  4x_1+3x_2+x_3\\\\\n",
      "\\text{Subject to}:\\\\\n",
      "4x_1+2x_2+x_3 \\leq 10 \\\\\n",
      "3x_1+4x_2+2x_3 \\leq 14 \\\\\n",
      "2x_1+x_2+3x_3 \\leq 7 \\\\\n",
      "x_i \\geq 0\\\\\n",
      "x_i \\in Z\n",
      "\\end{align}$$"
     ]
    },
    {
     "cell_type": "code",
     "collapsed": false,
     "input": [
      "model = pulp.LpProblem('Question 4', pulp.LpMaximize)\n",
      "# make a list of ingredients\n",
      "var_set = ['x_1', 'x_2','x_3']\n",
      "# create a dictionary of pulp variables with keys from ingredients\n",
      "# the default lower bound is -inf\n",
      "\n",
      "x = pulp.LpVariable.dict('%s', var_set, lowBound =0, cat=pulp.LpInteger)\n",
      "cost = dict(zip(var_set, [4,3,1]))\n",
      "model += sum( [cost[i] * x[i] for i in var_set])\n",
      "c_1={'x_1':4,\n",
      "     'x_2':2,\n",
      "     'x_3':1}\n",
      "c_2={'x_1':3,\n",
      "     'x_2':4,\n",
      "     'x_3':2}\n",
      "c_3={'x_1':2,\n",
      "     'x_2':1,\n",
      "     'x_3':3}\n",
      "model += sum([c_1[i]*x[i] for i in var_set]) <= 10\n",
      "model += sum([c_2[i]*x[i] for i in var_set]) <= 14\n",
      "model += sum([c_3[i]*x[i] for i in var_set]) <= 7\n",
      "print model\n",
      "model.solve()\n",
      "for i in var_set:\n",
      "    print '%s: %s'%(i,x[i].value())\n",
      "vals=np.array([float(x[i].value()) for i in var_set])\n",
      "np.dot([4,3,3],vals)"
     ],
     "language": "python",
     "metadata": {},
     "outputs": [
      {
       "output_type": "stream",
       "stream": "stdout",
       "text": [
        "Question 4:\n",
        "MAXIMIZE\n",
        "4*x_1 + 3*x_2 + 1*x_3 + 0\n",
        "SUBJECT TO\n",
        "_C1: 4 x_1 + 2 x_2 + x_3 <= 10\n",
        "\n",
        "_C2: 3 x_1 + 4 x_2 + 2 x_3 <= 14\n",
        "\n",
        "_C3: 2 x_1 + x_2 + 3 x_3 <= 7\n",
        "\n",
        "VARIABLES\n",
        "0 <= x_1 Integer\n",
        "0 <= x_2 Integer\n",
        "0 <= x_3 Integer\n",
        "\n",
        "x_1: 2.0\n",
        "x_2: 1.0\n",
        "x_3: 0.0\n"
       ]
      },
      {
       "metadata": {},
       "output_type": "pyout",
       "prompt_number": 23,
       "text": [
        "11.0"
       ]
      }
     ],
     "prompt_number": 23
    },
    {
     "cell_type": "code",
     "collapsed": false,
     "input": [
      "def do_row(A,R,C):\n",
      "    def check(r):\n",
      "        if r!=R:\n",
      "            return True\n",
      "        else:\n",
      "            return False\n",
      "    def row_op(r):\n",
      "        A[r,:]+=-A[r,C]*A[R,:]/A[R,C]\n",
      "    map(row_op,filter(check,xrange(A.shape[0])))\n",
      "    A[R,:]=A[R,:]/A[R,C]"
     ],
     "language": "python",
     "metadata": {},
     "outputs": [],
     "prompt_number": 26
    },
    {
     "cell_type": "code",
     "collapsed": false,
     "input": [
      "f=np.array([-4,-3,-1])\n",
      "W=np.array([[4,2,1],[3,4,2],[2,1,3],[-1,0,0],[0,-1,0],[0,0,-1]])\n",
      "B=np.array([10,14,7,0,0,0])\n",
      "res= mlab.linprog(f,W,B)\n",
      "print res\n",
      "print 'z: ', f.dot(res)"
     ],
     "language": "python",
     "metadata": {},
     "outputs": [
      {
       "output_type": "stream",
       "stream": "stdout",
       "text": [
        "[  1.20000000e+00   2.60000000e+00   1.71098691e-11]\n",
        "z:  -12.6\n"
       ]
      }
     ],
     "prompt_number": 43
    },
    {
     "cell_type": "code",
     "collapsed": false,
     "input": [
      "A=np.array([[4,2,1,1,0,0,0,10],[3,4,2,0,1,0,0,14],[2,1,3,0,0,1,0,7],[-4,-3,-1,0,0,0,1,0]])*1.0\n",
      "\n",
      "do_row(A,0,0)\n",
      "do_row(A,1,1)\n",
      "\n",
      "A[2,:]=A[2,:]/A[2,2]\n",
      "#print 2*A[0,:]+2*A[1,:]+A[2,:]\n",
      "pd.DataFrame(A,index=['s_1','s_2','s_3','P'],columns=['x_1','x_2','x_3','s_1','s_2','s_3','P','b'])"
     ],
     "language": "python",
     "metadata": {},
     "outputs": [
      {
       "html": [
        "<div style=\"max-height:1000px;max-width:1500px;overflow:auto;\">\n",
        "<table border=\"1\" class=\"dataframe\">\n",
        "  <thead>\n",
        "    <tr style=\"text-align: right;\">\n",
        "      <th></th>\n",
        "      <th>x_1</th>\n",
        "      <th>x_2</th>\n",
        "      <th>x_3</th>\n",
        "      <th>s_1</th>\n",
        "      <th>s_2</th>\n",
        "      <th>s_3</th>\n",
        "      <th>P</th>\n",
        "      <th>b</th>\n",
        "    </tr>\n",
        "  </thead>\n",
        "  <tbody>\n",
        "    <tr>\n",
        "      <th>s_1</th>\n",
        "      <td> 1</td>\n",
        "      <td> 0</td>\n",
        "      <td> 0.0</td>\n",
        "      <td> 0.4</td>\n",
        "      <td>-0.2</td>\n",
        "      <td> 0.0</td>\n",
        "      <td> 0</td>\n",
        "      <td>  1.2</td>\n",
        "    </tr>\n",
        "    <tr>\n",
        "      <th>s_2</th>\n",
        "      <td> 0</td>\n",
        "      <td> 1</td>\n",
        "      <td> 0.5</td>\n",
        "      <td>-0.3</td>\n",
        "      <td> 0.4</td>\n",
        "      <td> 0.0</td>\n",
        "      <td> 0</td>\n",
        "      <td>  2.6</td>\n",
        "    </tr>\n",
        "    <tr>\n",
        "      <th>s_3</th>\n",
        "      <td> 0</td>\n",
        "      <td> 0</td>\n",
        "      <td> 1.0</td>\n",
        "      <td>-0.2</td>\n",
        "      <td> 0.0</td>\n",
        "      <td> 0.4</td>\n",
        "      <td> 0</td>\n",
        "      <td>  0.8</td>\n",
        "    </tr>\n",
        "    <tr>\n",
        "      <th>P</th>\n",
        "      <td> 0</td>\n",
        "      <td> 0</td>\n",
        "      <td> 0.5</td>\n",
        "      <td> 0.7</td>\n",
        "      <td> 0.4</td>\n",
        "      <td> 0.0</td>\n",
        "      <td> 1</td>\n",
        "      <td> 12.6</td>\n",
        "    </tr>\n",
        "  </tbody>\n",
        "</table>\n",
        "<p>4 rows \u00d7 8 columns</p>\n",
        "</div>"
       ],
       "metadata": {},
       "output_type": "pyout",
       "prompt_number": 31,
       "text": [
        "     x_1  x_2  x_3  s_1  s_2  s_3  P     b\n",
        "s_1    1    0  0.0  0.4 -0.2  0.0  0   1.2\n",
        "s_2    0    1  0.5 -0.3  0.4  0.0  0   2.6\n",
        "s_3    0    0  1.0 -0.2  0.0  0.4  0   0.8\n",
        "P      0    0  0.5  0.7  0.4  0.0  1  12.6\n",
        "\n",
        "[4 rows x 8 columns]"
       ]
      }
     ],
     "prompt_number": 31
    },
    {
     "cell_type": "markdown",
     "metadata": {},
     "source": [
      "\n",
      "$$\\begin{align}\n",
      "x_1&=-\\frac{56}{10}-2x_2-\\frac{6}{10}s_2+\\frac{4}{10}s_3\\\\\n",
      "&=-5\\frac{3}{5}-2x_2-\\frac{3}{5}s_2+\\frac{2}{5}s_3\\\\\n",
      "&=1 +1 +  \\{\\frac{1}{5}-\\frac{2}{5}s_1-\\frac{4}{5}s_2\\}\\\\\n",
      "\\end{align}$$\n",
      "thus:\n",
      "$$\\begin{align}\n",
      "\\frac{1}{5}-\\frac{2}{5}s_1-\\frac{4}{5}s_2\\leq 0\\\\\n",
      "\\end{align}$$\n",
      "\n",
      "$$\\begin{align}\n",
      "\\text{Max }  4x_1+3x_2+x_3\\\\\n",
      "\\text{Subject to}:\\\\\n",
      "4x_1+2x_2+x_3 +s_1= 10 \\\\\n",
      "3x_1+4x_2+2x_3+s_2 = 14 \\\\\n",
      "2x_1+x_2+3x_3 \\leq 7 \\\\\n",
      "-\\frac{2}{5}s_1-\\frac{4}{5}s_2\\leq -\\frac{1}{5}\\\\\n",
      "x_i \\geq 0\\\\\n",
      "x_i \\in Z\n",
      "\\end{align}$$"
     ]
    },
    {
     "cell_type": "code",
     "collapsed": false,
     "input": [
      "f=np.array([-4,-3,-1,0])\n",
      "W=np.array([[3,4,2,0],[2,1,3,0],[-1,0,0,0],[0,-1,0,0],[0,0,-1,0],[0,0,0,-1],[0,-1.0/2,-1.0/4,-1.0/4]])\n",
      "print W\n",
      "B=np.array([14,7,0,0,0,0,-1.0/2])\n",
      "print B\n",
      "W_eq=np.array([[4,2,1,1]])\n",
      "B_eq=np.array([10])\n",
      "\n",
      "res= mlab.linprog(f,W,B,W_eq,B_eq)\n",
      "print res\n",
      "print 'z: ', f.dot(res)"
     ],
     "language": "python",
     "metadata": {},
     "outputs": [
      {
       "output_type": "stream",
       "stream": "stdout",
       "text": [
        "[[ 3.    4.    2.    0.  ]\n",
        " [ 2.    1.    3.    0.  ]\n",
        " [-1.    0.    0.    0.  ]\n",
        " [ 0.   -1.    0.    0.  ]\n",
        " [ 0.    0.   -1.    0.  ]\n",
        " [ 0.    0.    0.   -1.  ]\n",
        " [ 0.   -0.5  -0.25 -0.25]]\n",
        "[ 14.    7.    0.    0.    0.    0.   -0.5]\n"
       ]
      },
      {
       "output_type": "stream",
       "stream": "stdout",
       "text": [
        "[  1.20000000e+00   2.60000000e+00   2.77191248e-09   1.82848225e-09]\n",
        "z:  -12.5999999939\n"
       ]
      }
     ],
     "prompt_number": 162
    },
    {
     "cell_type": "code",
     "collapsed": false,
     "input": [
      "A=np.array([[4,2,1,1,0,0,0,0,10],[3,4,2,0,1,0,0,0,14],[2,1,3,0,0,1,0,0,7],[0,-1.0/2,-1.0/4,-1.0/4,0,0,1,0,-1.0/2],[-4,-3,-1,0,0,0,0,1,0]])\n",
      "pd.DataFrame(A,index=['s_1','s_2','s_3','t_1','P'],columns=['x_1','x_2','x_3','s_1','s_2','s_3','t_1','P','b'])"
     ],
     "language": "python",
     "metadata": {},
     "outputs": [
      {
       "html": [
        "<div style=\"max-height:1000px;max-width:1500px;overflow:auto;\">\n",
        "<table border=\"1\" class=\"dataframe\">\n",
        "  <thead>\n",
        "    <tr style=\"text-align: right;\">\n",
        "      <th></th>\n",
        "      <th>x_1</th>\n",
        "      <th>x_2</th>\n",
        "      <th>x_3</th>\n",
        "      <th>s_1</th>\n",
        "      <th>s_2</th>\n",
        "      <th>s_3</th>\n",
        "      <th>t_1</th>\n",
        "      <th>P</th>\n",
        "      <th>b</th>\n",
        "    </tr>\n",
        "  </thead>\n",
        "  <tbody>\n",
        "    <tr>\n",
        "      <th>s_1</th>\n",
        "      <td> 4</td>\n",
        "      <td> 2.0</td>\n",
        "      <td> 1.00</td>\n",
        "      <td> 1.00</td>\n",
        "      <td> 0</td>\n",
        "      <td> 0</td>\n",
        "      <td> 0</td>\n",
        "      <td> 0</td>\n",
        "      <td> 10.0</td>\n",
        "    </tr>\n",
        "    <tr>\n",
        "      <th>s_2</th>\n",
        "      <td> 3</td>\n",
        "      <td> 4.0</td>\n",
        "      <td> 2.00</td>\n",
        "      <td> 0.00</td>\n",
        "      <td> 1</td>\n",
        "      <td> 0</td>\n",
        "      <td> 0</td>\n",
        "      <td> 0</td>\n",
        "      <td> 14.0</td>\n",
        "    </tr>\n",
        "    <tr>\n",
        "      <th>s_3</th>\n",
        "      <td> 2</td>\n",
        "      <td> 1.0</td>\n",
        "      <td> 3.00</td>\n",
        "      <td> 0.00</td>\n",
        "      <td> 0</td>\n",
        "      <td> 1</td>\n",
        "      <td> 0</td>\n",
        "      <td> 0</td>\n",
        "      <td>  7.0</td>\n",
        "    </tr>\n",
        "    <tr>\n",
        "      <th>t_1</th>\n",
        "      <td> 0</td>\n",
        "      <td>-0.5</td>\n",
        "      <td>-0.25</td>\n",
        "      <td>-0.25</td>\n",
        "      <td> 0</td>\n",
        "      <td> 0</td>\n",
        "      <td> 1</td>\n",
        "      <td> 0</td>\n",
        "      <td> -0.5</td>\n",
        "    </tr>\n",
        "    <tr>\n",
        "      <th>P</th>\n",
        "      <td>-4</td>\n",
        "      <td>-3.0</td>\n",
        "      <td>-1.00</td>\n",
        "      <td> 0.00</td>\n",
        "      <td> 0</td>\n",
        "      <td> 0</td>\n",
        "      <td> 0</td>\n",
        "      <td> 1</td>\n",
        "      <td>  0.0</td>\n",
        "    </tr>\n",
        "  </tbody>\n",
        "</table>\n",
        "<p>5 rows \u00d7 9 columns</p>\n",
        "</div>"
       ],
       "metadata": {},
       "output_type": "pyout",
       "prompt_number": 160,
       "text": [
        "     x_1  x_2   x_3   s_1  s_2  s_3  t_1  P     b\n",
        "s_1    4  2.0  1.00  1.00    0    0    0  0  10.0\n",
        "s_2    3  4.0  2.00  0.00    1    0    0  0  14.0\n",
        "s_3    2  1.0  3.00  0.00    0    1    0  0   7.0\n",
        "t_1    0 -0.5 -0.25 -0.25    0    0    1  0  -0.5\n",
        "P     -4 -3.0 -1.00  0.00    0    0    0  1   0.0\n",
        "\n",
        "[5 rows x 9 columns]"
       ]
      }
     ],
     "prompt_number": 160
    },
    {
     "cell_type": "markdown",
     "metadata": {},
     "source": [
      "$$\\begin{align}\n",
      "x_2&=\\frac{7}{2}-\\frac{3}{4}x_1-\\frac{1}{2}x_3-\\frac{1}{4}s_2=1.2\\\\\n",
      "&=(3+\\frac{1}{2})-(0+\\frac{3}{4}x_1)-(0+\\frac{1}{2}x_3)-(0+\\frac{1}{4}s_2)\\\\\n",
      "&=(3)+(\\frac{1}{2}-\\frac{3}{4}x_1-\\frac{1}{2}x_3-\\frac{1}{4}s_2)\\\\\\\\\n",
      "\\end{align}$$\n",
      "thus:\n",
      "$$\\begin{align}\n",
      "\\frac{1}{2}-\\frac{3}{4}x_1-\\frac{1}{2}x_3-\\frac{1}{4}s_2 \\leq 0\n",
      "\\end{align}$$\n",
      "\n",
      "$$\\begin{align}\n",
      "\\text{Max }  4x_1+3x_2+x_3\\\\\n",
      "\\text{Subject to}:\\\\\n",
      "4x_1+2x_2+x_3 \\leq 10 \\\\\n",
      "3x_1+4x_2+2x_3 \\leq 14 \\\\\n",
      "2x_1+x_2+3x_3 \\leq 7 \\\\\n",
      "-\\frac{1}{2}x_2-\\frac{1}{4}x_3-\\frac{1}{4}s_1\\leq -\\frac{1}{2}\\\\\n",
      "-\\frac{3}{4}x_1-\\frac{1}{2}x_3-\\frac{1}{4}s_2 \\leq -\\frac{1}{2}\\\\\n",
      "x_i \\geq 0\\\\\n",
      "x_i \\in Z\n",
      "\\end{align}$$\n"
     ]
    },
    {
     "cell_type": "code",
     "collapsed": false,
     "input": [
      "f=np.array([-4,-3,-1,0,0])\n",
      "W=np.array([[2,1,3,0,0],\n",
      "            [-1,0,0,0,0],\n",
      "            [0,-1,0,0,0],\n",
      "            [0,0,-1,0,0],\n",
      "            [0,0,0,-1,0],\n",
      "            [0,0,0,0,-1],\n",
      "            [0,-1.0/2,-1.0/4,-1.0/4,0],\n",
      "            [-3.0/4,0,-1.0/2,0,-1.0/4]])\n",
      "print W\n",
      "B=np.array([7,0,0,0,0,-1.0/2,-1.0/2])\n",
      "print B\n",
      "W_eq=np.array([[4,2,1,1,0],[3,4,2,0,1]])\n",
      "B_eq=np.array([10,14])\n",
      "\n",
      "#res= mlab.linprog(f,W,B,W_eq,B_eq)\n",
      "#print res\n",
      "#print 'z: ', f.dot(res)"
     ],
     "language": "python",
     "metadata": {},
     "outputs": [
      {
       "output_type": "stream",
       "stream": "stdout",
       "text": [
        "[[ 2.    1.    3.    0.    0.  ]\n",
        " [-1.    0.    0.    0.    0.  ]\n",
        " [ 0.   -1.    0.    0.    0.  ]\n",
        " [ 0.    0.   -1.    0.    0.  ]\n",
        " [ 0.    0.    0.   -1.    0.  ]\n",
        " [ 0.    0.    0.    0.   -1.  ]\n",
        " [ 0.   -0.5  -0.25 -0.25  0.  ]\n",
        " [-0.75  0.   -0.5   0.   -0.25]]\n",
        "[ 7.   0.   0.   0.   0.  -0.5 -0.5]\n"
       ]
      }
     ],
     "prompt_number": 1
    },
    {
     "cell_type": "heading",
     "level": 4,
     "metadata": {},
     "source": [
      "Question 5"
     ]
    },
    {
     "cell_type": "markdown",
     "metadata": {},
     "source": [
      "Decision variables:"
     ]
    },
    {
     "cell_type": "markdown",
     "metadata": {},
     "source": [
      "$$\\begin{align}\n",
      "\\text{Max: } \\sum_1^6 r_i p_i\\\\\n",
      "\\text{Subject to:}\\\\\n",
      "\\sum_1^6 c_{1i} p_i \\leq 250\\\\\n",
      "\\sum_1^6 c_{2i} p_i \\leq 75\\\\\n",
      "\\sum_1^6 c_{3i} p_i \\leq 50\\\\\n",
      "\\sum_1^6 c_{4i} p_i \\leq 50\\\\\n",
      "\\sum_1^6 c_{5i} p_i \\leq 50\\\\\n",
      "\\end{align}$$"
     ]
    },
    {
     "cell_type": "markdown",
     "metadata": {},
     "source": [
      "Where $r_i$ represents revenue for project $i$,$c_{ki}$ represents costs for project $i$ at year $k$ and $p_i=0/1$ represents whether project $i$ is selected."
     ]
    },
    {
     "cell_type": "code",
     "collapsed": false,
     "input": [
      "R=np.array([141,187,121,83,262,127])\n",
      "C=np.array([[75,25,20,15,10],\n",
      "            [90,35,0,0,30],\n",
      "            [60,15,15,15,15],\n",
      "            [30,20,10,5,5],\n",
      "            [100,25,20,20,20],\n",
      "            [50,20,10,30,40],\n",
      "            ])\n",
      "W=C.T\n",
      "B=np.array([250,75,50,50,50])\n",
      "res= mlab.bintprog(-1*R,W,B)\n",
      "print res\n",
      "print 'z: ', R.dot(res)"
     ],
     "language": "python",
     "metadata": {},
     "outputs": [
      {
       "output_type": "stream",
       "stream": "stdout",
       "text": [
        "[ 1.  0.  0.  1.  1.  0.]\n",
        "z:  486.0\n"
       ]
      }
     ],
     "prompt_number": 5
    }
   ],
   "metadata": {}
  }
 ]
}