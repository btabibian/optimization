{
 "metadata": {
  "name": "",
  "signature": "sha256:ad285a51b1d2c312e93b964914d3bdcae5d89fcb243c655c01d6fa82dd5377af"
 },
 "nbformat": 3,
 "nbformat_minor": 0,
 "worksheets": [
  {
   "cells": [
    {
     "cell_type": "markdown",
     "metadata": {},
     "source": [
      "Convex Optimization\n",
      "========"
     ]
    },
    {
     "cell_type": "markdown",
     "metadata": {},
     "source": [
      "##Convex Optimization Problems\n",
      "\n",
      "This is the third notebook of the series going through Convex Optimizaion. The topics here are following MOOC [Convex Optimization](https://class.stanford.edu/courses/Engineering/CVX101) course by Stephen Boyd at Stanford. "
     ]
    },
    {
     "cell_type": "markdown",
     "metadata": {},
     "source": [
      "###Convex Optimization in standard form"
     ]
    },
    {
     "cell_type": "markdown",
     "metadata": {},
     "source": [
      "A convex optimization problem is one of the form:\n",
      "\n",
      "\\begin{align}\n",
      "\\text{minimize }& f_0(x)\\\\\n",
      "\\text{subject to }& f_i(x) \\leq 0, i=1,\\dots,m\\\\\n",
      "& a_i^Tx=0 , i=1,\\dots,p\\\\\n",
      "\\end{align}\n",
      "\n",
      "where $f_0,\\dots,f_m$ are convex functions and equality constraints are affine."
     ]
    },
    {
     "cell_type": "markdown",
     "metadata": {},
     "source": [
      "+ feasible set of a convex optimization problem is convex: $D=\\bigcap_{i=0}^m   \\textbf{dom }f_i \\cap \\bigcap_{j=0}^p \\textbf{dom }h_j$\n"
     ]
    },
    {
     "cell_type": "markdown",
     "metadata": {},
     "source": [
      "###Local and global optima"
     ]
    },
    {
     "cell_type": "markdown",
     "metadata": {},
     "source": [
      "For any **convex optimization problem**, any *locally optimal* point is also *(globally) optimal*.\n",
      "\n",
      "> Suppose: \n",
      "\n",
      "> $f_0(x)=\\text{inf }\\{f_0(z)|z \\text{ feasible }, \\parallel z-x \\parallel_2 \\leq R\\}$ for some R.\n",
      "\n",
      "> Suppose $x$ is not globally optimal. Then there is a feasible $y$ such that $f_0(y)<f_0(x)$ and $\\parallel y-x\\parallel_2>R$.\n",
      "\n",
      "> Now consider the point $z$:\n",
      "\n",
      "> $z=(1-\\theta)x+\\theta y, \\theta=\\frac{R}{2\\parallel y-x\\parallel_2}$\n",
      "\n",
      "> and therefore $\\parallel z-x\\parallel_2=R/2<R$.\n",
      "\n",
      "> By convexity of $f_0$ we have:\n",
      "\n",
      "> $f_0(z)\\leq (1-\\theta)f_0(x)+\\theta f_0(y)<f_0(x)$\n",
      "\n",
      "> Which is a contradiction to earlier assumption and therefore there exist no feasible $y$ with $f_0(y)<f_0(x)$.\n",
      "\n"
     ]
    },
    {
     "cell_type": "markdown",
     "metadata": {},
     "source": [
      "### Optimality criterion for differentiable $f_0$\n",
      "\n",
      "Suppose $f_0$ in a convex optimization problem is differentiable, so that for all $x,y \\in \\textbf{dom } f_0$,\n",
      "\n",
      "$f_0(y)\\geq f_0(x)+\\nabla f_0(x)^T(y-x)$\n",
      "\n",
      "Let $X$ denote the feasible set,\n",
      "\n",
      "$X=\\{x|f_i(x)\\leq0,i=1,\\dots,m,h_i(x)=0,i=1,\\dots,p\\}$\n",
      "\n",
      "Then $x$ is *optimal* iff $x\\in X$ and:\n",
      "\n",
      "$\\nabla f_0(x)^T(y-x)\\geq 0 \\text{ for all } y\\in X$.\n",
      "\n",
      "----"
     ]
    },
    {
     "cell_type": "markdown",
     "metadata": {},
     "source": [
      "#### Problems with equality constraints only\n",
      "\n",
      "\\begin{align}\n",
      "\\text{minimize }& f_0(x)\\\\\n",
      "\\text{subject to }& Ax=b\\\\\n",
      "\\end{align}\n",
      "\n",
      "Based on the optimizality condition for $x$ we have:\n",
      "\\begin{align}\n",
      "\\nabla f_0(x)^T(y-x)\\geq 0 & \\text{ for all } y , Ay=b\\\\\n",
      "\\end{align}\n",
      "\n",
      "Which can be shown that :\n",
      "\n",
      "\\begin{align}\n",
      "\\nabla f_0(x)+A^T\\nu=0 & \\text{ for some }\\nu\n",
      "\\end{align}\n",
      "\n",
      "This derives the Lagrange Multiplier optimality."
     ]
    },
    {
     "cell_type": "markdown",
     "metadata": {},
     "source": [
      "#### Minimization over nonnegative orthant\n",
      "\n",
      "\\begin{align}\n",
      "\\text{minimize }& f_0(x)\\\\\n",
      "\\text{subject to }& x \\succeq 0\\\\\n",
      "\\end{align}\n",
      "\n",
      "Based on the optimizality condition for $x \\succeq 0$ we have:\n",
      "\\begin{align}\n",
      "\\nabla f_0(x)^T(y-x)\\geq 0 & \\text{ for all } y , x \\succeq 0\\\\\n",
      "\\end{align}\n",
      "\n",
      "Which can be shown that holds when:\n",
      "\n",
      "\\begin{align}\n",
      "\\nabla f_0(x)^T X=0\\\\\n",
      "x\\succeq 0,\\nabla f_0(x)\\succeq 0\\\\\n",
      "\\end{align}\n",
      "\n",
      "Because both $x$ and $\\nabla f_0(x)$ are nonnegative in every element therefore it must be the case that sparsity patterns of two vectors are complimentary.\n"
     ]
    },
    {
     "cell_type": "markdown",
     "metadata": {},
     "source": [
      "----\n",
      "\n",
      "### Equivalent convex problems\n",
      "\n",
      "Two problems are (informally) equivalent if the solution of one is readily obtained from the solution of the other, and vice versa.\n",
      "\n",
      "#### Eliminating equality constraints.\n",
      "\n",
      "All equality constrainst are of the form:\n",
      "\n",
      "\\begin{align}\n",
      "Ax=b\\\\\n",
      "\\end{align}\n",
      "\n",
      "which can be eliminated by finding a particular $x_0$ of $Ax=b$, and a mtrix F whose range is the nullspace of A.\n",
      "\n",
      "\\begin{align}\n",
      "\\text{ minimize }&f_0(Fz+x_0)\\\\\n",
      "\\text{subject to }&f_i(Fz+x_0)\\leq 0\\\\\n",
      "\\end{align}\n",
      "\n",
      "#### Introducing equality constraints\n",
      "\n",
      "\\begin{align}\n",
      "\\text{ minimize }&f_0(A_0x+b_0)\\\\\n",
      "\\text{subject to }&f_i(A_ix+b_i)\\leq 0 & i=1\\dots m\\\\\n",
      "\\end{align}\n",
      " \n",
      "is equivalent to:\n",
      "\n",
      "\\begin{align}\n",
      "\\text{ minimize(over x, $y_i$) }&f_0(y_0)\\\\\n",
      "\\text{subject to }&f_i(y_i)\\leq 0 & i=1\\dots m\\\\\n",
      "& y_i=A_i x+b_i& i=0\\dots m\\\\\n",
      "\\end{align}\n",
      "\n",
      "#### Introducing slack variables for linear inequalities\n",
      "\n",
      "\\begin{align}\n",
      "\\text{ minimize }&f_0(x)\\\\\n",
      "\\text{subject to }&a_i^Tx\\leq b_i & i=1\\dots m\\\\\n",
      "\\end{align}\n",
      " \n",
      "is equivalent to:\n",
      "\n",
      "\\begin{align}\n",
      "\\text{ minimize }&f_0(x)\\\\\n",
      "\\text{subject to }&a_i^Tx+ s_i= b_i & i=1\\dots m\\\\\n",
      "&s_i\\geq 0,i=0\\dots m\n",
      "\\end{align}"
     ]
    },
    {
     "cell_type": "markdown",
     "metadata": {},
     "source": [
      "#### epigraph form\n",
      "Any convex optimization problem can be converted to epigraph form:\n",
      "\n",
      "\\begin{align}\n",
      "\\text{minimize }& t\\\\\n",
      "\\text{subject to }& f_0(x)-t\\leq 0\\\\\n",
      "& f_i(x)\\leq 0& i=1,\\dots,m\\\\\n",
      "&a_i^Tx=b_i& i=1,\\dots,p\\\\\n",
      "\\end{align}\n",
      "\n",
      "therefore *linear objective* is **universal** for convex optimization\n",
      "\n",
      "#### Minimizing over some variables\n",
      "\\begin{align}\n",
      "\\text{ minimize }&f_0(x_0,x_1)\\\\\n",
      "\\text{subject to }&f_i(x_1)\\leq 0 & i=1\\dots m\\\\\n",
      "\\end{align}\n",
      "\n",
      "is equivalent\n",
      "\n",
      "\\begin{align}\n",
      "\\text{ minimize }& \\tilde{f}_0(x_1)\\\\\n",
      "\\text{subject to }&f_i(x_1)\\leq 0 & i=1\\dots m\\\\\n",
      "\\end{align}\n",
      "\n",
      "where $\\tilde{f}_0(x_1)=inf_{x_2} f_0(x_0,x_1)$\n"
     ]
    },
    {
     "cell_type": "markdown",
     "metadata": {},
     "source": [
      "### Quasiconvex optimization\n",
      "\n",
      "\\begin{align}\n",
      "\\text{ minimize }&f_0(x) && \\text{quasiconvex function}\\\\\n",
      "\\text{subject to }&f_i(x)\\leq 0 & i=0,\\dots,m& \\text{convex functions}\\\\ \n",
      "&Ax=b\\\\\n",
      "\\end{align}\n",
      "\n",
      "For these problems $x$ is optimal *if*:\n",
      "\n",
      "\\begin{align}\n",
      "x \\in X, \\nabla f_0(x)^T(y-x)>0 \\text{ for all } y \\in X \\backslash \\{x\\}\n",
      "\\end{align}\n",
      "\n",
      "Notes:\n",
      "\n",
      "+ The condition is only sufficient for optimality.\n",
      "+ The condition requires $\\nabla f_0(x)$ be nonzero."
     ]
    },
    {
     "cell_type": "markdown",
     "metadata": {},
     "source": [
      "------\n",
      "\n",
      "###Linear Programming"
     ]
    },
    {
     "cell_type": "markdown",
     "metadata": {},
     "source": [
      "\\begin{align}\n",
      "\\text{ minimize }&c^Tx+d \\\\\n",
      "\\text{subject to }&Gx\\leq 0 \\\\ \n",
      "&Ax=b\\\\\n",
      "\\end{align}"
     ]
    },
    {
     "cell_type": "code",
     "collapsed": false,
     "input": [
      "import cvxpy as cvp\n",
      "import cvxopt\n",
      "import mpl_toolkits.mplot3d.axes3d as p3\n",
      "import matplotlib.pyplot as plt"
     ],
     "language": "python",
     "metadata": {},
     "outputs": [],
     "prompt_number": 1
    },
    {
     "cell_type": "code",
     "collapsed": false,
     "input": [
      "x=cvp.Variable(rows=3)\n",
      "c=np.array([[7,8,9]])\n",
      "b=np.array([10,8])\n",
      "G=np.array([[2,1],[3,1],[2,2]])\n",
      "print 'C:\\n',c.T\n",
      "print 'b:\\n',b.T\n",
      "print 'G:\\n',G.T\n",
      "constraints = [ x>=0,G.T*x <= b]\n",
      "objective1 = cvp.Minimize(-1*c*x)\n",
      "p1 = cvp.Problem(objective1, constraints)\n",
      "p1.solve()\n",
      "print 'optimal point:\\n',x.value"
     ],
     "language": "python",
     "metadata": {},
     "outputs": [
      {
       "output_type": "stream",
       "stream": "stdout",
       "text": [
        "C:\n",
        "[[7]\n",
        " [8]\n",
        " [9]]\n",
        "b:\n",
        "[10  8]\n",
        "G:\n",
        "[[2 3 2]\n",
        " [1 1 2]]\n",
        "optimal point:\n",
        "[ 2.00e+00]\n",
        "[ 5.40e-07]\n",
        "[ 3.00e+00]\n",
        "\n"
       ]
      }
     ],
     "prompt_number": 2
    },
    {
     "cell_type": "code",
     "collapsed": false,
     "input": [
      "fig=plt.figure()\n",
      "ax = fig.gca(projection='3d')\n",
      "x = np.arange(0, 5, 0.1)\n",
      "y = np.arange(0, 5, 0.1)\n",
      "\n",
      "#Plot first constraints\n",
      "xx, yy = np.meshgrid(x, y)\n",
      "z=5-xx-1.5*yy\n",
      "z[z<0]=np.nan\n",
      "ax.plot_wireframe(xx,yy,z,  rstride=4, cstride=4, alpha=0.4)\n",
      "\n",
      "#Plot second constraints\n",
      "z=4-0.5*xx-0.5*yy\n",
      "z[z<0]=np.nan\n",
      "ax.plot_wireframe(xx,yy,z, rstride=2, cstride=2, alpha=0.4,color=\"red\")\n",
      "\n",
      "#Plot intersection line of two constraints.\n",
      "yt=1-0.5*x\n",
      "yt[yt<0]=np.nan\n",
      "zt=5-x-1.5*yt\n",
      "zt[zt<0]=np.nan\n",
      "ax.plot(x,yt,zs=zt)\n",
      "\n",
      "#Plot level surfaces of the objective function.\n",
      "def draw_plt(b):\n",
      "    z=b/9.0-7.0/9*xx-8.0/9*yy\n",
      "    z[z<0]=np.nan\n",
      "    if b==40:\n",
      "        v=1\n",
      "    else:\n",
      "        v=2\n",
      "    ax.plot_wireframe(xx,yy,z, rstride=v, cstride=v, alpha=0.4,color=\"grey\")\n",
      "map(draw_plt,np.arange(0,45,10))\n",
      "plt.plot(2,0,zs=[3],marker='d')\n",
      "ax.set_xlim(0,5)\n",
      "ax.set_ylim(0,5)\n",
      "ax.set_zlim(0,5)\n",
      "ax.set_xlabel('x')\n",
      "ax.set_ylabel('y')\n",
      "ax.view_init(elev=30, azim=145)"
     ],
     "language": "python",
     "metadata": {},
     "outputs": [
      {
       "output_type": "stream",
       "stream": "stderr",
       "text": [
        "-c:21: RuntimeWarning: invalid value encountered in less\n"
       ]
      },
      {
       "metadata": {},
       "output_type": "display_data",
       "png": "[encoded data removed]",
       "text": [
        "<matplotlib.figure.Figure at 0x108ad7f90>"
       ]
      }
     ],
     "prompt_number": 3
    },
    {
     "cell_type": "markdown",
     "metadata": {},
     "source": [
      "#### Chebyshev center of polyhedron\n",
      "\n",
      "Chebyshev center of\n",
      "\n",
      "$P=\\{x|a_i^Tx\\leq b_i,i=1\\dots m\\}$\n",
      "\n",
      "is center of largest inscribed ball:\n",
      "\n",
      "$B=\\{x_c+u \\vert \\parallel u \\parallel_2 \\leq r \\}$\n",
      "\n",
      "> $a_i^T x\\leq b_i$ for all $x \\in B$ iff:\n",
      "\n",
      ">  $sup\\{a_i^T(x_c+u)|\\parallel u \\parallel_2 \\leq r \\}=a_i^Tx_c+r \\parallel a_i \\parallel_2 \\leq b_i$\n",
      "\n",
      "> hence: \\begin{align}\n",
      "\\text{ maximize }&r \\\\\n",
      "\\text{subject to }&a_i^Tx_c+r\\parallel a_i \\parallel_2 \\leq b_i & i=1\\dots m \\\\ \n",
      "\\end{align}\n",
      "\n"
     ]
    },
    {
     "cell_type": "code",
     "collapsed": false,
     "input": [
      "from __future__ import division\n",
      "\n",
      "# From CVXPy examples\n",
      "# Taken from CVX website http://cvxr.com/cvx/examples/\n",
      "# Example: Compute and display the Chebyshev center of a 2D polyhedron\n",
      "# Ported from cvx matlab to cvxpy by Misrab Faizullah-Khan\n",
      "# Original comments below\n",
      "\n",
      "# Boyd & Vandenberghe, \"Convex Optimization\"\n",
      "# Joelle Skaf - 08/16/05\n",
      "# (a figure is generated)\n",
      "#\n",
      "# The goal is to find the largest Euclidean ball (i.e. its center and\n",
      "# radius) that lies in a polyhedron described by linear inequalites in this\n",
      "# fashion: P = { x : a_i'*x <= b_i, i=1,...,m } where x is in R^2\n",
      "\n",
      "# Create the problem\n",
      "\n",
      "# variables\n",
      "radius = cvp.Variable(1)\n",
      "center = cvp.Variable(2)\n",
      "\n",
      "# constraints\n",
      "a1 = cvxopt.matrix([2,1], (2,1))\n",
      "a2 = cvxopt.matrix([2,-1], (2,1))\n",
      "a3 = cvxopt.matrix([-1,2], (2,1))\n",
      "a4 = cvxopt.matrix([-1,-2], (2,1))\n",
      "\n",
      "b = cvxopt.matrix(1, (4,1))\n",
      "\n",
      "\n",
      "constraints = [ a1.T*center + np.linalg.norm(a1, 2)*radius <= b[0],\n",
      "                a2.T*center + np.linalg.norm(a2, 2)*radius <= b[1],\n",
      "                a3.T*center + np.linalg.norm(a3, 2)*radius <= b[2],\n",
      "                a4.T*center + np.linalg.norm(a4, 2)*radius <= b[3] ]\n",
      "\n",
      "\n",
      "# objective\n",
      "objective = cvp.Maximize(radius)\n",
      "\n",
      "p = cvp.Problem(objective, constraints)\n",
      "# The optimal objective is returned by p.solve().\n",
      "result = p.solve()\n",
      "# The optimal value\n",
      "print radius.value\n",
      "print center.value\n",
      "\n",
      "\n",
      "# Now let's plot it\n",
      "x = np.linspace(-2, 2, 256,endpoint=True)\n",
      "theta = np.linspace(0,2*np.pi,100)\n",
      "\n",
      "# plot the constraints\n",
      "plt.plot( x, -x*a1[0]/a1[1] + b[0]/a1[1])\n",
      "plt.plot( x, -x*a2[0]/a2[1] + b[0]/a2[1])\n",
      "plt.plot( x, -x*a3[0]/a3[1] + b[0]/a3[1])\n",
      "plt.plot( x, -x*a4[0]/a4[1] + b[0]/a4[1])\n",
      "\n",
      "\n",
      "# plot the solution\n",
      "plt.plot( center.value[0] + radius.value*cos(theta), center.value[1] + radius.value*sin(theta) )\n",
      "plt.plot( center.value[0], center.value[1], 'x', markersize=10 )\n",
      "\n",
      "# label\n",
      "plt.title('Chebyshev Centering')\n",
      "plt.xlabel('x1')\n",
      "plt.ylabel('x2')\n",
      "\n",
      "plt.axis([-1, 1, -1, 1])\n",
      "\n",
      "plt.show()"
     ],
     "language": "python",
     "metadata": {},
     "outputs": [
      {
       "output_type": "stream",
       "stream": "stdout",
       "text": [
        "0.447213535807\n",
        "[-9.50e-08]\n",
        "[ 1.67e-17]\n",
        "\n"
       ]
      },
      {
       "metadata": {},
       "output_type": "display_data",
       "png": "[encoded data removed]",
       "text": [
        "<matplotlib.figure.Figure at 0x1053430d0>"
       ]
      }
     ],
     "prompt_number": 10
    },
    {
     "cell_type": "markdown",
     "metadata": {},
     "source": [
      "### Quadratic Programming\n",
      "\n",
      "\\begin{align}\n",
      "\\text{ minimize }&1/2x^TP x+q^T x +r\\\\\n",
      "\\text{subject to }&Gx\\leq h \\\\ \n",
      "&Ax=b\\\\\n",
      "\\end{align}\n",
      "\n",
      "$P \\in S_{+}^n$ and therefore objective is convex.\n",
      "\n",
      "+ Least square is an example of QP:\n",
      "\n",
      "\\begin{align}\n",
      "\\text{ minimize }&\\parallel Ax-b\\parallel_2^2 \\\\\n",
      "\\text{subject to }&Gx\\leq h \\\\ \n",
      "&Ax=b\\\\\n",
      "\\end{align}\n",
      "\n",
      "> \\begin{align}\n",
      "\\parallel Ax-b\\parallel_2^2 &= (Ax-b)^T(Ax-b)\\\\\n",
      "&=(x^TA^T-b^T)(Ax-b)\\\\\n",
      "&=x^TA^TAx-x^TA^Tb-b^TAx+b^Tb\n",
      "\\end{align}\n"
     ]
    },
    {
     "cell_type": "code",
     "collapsed": false,
     "input": [
      "x=np.arange(0,5,0.05)\n",
      "y=3*x+np.random.normal(scale=3,size=x.shape[0])+4\n",
      "A=np.concatenate((np.ones((x.shape[0],1)),x.reshape((x.shape[0],1))),axis=1)\n",
      "b=y.reshape((x.shape[0],1))\n",
      "xx=cvp.Variable(rows=2)\n",
      "\n",
      "objective1 = cvp.Minimize(cvp.quad_form(xx,np.dot(A.T,A))-xx.T*np.dot(A.T,b)-np.dot(b.T,A)*xx)\n",
      "#\n",
      "p1 = cvp.Problem(objective1)\n",
      "p1.solve()\n",
      "print 'Optimal Point:\\n',xx.value\n",
      "\n",
      "plt.scatter(x,y)\n",
      "var=np.sqrt(np.var(y.reshape(x.shape[0],1)-np.dot(A,xx.value)))\n",
      "\n",
      "plt.fill_between(x,np.dot(A,xx.value)[:,0]+var,y2=np.dot(A,xx.value)[:,0]-var \n",
      "                 , facecolor='grey', alpha=0.2)\n",
      "plt.plot(x,np.dot(A,xx.value))\n",
      "plt.grid()"
     ],
     "language": "python",
     "metadata": {},
     "outputs": [
      {
       "output_type": "stream",
       "stream": "stdout",
       "text": [
        "Optimal Point:\n",
        "[ 3.45e+00]\n",
        "[ 3.34e+00]\n",
        "\n"
       ]
      },
      {
       "metadata": {},
       "output_type": "display_data",
       "png": "[encoded data removed]",
       "text": [
        "<matplotlib.figure.Figure at 0x108ab8b50>"
       ]
      }
     ],
     "prompt_number": 5
    },
    {
     "cell_type": "markdown",
     "metadata": {},
     "source": [
      "## Contents:\n",
      "1. [Convex Sets](http://nbviewer.ipython.org/github/btabibian/optimization/blob/master/src/Convex%20Sets.ipynb)\n",
      "\n",
      "2. [Convexity Preserving Operations](http://nbviewer.ipython.org/github/btabibian/optimization/blob/master/src/Convexity%20Preserving%20Operations.ipynb)\n",
      "\n",
      "3. [Convex Optimization Problems](http://nbviewer.ipython.org/github/btabibian/optimization/blob/master/src/Convex%20Optimization%20Problems.ipynb)"
     ]
    },
    {
     "cell_type": "code",
     "collapsed": false,
     "input": [
      "from IPython.core.display import HTML\n",
      "def css_styling():\n",
      "    styles = open(\"../styles/custom.css\", \"r\").read()\n",
      "    return HTML(styles)\n",
      "css_styling()"
     ],
     "language": "python",
     "metadata": {},
     "outputs": [
      {
       "html": [
        "<link href='http://fonts.googleapis.com/css?family=Fenix' rel='stylesheet' type='text/css'>\n",
        "<link href='http://fonts.googleapis.com/css?family=Alegreya+Sans:100,300,400,500,700,800,900,100italic,300italic,400italic,500italic,700italic,800italic,900italic' rel='stylesheet' type='text/css'>\n",
        "<link href='http://fonts.googleapis.com/css?family=Source+Code+Pro:300,400' rel='stylesheet' type='text/css'>\n",
        "<style>\n",
        "    @font-face {\n",
        "        font-family: \"Computer Modern\";\n",
        "        src: url('http://mirrors.ctan.org/fonts/cm-unicode/fonts/otf/cmunss.otf');\n",
        "    }\n",
        "    div.cell{\n",
        "        width:800px;\n",
        "        margin-left:16% !important;\n",
        "        margin-right:auto;\n",
        "    }\n",
        "    h1 {\n",
        "        font-family: 'Alegreya Sans', sans-serif;\n",
        "    }\n",
        "    h2 {\n",
        "        font-family: 'Fenix', serif;\n",
        "    }\n",
        "    h3{\n",
        "\t\tfont-family: 'Fenix', serif;\n",
        "        margin-top:12px;\n",
        "        margin-bottom: 3px;\n",
        "       }\n",
        "\th4{\n",
        "\t\tfont-family: 'Fenix', serif;\n",
        "       }\n",
        "    h5 {\n",
        "        font-family: 'Alegreya Sans', sans-serif;\n",
        "    }\t   \n",
        "    div.text_cell_render{\n",
        "        font-family: 'Alegreya Sans',Computer Modern, \"Helvetica Neue\", Arial, Helvetica, Geneva, sans-serif;\n",
        "        line-height: 135%;\n",
        "        font-size: 120%;\n",
        "        width:600px;\n",
        "        margin-left:auto;\n",
        "        margin-right:auto;\n",
        "    }\n",
        "    .CodeMirror{\n",
        "            font-family: \"Source Code Pro\";\n",
        "\t\t\tfont-size: 90%;\n",
        "    }\n",
        "/*    .prompt{\n",
        "        display: None;\n",
        "    }*/\n",
        "    .text_cell_render h1 {\n",
        "        font-weight: 200;\n",
        "        font-size: 50pt;\n",
        "\t\tline-height: 100%;\n",
        "        color:#CD2305;\n",
        "        margin-bottom: 0.5em;\n",
        "        margin-top: 0.5em;\n",
        "        display: block;\n",
        "    }\t\n",
        "    .text_cell_render h5 {\n",
        "        font-weight: 300;\n",
        "        font-size: 16pt;\n",
        "        color: #CD2305;\n",
        "        font-style: italic;\n",
        "        margin-bottom: .5em;\n",
        "        margin-top: 0.5em;\n",
        "        display: block;\n",
        "    }\n",
        "    \n",
        "    .warning{\n",
        "        color: rgb( 240, 20, 20 )\n",
        "        }  \n",
        "</style>\n",
        "<script>\n",
        "    MathJax.Hub.Config({\n",
        "                        TeX: {\n",
        "                           extensions: [\"AMSmath.js\"]\n",
        "                           },\n",
        "                tex2jax: {\n",
        "                    inlineMath: [ ['$','$'], [\"\\\\(\",\"\\\\)\"] ],\n",
        "                    displayMath: [ ['$$','$$'], [\"\\\\[\",\"\\\\]\"] ]\n",
        "                },\n",
        "                displayAlign: 'center', // Change this to 'center' to center equations.\n",
        "                \"HTML-CSS\": {\n",
        "                    styles: {'.MathJax_Display': {\"margin\": 4}}\n",
        "                }\n",
        "        });\n",
        "</script>"
       ],
       "metadata": {},
       "output_type": "pyout",
       "prompt_number": 6,
       "text": [
        "<IPython.core.display.HTML at 0x108ad7490>"
       ]
      }
     ],
     "prompt_number": 6
    }
   ],
   "metadata": {}
  }
 ]
}